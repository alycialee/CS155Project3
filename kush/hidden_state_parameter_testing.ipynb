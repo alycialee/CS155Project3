{
 "cells": [
  {
   "cell_type": "code",
   "execution_count": 1,
   "metadata": {},
   "outputs": [
    {
     "name": "stderr",
     "output_type": "stream",
     "text": [
      "[nltk_data] Downloading package cmudict to\n",
      "[nltk_data]     /Users/kushaltirumala/nltk_data...\n",
      "[nltk_data]   Package cmudict is already up-to-date!\n"
     ]
    }
   ],
   "source": [
    "import numpy as np\n",
    "import matplotlib.pyplot as plt\n",
    "import itertools\n",
    "import nltk\n",
    "from nltk.corpus import cmudict\n",
    "nltk.download('cmudict')\n",
    "import pickle\n",
    "from HMM_sol import *"
   ]
  },
  {
   "cell_type": "code",
   "execution_count": 2,
   "metadata": {
    "collapsed": true
   },
   "outputs": [],
   "source": [
    "# Load in pickled preprocessed data\n",
    "\n",
    "file = open('../data/sonnets.pkl', 'rb')\n",
    "sonnets = pickle.load(file)\n",
    "file.close()\n",
    "\n",
    "file = open('../data/shakespeare_dics.pkl', 'rb')\n",
    "dic_to_ids, dic_to_syl, ids_to_dic, syl_to_dic = pickle.load(file)\n",
    "file.close()\n",
    "\n",
    "file = open('../data/dic_to_meter.pkl', 'rb')\n",
    "dic_to_meter = pickle.load(file)\n",
    "file.close()\n",
    "\n",
    "file = open('../data/meter_to_dic.pkl', 'rb')\n",
    "meter_to_dic = pickle.load(file)\n",
    "file.close()\n",
    "\n",
    "file = open('../data/shakespeare_rhymes.pkl', 'rb')\n",
    "rhyme_data_raw = pickle.load(file)\n",
    "file.close()"
   ]
  },
  {
   "cell_type": "code",
   "execution_count": 3,
   "metadata": {
    "collapsed": true
   },
   "outputs": [],
   "source": [
    "import copy\n",
    "\n",
    "tokenized_sonnet = []\n",
    "\n",
    "for i in range(len(sonnets)):\n",
    "    for j in range(len(sonnets[i])):\n",
    "        for k in range(len(sonnets[i][j])):\n",
    "            while len(tokenized_sonnet) < i + 1:\n",
    "                tokenized_sonnet.append([])\n",
    "            while len(tokenized_sonnet[i]) < j + 1:\n",
    "                tokenized_sonnet[i].append([])\n",
    "            while len(tokenized_sonnet[i][j]) < k + 1:\n",
    "                tokenized_sonnet[i][j].append([])\n",
    "            \n",
    "            tokenized_sonnet[i][j][k] = dic_to_ids[sonnets[i][j][k]]\n",
    "            \n",
    "tokenized_sonnet = np.array(tokenized_sonnet)"
   ]
  },
  {
   "cell_type": "code",
   "execution_count": 4,
   "metadata": {
    "collapsed": true
   },
   "outputs": [],
   "source": [
    "final_sonnet = []\n",
    "for sonnet in tokenized_sonnet:\n",
    "    for line in sonnet:\n",
    "        temp = line\n",
    "        final_sonnet.append(temp)"
   ]
  },
  {
   "cell_type": "markdown",
   "metadata": {},
   "source": [
    "# vary hidden states"
   ]
  },
  {
   "cell_type": "code",
   "execution_count": 8,
   "metadata": {
    "collapsed": true
   },
   "outputs": [],
   "source": [
    "def save_hmm(hmm, filename):\n",
    "    with open(\"models/\"+filename, 'wb') as f:\n",
    "        pickle.dump(hmm, f)"
   ]
  },
  {
   "cell_type": "code",
   "execution_count": 9,
   "metadata": {},
   "outputs": [
    {
     "name": "stdout",
     "output_type": "stream",
     "text": [
      "Iteration: 50\n",
      "Iteration: 100\n",
      "Iteration: 150\n",
      "Iteration: 200\n"
     ]
    },
    {
     "ename": "NameError",
     "evalue": "name 'HMM10' is not defined",
     "output_type": "error",
     "traceback": [
      "\u001b[0;31m---------------------------------------------------------------------------\u001b[0m",
      "\u001b[0;31mNameError\u001b[0m                                 Traceback (most recent call last)",
      "\u001b[0;32m<ipython-input-9-20a7ade08bb7>\u001b[0m in \u001b[0;36m<module>\u001b[0;34m\u001b[0m\n\u001b[1;32m      1\u001b[0m \u001b[0mHMM_10\u001b[0m \u001b[0;34m=\u001b[0m \u001b[0munsupervised_HMM\u001b[0m\u001b[0;34m(\u001b[0m\u001b[0mfinal_sonnet\u001b[0m\u001b[0;34m,\u001b[0m \u001b[0;36m10\u001b[0m\u001b[0;34m,\u001b[0m \u001b[0;36m200\u001b[0m\u001b[0;34m)\u001b[0m\u001b[0;34m\u001b[0m\u001b[0m\n\u001b[0;32m----> 2\u001b[0;31m \u001b[0msave_hmm\u001b[0m\u001b[0;34m(\u001b[0m\u001b[0mHMM10\u001b[0m\u001b[0;34m,\u001b[0m \u001b[0;34m\"hmm_hpt_10_200\"\u001b[0m\u001b[0;34m)\u001b[0m\u001b[0;34m\u001b[0m\u001b[0m\n\u001b[0m",
      "\u001b[0;31mNameError\u001b[0m: name 'HMM10' is not defined"
     ]
    }
   ],
   "source": [
    "HMM_10 = unsupervised_HMM(final_sonnet, 10, 200)"
   ]
  },
  {
   "cell_type": "code",
   "execution_count": 10,
   "metadata": {
    "collapsed": true
   },
   "outputs": [],
   "source": [
    "save_hmm(HMM_10, \"hmm_hpt_10_200\")"
   ]
  },
  {
   "cell_type": "code",
   "execution_count": 11,
   "metadata": {},
   "outputs": [
    {
     "name": "stdout",
     "output_type": "stream",
     "text": [
      "Iteration: 50\n",
      "Iteration: 100\n",
      "Iteration: 150\n",
      "Iteration: 200\n"
     ]
    }
   ],
   "source": [
    "HMM_2 = unsupervised_HMM(final_sonnet, 2, 200)\n",
    "save_hmm(HMM_2, \"hmm_hpt_2_200\")"
   ]
  },
  {
   "cell_type": "code",
   "execution_count": 12,
   "metadata": {},
   "outputs": [
    {
     "name": "stdout",
     "output_type": "stream",
     "text": [
      "Iteration: 50\n",
      "Iteration: 100\n",
      "Iteration: 150\n",
      "Iteration: 200\n"
     ]
    }
   ],
   "source": [
    "HMM_5 = unsupervised_HMM(final_sonnet, 5, 200)\n",
    "save_hmm(HMM_5, \"hmm_hpt_5_200\")"
   ]
  },
  {
   "cell_type": "code",
   "execution_count": 13,
   "metadata": {},
   "outputs": [
    {
     "name": "stdout",
     "output_type": "stream",
     "text": [
      "Iteration: 50\n",
      "Iteration: 100\n",
      "Iteration: 150\n",
      "Iteration: 200\n"
     ]
    }
   ],
   "source": [
    "HMM_20 = unsupervised_HMM(final_sonnet, 20, 200)\n",
    "save_hmm(HMM_20, \"hmm_hpt_20_200\")"
   ]
  },
  {
   "cell_type": "code",
   "execution_count": 14,
   "metadata": {},
   "outputs": [
    {
     "name": "stdout",
     "output_type": "stream",
     "text": [
      "Iteration: 50\n",
      "Iteration: 100\n",
      "Iteration: 150\n",
      "Iteration: 200\n"
     ]
    }
   ],
   "source": [
    "HMM_30 = unsupervised_HMM(final_sonnet, 30, 200)\n",
    "save_hmm(HMM_30, \"hmm_hpt_30_200\")"
   ]
  },
  {
   "cell_type": "markdown",
   "metadata": {},
   "source": [
    "# generate sonnets"
   ]
  },
  {
   "cell_type": "code",
   "execution_count": 21,
   "metadata": {
    "collapsed": true
   },
   "outputs": [],
   "source": [
    "def generate_emission_sequential(num_syl, dic_to_syl, dic_to_ids, dic_to_meter, A, O):\n",
    "    temp = np.array(O)\n",
    "    \n",
    "    emission = []\n",
    "    states = []\n",
    "    syllable_count = 0\n",
    "\n",
    "    # choose starting state\n",
    "    y_i = np.random.choice(range(len(O)), p=[1 / len(O) for i in range(len(O))])\n",
    "    \n",
    "    while syllable_count < num_syl:\n",
    "        states.append(y_i)\n",
    "        \n",
    "        # choose a word index\n",
    "        array = range(len(O[y_i]))\n",
    "        observation_index = np.random.choice(array, p=O[y_i])\n",
    "    \n",
    "        # Make sure we don't start off with too many syllables\n",
    "        while (dic_to_syl[ids_to_dic[observation_index]] != 0) and (syllable_count + dic_to_syl[ids_to_dic[observation_index]] > num_syl):\n",
    "            observation_index = np.random.choice(array, p=O[y_i])\n",
    "\n",
    "        word = ids_to_dic[observation_index]\n",
    "\n",
    "        syllable_count += dic_to_syl[word]\n",
    "        emission.append(dic_to_ids[word])\n",
    "        \n",
    "        # change states\n",
    "        array = range(len(A[y_i]))\n",
    "        y_i = np.random.choice(array, p=A[y_i])\n",
    "\n",
    "    return emission, states\n"
   ]
  },
  {
   "cell_type": "code",
   "execution_count": 26,
   "metadata": {
    "collapsed": true
   },
   "outputs": [],
   "source": [
    "def gen_sonnet(HMM):\n",
    "    for _ in range(14):\n",
    "        emission, states = generate_emission_sequential(10, dic_to_syl, dic_to_ids, dic_to_meter, HMM.A, HMM.O)\n",
    "        x = ' '.join([str(ids_to_dic[i]) for i in emission])\n",
    "        print(x)"
   ]
  },
  {
   "cell_type": "code",
   "execution_count": 28,
   "metadata": {},
   "outputs": [
    {
     "name": "stdout",
     "output_type": "stream",
     "text": [
      "looks if spies is for contracted set once\n",
      "thou spent then still them soon for in i that\n",
      "and in and see by invent is so too\n",
      "like each ride the night thy in no closet\n",
      "me never sun for thee thee yield in in\n",
      "life it by that show play my made in spot\n",
      "painter thy on of eyes on the nothing\n",
      "i blind and in your as these ever yet\n",
      "keep many that to where with fair welfare she\n",
      "youth's thy to let despite flower repay since\n",
      "so my like the for thy still thy than the\n",
      "and no writ shorn swear already fell thy\n",
      "steep-up till might whilst need true argument\n",
      "why call o own his pride thou face can whose\n"
     ]
    }
   ],
   "source": [
    "gen_sonnet(HMM_2)"
   ]
  },
  {
   "cell_type": "code",
   "execution_count": 29,
   "metadata": {},
   "outputs": [
    {
     "name": "stdout",
     "output_type": "stream",
     "text": [
      "were this basest from pleasure spent behind\n",
      "doth me weed love days my watery a that\n",
      "of thou sound compile princes any love\n",
      "thoughts hath thou fading may will fast your be\n",
      "aside men see that petty abide weeds\n",
      "i slave this torment wretched why cure in\n",
      "day sight upon this sigh saw flown that take\n",
      "rocks be in cures all thee night me green fell\n",
      "dull to but rage not for every reasons\n",
      "i so to did where in disgrace lost not\n",
      "the sweet to to thinks now thy thy preserve\n",
      "veil my two with to dregs my self chief course\n",
      "hung in the abuse and better with wish\n",
      "her ill spent all false brain sickle's he sight\n"
     ]
    }
   ],
   "source": [
    "gen_sonnet(HMM_5)"
   ]
  },
  {
   "cell_type": "code",
   "execution_count": 30,
   "metadata": {},
   "outputs": [
    {
     "name": "stdout",
     "output_type": "stream",
     "text": [
      "your feature behold dearer every that\n",
      "so the inconstant am mouthed put'st i\n",
      "thing against kind upon more and thee thee\n",
      "woo shall with skill a acknowledge of that\n",
      "all as this false blessed-fair things most old\n",
      "sweet can to the expressed all-tyrant that\n",
      "is in reason alone in i of many\n",
      "forgot and not through this never thy hours\n",
      "thou far doth yet night and say impeached being\n",
      "when i not i are night foul it who in\n",
      "so seeing and smell shows that this which but\n",
      "thou thrice rotten of it fierce eye being men\n",
      "undivided haste his call then beauty\n",
      "call the happy for as the good that hadst\n"
     ]
    }
   ],
   "source": [
    "gen_sonnet(HMM_10)"
   ]
  },
  {
   "cell_type": "code",
   "execution_count": 31,
   "metadata": {},
   "outputs": [
    {
     "name": "stdout",
     "output_type": "stream",
     "text": [
      "to love's show or i know whom these to me\n",
      "best spend wouldst but where foes wouldst i'll thee trust\n",
      "in love's truth woe the lovely friend be love\n",
      "of day nor hundred warrantise of our\n",
      "reproach house pen any bring of envy\n",
      "after womb feel miles importune love's that\n",
      "it by it till yet not man's love and since\n",
      "he me barren the triumph if shall to\n",
      "without my passion that erst maiden thy\n",
      "praise my glass give control repair praise thee\n",
      "is yours banquet thee more hide do i in\n",
      "survive which fortune's waiting with be rise\n",
      "i am record leave and to with living\n",
      "solemn if to which gentle thy in if\n"
     ]
    }
   ],
   "source": [
    "gen_sonnet(HMM_20)"
   ]
  },
  {
   "cell_type": "code",
   "execution_count": 32,
   "metadata": {},
   "outputs": [
    {
     "name": "stdout",
     "output_type": "stream",
     "text": [
      "wealth that of maiden lend not love brand no\n",
      "passed thy time and son are half thy gain wide\n",
      "under that i bloody fool doth greet not\n",
      "thee as the dead see of thine days were't come\n",
      "a conspire and none clouds decrepit thou\n",
      "why birth a the praise of to great and gave\n",
      "beauteous and when the subtleties to store\n",
      "if be memory looks with on prone or\n",
      "now bear they in it and so thee my lips\n",
      "to than i do sound for and beauty's sea\n",
      "needs lesson in from me acquaintance then\n",
      "me that she perceive mine to on riches\n",
      "for my pencil in remain mine since as\n",
      "in like sweet eyes to being parts that i in\n"
     ]
    }
   ],
   "source": [
    "gen_sonnet(HMM_30)"
   ]
  },
  {
   "cell_type": "code",
   "execution_count": null,
   "metadata": {
    "collapsed": true
   },
   "outputs": [],
   "source": []
  }
 ],
 "metadata": {
  "kernelspec": {
   "display_name": "Python 3",
   "language": "python",
   "name": "python3"
  },
  "language_info": {
   "codemirror_mode": {
    "name": "ipython",
    "version": 3
   },
   "file_extension": ".py",
   "mimetype": "text/x-python",
   "name": "python",
   "nbconvert_exporter": "python",
   "pygments_lexer": "ipython3",
   "version": "3.6.5"
  }
 },
 "nbformat": 4,
 "nbformat_minor": 2
}
