{
 "cells": [
  {
   "cell_type": "code",
   "execution_count": 1,
   "metadata": {
    "collapsed": true
   },
   "outputs": [],
   "source": [
    "import numpy as np\n",
    "import matplotlib.pyplot as plt\n",
    "import itertools\n",
    "import nltk\n",
    "from nltk.corpus import cmudict\n",
    "import pickle\n",
    "from HMM_sol import *"
   ]
  },
  {
   "cell_type": "code",
   "execution_count": 2,
   "metadata": {
    "collapsed": true
   },
   "outputs": [],
   "source": [
    "# Load in pickled preprocessed data\n",
    "\n",
    "file = open('../data/sonnets.pkl', 'rb')\n",
    "sonnets = pickle.load(file)\n",
    "file.close()\n",
    "\n",
    "file = open('../data/shakespeare_dics.pkl', 'rb')\n",
    "dic_to_ids, dic_to_syl, ids_to_dic, syl_to_dic = pickle.load(file)\n",
    "file.close()\n",
    "\n",
    "file = open('../data/dic_to_meter.pkl', 'rb')\n",
    "dic_to_meter = pickle.load(file)\n",
    "file.close()\n",
    "\n",
    "file = open('../data/meter_to_dic.pkl', 'rb')\n",
    "meter_to_dic = pickle.load(file)\n",
    "file.close()\n",
    "\n",
    "file = open('../data/shakespeare_rhymes.pkl', 'rb')\n",
    "rhyme_data_raw = pickle.load(file)\n",
    "file.close()"
   ]
  },
  {
   "cell_type": "code",
   "execution_count": 3,
   "metadata": {
    "collapsed": true
   },
   "outputs": [],
   "source": [
    "import copy\n",
    "\n",
    "tokenized_sonnet = []\n",
    "\n",
    "for i in range(len(sonnets)):\n",
    "    for j in range(len(sonnets[i])):\n",
    "        for k in range(len(sonnets[i][j])):\n",
    "            while len(tokenized_sonnet) < i + 1:\n",
    "                tokenized_sonnet.append([])\n",
    "            while len(tokenized_sonnet[i]) < j + 1:\n",
    "                tokenized_sonnet[i].append([])\n",
    "            while len(tokenized_sonnet[i][j]) < k + 1:\n",
    "                tokenized_sonnet[i][j].append([])\n",
    "            \n",
    "            tokenized_sonnet[i][j][k] = dic_to_ids[sonnets[i][j][k]]\n",
    "            \n",
    "tokenized_sonnet = np.array(tokenized_sonnet)"
   ]
  },
  {
   "cell_type": "code",
   "execution_count": 4,
   "metadata": {
    "collapsed": true
   },
   "outputs": [],
   "source": [
    "final_sonnet = []\n",
    "for sonnet in tokenized_sonnet:\n",
    "    for line in sonnet:\n",
    "        temp = line\n",
    "        final_sonnet.append(temp)"
   ]
  },
  {
   "cell_type": "code",
   "execution_count": null,
   "metadata": {
    "collapsed": true
   },
   "outputs": [],
   "source": []
  }
 ],
 "metadata": {
  "kernelspec": {
   "display_name": "Python 3",
   "language": "python",
   "name": "python3"
  },
  "language_info": {
   "codemirror_mode": {
    "name": "ipython",
    "version": 3
   },
   "file_extension": ".py",
   "mimetype": "text/x-python",
   "name": "python",
   "nbconvert_exporter": "python",
   "pygments_lexer": "ipython3",
   "version": "3.6.5"
  }
 },
 "nbformat": 4,
 "nbformat_minor": 2
}
