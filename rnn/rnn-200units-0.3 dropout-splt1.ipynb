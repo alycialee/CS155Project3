{
 "cells": [
  {
   "cell_type": "code",
   "execution_count": 1,
   "metadata": {},
   "outputs": [
    {
     "name": "stderr",
     "output_type": "stream",
     "text": [
      "Using TensorFlow backend.\n"
     ]
    }
   ],
   "source": [
    "import tensorflow as tf\n",
    "import numpy as np\n",
    "import pickle\n",
    "import itertools\n",
    "\n",
    "from keras.models import Sequential, model_from_json\n",
    "from keras.layers.core import Dense, Activation, Dropout\n",
    "from keras.layers.recurrent import LSTM\n",
    "from sklearn.model_selection import train_test_split"
   ]
  },
  {
   "cell_type": "code",
   "execution_count": 2,
   "metadata": {},
   "outputs": [],
   "source": [
    "def get_model(shape):\n",
    "    model = Sequential()\n",
    "    model.add(LSTM(200, return_sequences=True, input_shape=shape))\n",
    "    model.add(Dropout(0.3))\n",
    "    model.add(LSTM(200, return_sequences=False))\n",
    "    model.add(Dropout(0.3))\n",
    "    model.add(Dense(shape[1]))\n",
    "    model.add(Activation('softmax'))\n",
    "\n",
    "    model.compile(loss='categorical_crossentropy', optimizer='rmsprop')\n",
    "    \n",
    "    return model\n",
    "\n",
    "def train_model(model, X, y, val_data, epochs=10, batch_size=50):\n",
    "    history = model.fit(X, y, validation_data=val_data, epochs=epochs, batch_size=batch_size)\n",
    "    return history\n",
    "    \n",
    "def save(model, name):\n",
    "    model_json = model.to_json()\n",
    "    with open(name + '.json', \"w\") as json_file:\n",
    "        json_file.write(model_json)\n",
    "    # serialize weights to HDF5\n",
    "    model.save_weights(name + '.h5')\n",
    "\n",
    "def load(name):\n",
    "    # load json and create model\n",
    "    json_file = open(name + '.json', 'r')\n",
    "    loaded_model_json = json_file.read()\n",
    "    json_file.close()\n",
    "    loaded_model = model_from_json(loaded_model_json)\n",
    "    # load weights into new model\n",
    "    loaded_model.load_weights(name + \".h5\")\n",
    "    return model"
   ]
  },
  {
   "cell_type": "code",
   "execution_count": 3,
   "metadata": {},
   "outputs": [],
   "source": [
    "def get_sonnets(filename):\n",
    "    \"\"\" Returns entire txt file as string. \"\"\"\n",
    "    str = \"\"\n",
    "    with open(filename) as file:\n",
    "        for line in file:\n",
    "            line = line.strip()\n",
    "            if line.isdigit() == False and len(line) > 0:\n",
    "                str += line.lower() + \"\\n\"\n",
    "    return str"
   ]
  },
  {
   "cell_type": "code",
   "execution_count": 4,
   "metadata": {},
   "outputs": [
    {
     "name": "stdout",
     "output_type": "stream",
     "text": [
      "# chars in txt: 93674\n"
     ]
    }
   ],
   "source": [
    "file = 'data/shakespeare.txt'\n",
    "sons = get_sonnets(file)\n",
    "\n",
    "print (\"# chars in txt: \" + str(len(sons)))"
   ]
  },
  {
   "cell_type": "code",
   "execution_count": 5,
   "metadata": {},
   "outputs": [
    {
     "name": "stdout",
     "output_type": "stream",
     "text": [
      "{'b', 's', 'k', ')', ';', '-', 'p', '?', 'h', '\\n', 'o', 'n', 'd', '!', ' ', 'i', 'u', 'l', '(', 'x', 'j', 'w', ',', '.', 'r', 'g', 'f', 'v', 'c', 'a', 'm', 'e', ':', 'y', 'z', 't', 'q', \"'\"}\n",
      "# unique chars: 38\n"
     ]
    }
   ],
   "source": [
    "chars = set(sons) # get set of all characters\n",
    "print(chars)\n",
    "print (\"# unique chars: \" + str(len(chars)))\n",
    "\n",
    "# create mapping of characters to unique ids\n",
    "dic_char_to_id = dict((c, i) for i, c in enumerate(chars))\n",
    "dic_id_to_char = dict((i, c) for i, c in enumerate(chars))"
   ]
  },
  {
   "cell_type": "code",
   "execution_count": 6,
   "metadata": {},
   "outputs": [
    {
     "name": "stdout",
     "output_type": "stream",
     "text": [
      "# seqs:  46817\n"
     ]
    }
   ],
   "source": [
    "# create input, output sequences\n",
    "\n",
    "leng = 40\n",
    "step_size = 2\n",
    "seqs, nxt_char = [], []\n",
    "# take all possible subsequences of 40 consecutive characters\n",
    "for i in range(0, len(sons) - leng, step_size):\n",
    "    seqs.append(sons[i: i + leng])\n",
    "    nxt_char.append(sons[i + leng])\n",
    "print(\"# seqs: \", len(seqs))"
   ]
  },
  {
   "cell_type": "code",
   "execution_count": 7,
   "metadata": {},
   "outputs": [],
   "source": [
    "# convert seqs to one-hot encoding\n",
    "X = np.zeros((len(seqs), leng, len(chars)), dtype=np.bool)\n",
    "y = np.zeros((len(seqs), len(chars)), dtype=np.bool)\n",
    "\n",
    "for i, seq in enumerate(seqs):\n",
    "    for j, char in enumerate(seq):\n",
    "        X[i, j, dic_char_to_id[char]] = 1\n",
    "    y[i, dic_char_to_id[nxt_char[i]]] = 1"
   ]
  },
  {
   "cell_type": "code",
   "execution_count": 8,
   "metadata": {},
   "outputs": [],
   "source": [
    "x_train, x_test, y_train, y_test = train_test_split(X, y, test_size=0.2, random_state=42)"
   ]
  },
  {
   "cell_type": "code",
   "execution_count": 9,
   "metadata": {},
   "outputs": [],
   "source": [
    "model = get_model((leng, len(chars)))"
   ]
  },
  {
   "cell_type": "code",
   "execution_count": 10,
   "metadata": {},
   "outputs": [
    {
     "name": "stdout",
     "output_type": "stream",
     "text": [
      "Train on 37453 samples, validate on 9364 samples\n",
      "Epoch 1/10\n",
      "37453/37453 [==============================] - 102s 3ms/step - loss: 2.6954 - val_loss: 2.3906\n",
      "Epoch 2/10\n",
      "37453/37453 [==============================] - 117s 3ms/step - loss: 2.2164 - val_loss: 2.1384\n",
      "Epoch 3/10\n",
      "37453/37453 [==============================] - 243s 6ms/step - loss: 2.0499 - val_loss: 2.0004\n",
      "Epoch 4/10\n",
      "37453/37453 [==============================] - 322s 9ms/step - loss: 1.9428 - val_loss: 1.9360\n",
      "Epoch 5/10\n",
      "37453/37453 [==============================] - 289s 8ms/step - loss: 1.8699 - val_loss: 1.8534\n",
      "Epoch 6/10\n",
      "37453/37453 [==============================] - 272s 7ms/step - loss: 1.8073 - val_loss: 1.8213\n",
      "Epoch 7/10\n",
      "37453/37453 [==============================] - 262s 7ms/step - loss: 1.7519 - val_loss: 1.7957\n",
      "Epoch 8/10\n",
      "37453/37453 [==============================] - 265s 7ms/step - loss: 1.7016 - val_loss: 1.7627\n",
      "Epoch 9/10\n",
      "37453/37453 [==============================] - 254s 7ms/step - loss: 1.6554 - val_loss: 1.7504\n",
      "Epoch 10/10\n",
      "37453/37453 [==============================] - 276s 7ms/step - loss: 1.6087 - val_loss: 1.7434\n"
     ]
    }
   ],
   "source": [
    "history = train_model(model, x_train, y_train, (x_test, y_test))"
   ]
  },
  {
   "cell_type": "code",
   "execution_count": 11,
   "metadata": {},
   "outputs": [],
   "source": [
    "save(model, 'models/Shakespeare_200units_10_50_0.3DROPOUT_0.2split')\n",
    "\n",
    "#150 units, 200 units, epochs, batch_size, dropout"
   ]
  },
  {
   "cell_type": "code",
   "execution_count": 18,
   "metadata": {},
   "outputs": [
    {
     "data": {
      "image/png": "[encoded data removed]",
      "text/plain": [
       "<Figure size 432x288 with 1 Axes>"
      ]
     },
     "metadata": {
      "needs_background": "light"
     },
     "output_type": "display_data"
    }
   ],
   "source": [
    "from matplotlib import pyplot\n",
    "\n",
    "# plot train and validation loss\n",
    "pyplot.plot(history.history['loss'])\n",
    "pyplot.plot(history.history['val_loss'])\n",
    "pyplot.title('model train vs validation loss')\n",
    "pyplot.ylabel('loss')\n",
    "pyplot.xlabel('epoch')\n",
    "pyplot.legend(['train', 'validation'], loc='upper right')\n",
    "pyplot.savefig('visuals/Shakespeare_200units_10_50_0.3DROPOUT_0.2split_loss.png')\n",
    "pyplot.show()"
   ]
  },
  {
   "cell_type": "code",
   "execution_count": 13,
   "metadata": {},
   "outputs": [
    {
     "data": {
      "text/plain": [
       "1.74342774924739"
      ]
     },
     "execution_count": 13,
     "metadata": {},
     "output_type": "execute_result"
    }
   ],
   "source": [
    "min(history.history['val_loss']) # 1.7592611852973024"
   ]
  },
  {
   "cell_type": "code",
   "execution_count": 14,
   "metadata": {},
   "outputs": [
    {
     "data": {
      "text/plain": [
       "9"
      ]
     },
     "execution_count": 14,
     "metadata": {},
     "output_type": "execute_result"
    }
   ],
   "source": [
    "history.history['val_loss'].index(min(history.history['val_loss'])) # 10"
   ]
  },
  {
   "cell_type": "code",
   "execution_count": 15,
   "metadata": {},
   "outputs": [],
   "source": [
    "with open('Shakespeare_200units_10_50_0.3DROPOUT_0.2split.pkl', 'wb') as f:\n",
    "    pickle.dump(history, f)"
   ]
  },
  {
   "cell_type": "code",
   "execution_count": 16,
   "metadata": {},
   "outputs": [],
   "source": [
    "def sample(preds, temperature = 1.0):\n",
    "    ''' Helper function to sample an index from\n",
    "    a probability array. Taken from StackOverflow/\n",
    "    open source code on GitHub. '''\n",
    "\n",
    "    preds = np.asarray(preds).astype('float')\n",
    "    preds = np.log(preds) / temperature\n",
    "    preds[preds == np.inf] = 0\n",
    "\n",
    "    exp_preds = np.exp(preds)\n",
    "    preds = exp_preds / np.sum(exp_preds)\n",
    "    \n",
    "    return np.argmax(np.random.multinomial(1, preds, 1))"
   ]
  },
  {
   "cell_type": "code",
   "execution_count": 17,
   "metadata": {},
   "outputs": [
    {
     "name": "stdout",
     "output_type": "stream",
     "text": [
      "\n",
      "\n",
      "temperature = 1.5\n",
      "\n",
      "shall i compare thee to a summer's day?\n",
      "tim qeyel. thre knofow, aldion dosurngungay hnfw?\n",
      "if sight, flase, mearieds lled'ed shall ho gom:\n",
      "yet dhat then selfiy for wtot,,\n",
      "rucchiguhy nair my hold mly minmcs,,\n",
      "duik'ig you, kak, aby agoods grode, in qlees wadk,\n",
      "when yow my purys wothy ir i ruser,\n",
      "builth hellaming tigrt i  lave liss to might,\n",
      ". cum'pared it,\n",
      "ae acaprace to of dispingey'b call,\n",
      "af thou, on tlen?l, broot dutuley .nou' stest,\n",
      "thou feases ut heavy gover''s nungst\n",
      "bue aadhflloir ont grods as'erc-pbify now,\n",
      "peermetiof .kouad isprypbess du gruej,\n",
      "evay woth rysbing ounl nuture yio ,daber.,\n",
      "mido from to swletse ou' hif fall of mend.\n",
      "beaut'uss to time ass ma):nguevens cine.\n",
      "\n",
      "ir ho(o-ren seghen kprhsing sot no,,\n",
      "it that i trous awers adipar of seor,\n",
      "for me sfall nak consed fate bet,\n",
      "so feal othafs, abe urbisfwald not treec,\n",
      "row\n",
      "\n",
      "\n",
      "temperature = 0.75\n",
      "\n",
      "shall i compare thee to a summer's day?\n",
      "to fairs o thy prod of thee thought to bemold,\n",
      "the scerper my fair woth is with with menty dight.\n",
      "that i forcoured cansure then doth maveg,\n",
      "so been me fai hold they remome dear,\n",
      "and you in mught in strite hath should every mase,\n",
      "which with the porbaced are on\n",
      "then the seemen, the conconded and find,\n",
      "and hath is menters, and his shale uplave,\n",
      "and tree to the verver not for to de state,\n",
      "fut sing i so remones blacs,\n",
      "in singer the berte the are truse date to their row,\n",
      "love beling kouls from thee, not sle pise,\n",
      "thou ?orseace and your sore bear,\n",
      "and faple of the proming mines tame,\n",
      "and not he say i love star and shall bet,\n",
      "that for me sumber in the love.\n",
      "a a lothe with it belote of the are,\n",
      "then i burpless in the his seement flow,\n",
      "that a so thou grost, which me congerted,\n",
      "to thou aather the sig\n",
      "\n",
      "\n",
      "temperature = 0.25\n",
      "\n",
      "shall i compare thee to a summer's day?\n",
      "then i so dear the world be the worth,\n",
      "thou art the love when the prece of thee,\n",
      "and then i love the beauty of the fair,\n",
      "and then the love the far the love the stend,\n",
      "to the world the stromgh the dear my self,\n",
      "and then the love the love to see the fare,\n",
      "then i love in my self the falle of thee,\n",
      "and the love hath the from the will in thee,\n",
      "and therefore of the from the worth to the see,\n",
      "then in the farter in my self the preaser,\n",
      "that thou art then i love the love,\n",
      "thou art that with the from the world,\n",
      "which i me her for the can that with thee beauty,\n",
      "and in the love the see in the love,\n",
      "then i beauty on the worth my self,\n",
      "and sure the love the rade of the stare,\n",
      "that i beauty on the love's steed me,\n",
      "that thou art the will of the love,\n",
      "that then i love the world with the ment,\n",
      "and you dest \n"
     ]
    }
   ],
   "source": [
    "nchar = 800 # length of each line produced from preds\n",
    "for temp in [1.5, 0.75, 0.25]:\n",
    "    print( '\\n' + '\\n' + 'temperature = ' + str(temp) + '\\n')\n",
    "    \n",
    "    line = 'shall i compare thee to a summer\\'s day?\\n'\n",
    "    sentence = line\n",
    "    \n",
    "    for i in range(nchar):\n",
    "        x = np.zeros((1, leng, len(chars)))\n",
    "        for t, char in enumerate(sentence):\n",
    "            x[0, t, dic_char_to_id[char]] = 1\n",
    "\n",
    "        preds = model.predict(x, verbose=False)[0]\n",
    "        nxt_char = dic_id_to_char[sample(preds, temp)]\n",
    "\n",
    "        line += nxt_char\n",
    "        sentence = sentence[1:] + nxt_char\n",
    "        \n",
    "    print(line)"
   ]
  }
 ],
 "metadata": {
  "kernelspec": {
   "display_name": "Python 3",
   "language": "python",
   "name": "python3"
  },
  "language_info": {
   "codemirror_mode": {
    "name": "ipython",
    "version": 3
   },
   "file_extension": ".py",
   "mimetype": "text/x-python",
   "name": "python",
   "nbconvert_exporter": "python",
   "pygments_lexer": "ipython3",
   "version": "3.6.8"
  }
 },
 "nbformat": 4,
 "nbformat_minor": 2
}
