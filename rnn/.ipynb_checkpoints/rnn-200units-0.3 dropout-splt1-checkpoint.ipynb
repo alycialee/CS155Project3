{
 "cells": [
  {
   "cell_type": "code",
   "execution_count": 1,
   "metadata": {},
   "outputs": [
    {
     "name": "stderr",
     "output_type": "stream",
     "text": [
      "Using TensorFlow backend.\n"
     ]
    }
   ],
   "source": [
    "import tensorflow as tf\n",
    "import numpy as np\n",
    "import pickle\n",
    "import itertools\n",
    "\n",
    "from keras.models import Sequential, model_from_json\n",
    "from keras.layers.core import Dense, Activation, Dropout\n",
    "from keras.layers.recurrent import LSTM\n",
    "from sklearn.model_selection import train_test_split"
   ]
  },
  {
   "cell_type": "code",
   "execution_count": 2,
   "metadata": {},
   "outputs": [],
   "source": [
    "def get_model(shape):\n",
    "    model = Sequential()\n",
    "    model.add(LSTM(200, return_sequences=True, input_shape=shape))\n",
    "    model.add(Dropout(0.3))\n",
    "    model.add(LSTM(200, return_sequences=False))\n",
    "    model.add(Dropout(0.3))\n",
    "    model.add(Dense(shape[1]))\n",
    "    model.add(Activation('softmax'))\n",
    "\n",
    "    model.compile(loss='categorical_crossentropy', optimizer='rmsprop')\n",
    "    \n",
    "    return model\n",
    "\n",
    "def train_model(model, X, y, val_data, epochs=10, batch_size=50):\n",
    "    history = model.fit(X, y, validation_data=val_data, epochs=epochs, batch_size=batch_size)\n",
    "    return history\n",
    "    \n",
    "def save(model, name):\n",
    "    model_json = model.to_json()\n",
    "    with open(name + '.json', \"w\") as json_file:\n",
    "        json_file.write(model_json)\n",
    "    # serialize weights to HDF5\n",
    "    model.save_weights(name + '.h5')\n",
    "\n",
    "def load(name):\n",
    "    # load json and create model\n",
    "    json_file = open(name + '.json', 'r')\n",
    "    loaded_model_json = json_file.read()\n",
    "    json_file.close()\n",
    "    loaded_model = model_from_json(loaded_model_json)\n",
    "    # load weights into new model\n",
    "    loaded_model.load_weights(name + \".h5\")\n",
    "    return model"
   ]
  },
  {
   "cell_type": "code",
   "execution_count": 3,
   "metadata": {},
   "outputs": [],
   "source": [
    "def get_sonnets(filename):\n",
    "    \"\"\" Returns entire txt file as string. \"\"\"\n",
    "    str = \"\"\n",
    "    with open(filename) as file:\n",
    "        for line in file:\n",
    "            line = line.strip()\n",
    "            if line.isdigit() == False and len(line) > 0:\n",
    "                str += line.lower() + \"\\n\"\n",
    "    return str"
   ]
  },
  {
   "cell_type": "code",
   "execution_count": 4,
   "metadata": {},
   "outputs": [
    {
     "name": "stdout",
     "output_type": "stream",
     "text": [
      "# chars in txt: 93674\n"
     ]
    }
   ],
   "source": [
    "file = 'data/shakespeare.txt'\n",
    "sons = get_sonnets(file)\n",
    "\n",
    "print (\"# chars in txt: \" + str(len(sons)))"
   ]
  },
  {
   "cell_type": "code",
   "execution_count": 5,
   "metadata": {},
   "outputs": [
    {
     "name": "stdout",
     "output_type": "stream",
     "text": [
      "{';', 'g', \"'\", ' ', 'j', 'r', ':', 'y', 'v', 'c', 'l', 'e', 'f', ')', 'a', '\\n', 't', 'q', 'u', '(', 'k', '.', 'o', '-', 'i', 'z', 'h', 'm', ',', 'p', '!', 'w', 'd', 's', 'n', 'x', '?', 'b'}\n",
      "# unique chars: 38\n"
     ]
    }
   ],
   "source": [
    "chars = set(sons) # get set of all characters\n",
    "print(chars)\n",
    "print (\"# unique chars: \" + str(len(chars)))\n",
    "\n",
    "# create mapping of characters to unique ids\n",
    "dic_char_to_id = dict((c, i) for i, c in enumerate(chars))\n",
    "dic_id_to_char = dict((i, c) for i, c in enumerate(chars))"
   ]
  },
  {
   "cell_type": "code",
   "execution_count": 6,
   "metadata": {},
   "outputs": [
    {
     "name": "stdout",
     "output_type": "stream",
     "text": [
      "# seqs:  46817\n"
     ]
    }
   ],
   "source": [
    "# create input, output sequences\n",
    "\n",
    "leng = 40\n",
    "step_size = 2\n",
    "seqs, nxt_char = [], []\n",
    "# take all possible subsequences of 40 consecutive characters\n",
    "for i in range(0, len(sons) - leng, step_size):\n",
    "    seqs.append(sons[i: i + leng])\n",
    "    nxt_char.append(sons[i + leng])\n",
    "print(\"# seqs: \", len(seqs))"
   ]
  },
  {
   "cell_type": "code",
   "execution_count": 7,
   "metadata": {},
   "outputs": [],
   "source": [
    "# convert seqs to one-hot encoding\n",
    "X = np.zeros((len(seqs), leng, len(chars)), dtype=np.bool)\n",
    "y = np.zeros((len(seqs), len(chars)), dtype=np.bool)\n",
    "\n",
    "for i, seq in enumerate(seqs):\n",
    "    for j, char in enumerate(seq):\n",
    "        X[i, j, dic_char_to_id[char]] = 1\n",
    "    y[i, dic_char_to_id[nxt_char[i]]] = 1"
   ]
  },
  {
   "cell_type": "code",
   "execution_count": 8,
   "metadata": {},
   "outputs": [],
   "source": [
    "x_train, x_test, y_train, y_test = train_test_split(X, y, test_size=0.33, random_state=42)"
   ]
  },
  {
   "cell_type": "code",
   "execution_count": 9,
   "metadata": {},
   "outputs": [],
   "source": [
    "model = get_model((leng, len(chars)))"
   ]
  },
  {
   "cell_type": "code",
   "execution_count": 10,
   "metadata": {},
   "outputs": [
    {
     "name": "stdout",
     "output_type": "stream",
     "text": [
      "Train on 31367 samples, validate on 15450 samples\n",
      "Epoch 1/10\n",
      "31367/31367 [==============================] - 363s 12ms/step - loss: 2.7753 - val_loss: 2.4764\n",
      "Epoch 2/10\n",
      "31367/31367 [==============================] - 401s 13ms/step - loss: 2.2728 - val_loss: 2.1430\n",
      "Epoch 3/10\n",
      "31367/31367 [==============================] - 27402s 874ms/step - loss: 2.1050 - val_loss: 2.0514\n",
      "Epoch 4/10\n",
      "31367/31367 [==============================] - 374s 12ms/step - loss: 1.9991 - val_loss: 1.9582\n",
      "Epoch 5/10\n",
      "31367/31367 [==============================] - 1037s 33ms/step - loss: 1.9188 - val_loss: 1.8887\n",
      "Epoch 6/10\n",
      "31367/31367 [==============================] - 253s 8ms/step - loss: 1.8497 - val_loss: 1.8616\n",
      "Epoch 7/10\n",
      "31367/31367 [==============================] - 326s 10ms/step - loss: 1.7954 - val_loss: 1.8363\n",
      "Epoch 8/10\n",
      "31367/31367 [==============================] - 340s 11ms/step - loss: 1.7384 - val_loss: 1.8315\n",
      "Epoch 9/10\n",
      "31367/31367 [==============================] - 342s 11ms/step - loss: 1.6913 - val_loss: 1.7828\n",
      "Epoch 10/10\n",
      "31367/31367 [==============================] - 280s 9ms/step - loss: 1.6526 - val_loss: 1.7588\n"
     ]
    }
   ],
   "source": [
    "history = train_model(model, x_train, y_train, (x_test, y_test))"
   ]
  },
  {
   "cell_type": "code",
   "execution_count": 11,
   "metadata": {},
   "outputs": [],
   "source": [
    "save(model, 'models/Shakespeare_200units_10_50_0.3DROPOUT')\n",
    "\n",
    "#150 units, 200 units, epochs, batch_size, dropout"
   ]
  },
  {
   "cell_type": "code",
   "execution_count": 18,
   "metadata": {},
   "outputs": [
    {
     "data": {
      "image/png": "[encoded data removed]",
      "text/plain": [
       "<Figure size 432x288 with 1 Axes>"
      ]
     },
     "metadata": {
      "needs_background": "light"
     },
     "output_type": "display_data"
    }
   ],
   "source": [
    "from matplotlib import pyplot\n",
    "\n",
    "# plot train and validation loss\n",
    "pyplot.plot(history.history['loss'])\n",
    "pyplot.plot(history.history['val_loss'])\n",
    "pyplot.title('model train vs validation loss')\n",
    "pyplot.ylabel('loss')\n",
    "pyplot.xlabel('epoch')\n",
    "pyplot.legend(['train', 'validation'], loc='upper right')\n",
    "pyplot.savefig('visuals/Shakespeare_200units_10_50_0.3DROPOUT_loss.png')\n",
    "pyplot.show()"
   ]
  },
  {
   "cell_type": "code",
   "execution_count": 13,
   "metadata": {},
   "outputs": [
    {
     "data": {
      "text/plain": [
       "1.7587553409310992"
      ]
     },
     "execution_count": 13,
     "metadata": {},
     "output_type": "execute_result"
    }
   ],
   "source": [
    "min(history.history['val_loss']) # 1.7592611852973024"
   ]
  },
  {
   "cell_type": "code",
   "execution_count": 14,
   "metadata": {},
   "outputs": [
    {
     "data": {
      "text/plain": [
       "9"
      ]
     },
     "execution_count": 14,
     "metadata": {},
     "output_type": "execute_result"
    }
   ],
   "source": [
    "history.history['val_loss'].index(min(history.history['val_loss'])) # 10"
   ]
  },
  {
   "cell_type": "code",
   "execution_count": 15,
   "metadata": {},
   "outputs": [],
   "source": [
    "with open('Shakespeare_200units_10_50_0.3DROPOUT.pkl', 'wb') as f:\n",
    "    pickle.dump(history, f)"
   ]
  },
  {
   "cell_type": "code",
   "execution_count": 16,
   "metadata": {},
   "outputs": [],
   "source": [
    "def sample(preds, temperature = 1.0):\n",
    "    ''' Helper function to sample an index from\n",
    "    a probability array. Taken from StackOverflow/\n",
    "    open source code on GitHub. '''\n",
    "\n",
    "    preds = np.asarray(preds).astype('float')\n",
    "    preds = np.log(preds) / temperature\n",
    "    preds[preds == np.inf] = 0\n",
    "\n",
    "    exp_preds = np.exp(preds)\n",
    "    preds = exp_preds / np.sum(exp_preds)\n",
    "    \n",
    "    return np.argmax(np.random.multinomial(1, preds, 1))"
   ]
  },
  {
   "cell_type": "code",
   "execution_count": 17,
   "metadata": {},
   "outputs": [
    {
     "name": "stdout",
     "output_type": "stream",
     "text": [
      "\n",
      "\n",
      "temperature = 1.5\n",
      "\n",
      "shall i compare thee to a summer's day?\n",
      "shed itonderco..\n",
      "now breffbacuint ywal'lrmo-gird thous,\n",
      "(licfurao -oerveris wat deivy ou me.ds,\n",
      "arivunst graeteoss upwinmir to svore\n",
      "on prufpoons, ta:\n",
      "het hmuft the frared wathhst lovt hesmi not\n",
      "hwath yer youl yy aa, dig ostlaiins,\n",
      "yes must my hage in eagh hen i thyeounestion cheed,\n",
      "whiwste'l to :apten, hild yech endtryest aue thath rrow beat are thee i with\n",
      "rie.\n",
      "thy mayhs  wortif reion asmighd y'past.\n",
      "dageta?s  wat lu:sence asourweted regeeviol,\n",
      "my sta' stame now vresepreouure: mefthou, \n",
      "eve thas eye wheecs pold an, astapay nwwed's uwals ered temmy\n",
      "make oln poly, spacw i alottr.ace forh,\n",
      "as piditicy veirt, plerea, no nevt, swapil, baast.\n",
      "ful maek desprowe:\n",
      "agru:fow mbpe my \n",
      "orerign ms cenorsy\n",
      "-aart not s ontationg the wrationgceacs idks\n",
      "asty,\n",
      "agaon as pove asonesce,\n",
      "firi, eg((thun mayesn \n",
      "\n",
      "\n",
      "temperature = 0.75\n",
      "\n",
      "shall i compare thee to a summer's day?\n",
      "thy wroth thy beauty being astake where,\n",
      "and the praiser thee, beprein live, ere staye,\n",
      "what ,hels worthen, as my not me wolld selfow,\n",
      "besade and pode, well to my mover youth be,\n",
      "for of the commistell thy dead theye.\n",
      "but love that the space watet of all of thee,\n",
      "and pay whith to stall both peir and dead,\n",
      "as thought love therew not i love than time with me\n",
      "of all the wasten alterned in maventh thinge,\n",
      "popse but and stileing and with his dost love,\n",
      "whic mine dave consent those dore beang.\n",
      "and so and consube lives ant heart beane.\n",
      "but betore flow shall shame with my me now love,\n",
      "that i twent thought beauty be with me my hight,\n",
      "or none,\n",
      "now letpie hull hapig live in him the fill,\n",
      "that is can heart with thy most for still,\n",
      "though the part me net you, which i vare,\n",
      "the verget which for freasren \n",
      "\n",
      "\n",
      "temperature = 0.25\n",
      "\n",
      "shall i compare thee to a summer's day?\n",
      "then the the world so brood the marter have,\n",
      "and the doth manter of the praines of the will,\n",
      "that i be the waster be the world in me,\n",
      "the world as the wates art stand the sweet,\n",
      "that i have that my self the preased thee,\n",
      "than the worthes my self the worth in thee,\n",
      "which i be the world in me stand and mine,\n",
      "and the worthes beauty doth the will deart,\n",
      "and the wall of the world in thee that be,\n",
      "that i all the will of the wornd of my self,\n",
      "that i be the world to thy sweet show the ward,\n",
      "and the may be the world my gave thee,\n",
      "where the worth the will of the world shall,\n",
      "and the see that be the sweet desert the swart,\n",
      "that i worthy store in thy self the prease,\n",
      "and the mort that the world in the thee,\n",
      "and the praines of the wornd ar the will,\n",
      "that the worthy beauty not love have shall,\n",
      "and the w\n"
     ]
    }
   ],
   "source": [
    "nchar = 800 # length of each line produced from preds\n",
    "for temp in [1.5, 0.75, 0.25]:\n",
    "    print( '\\n' + '\\n' + 'temperature = ' + str(temp) + '\\n')\n",
    "    \n",
    "    line = 'shall i compare thee to a summer\\'s day?\\n'\n",
    "    sentence = line\n",
    "    \n",
    "    for i in range(nchar):\n",
    "        x = np.zeros((1, leng, len(chars)))\n",
    "        for t, char in enumerate(sentence):\n",
    "            x[0, t, dic_char_to_id[char]] = 1\n",
    "\n",
    "        preds = model.predict(x, verbose=False)[0]\n",
    "        nxt_char = dic_id_to_char[sample(preds, temp)]\n",
    "\n",
    "        line += nxt_char\n",
    "        sentence = sentence[1:] + nxt_char\n",
    "        \n",
    "    print(line)"
   ]
  }
 ],
 "metadata": {
  "kernelspec": {
   "display_name": "Python 3",
   "language": "python",
   "name": "python3"
  },
  "language_info": {
   "codemirror_mode": {
    "name": "ipython",
    "version": 3
   },
   "file_extension": ".py",
   "mimetype": "text/x-python",
   "name": "python",
   "nbconvert_exporter": "python",
   "pygments_lexer": "ipython3",
   "version": "3.6.8"
  }
 },
 "nbformat": 4,
 "nbformat_minor": 2
}
