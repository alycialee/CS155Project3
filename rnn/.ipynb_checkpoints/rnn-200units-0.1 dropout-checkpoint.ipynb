{
 "cells": [
  {
   "cell_type": "code",
   "execution_count": 1,
   "metadata": {},
   "outputs": [
    {
     "name": "stderr",
     "output_type": "stream",
     "text": [
      "Using TensorFlow backend.\n"
     ]
    }
   ],
   "source": [
    "import tensorflow as tf\n",
    "import numpy as np\n",
    "import pickle\n",
    "import itertools\n",
    "\n",
    "from keras.models import Sequential, model_from_json\n",
    "from keras.layers.core import Dense, Activation, Dropout\n",
    "from keras.layers.recurrent import LSTM\n",
    "from sklearn.model_selection import train_test_split"
   ]
  },
  {
   "cell_type": "code",
   "execution_count": 2,
   "metadata": {},
   "outputs": [],
   "source": [
    "def get_model(shape):\n",
    "    model = Sequential()\n",
    "    model.add(LSTM(200, return_sequences=True, input_shape=shape))\n",
    "    model.add(Dropout(0.2))\n",
    "    model.add(LSTM(200, return_sequences=False))\n",
    "    model.add(Dropout(0.2))\n",
    "    model.add(Dense(shape[1]))\n",
    "    model.add(Activation('softmax'))\n",
    "\n",
    "    model.compile(loss='categorical_crossentropy', optimizer='rmsprop')\n",
    "    \n",
    "    return model\n",
    "\n",
    "def train_model(model, X, y, val_data, epochs=10, batch_size=50):\n",
    "    history = model.fit(X, y, validation_data=val_data, epochs=epochs, batch_size=batch_size)\n",
    "    return history\n",
    "    \n",
    "def save(model, name):\n",
    "    model_json = model.to_json()\n",
    "    with open(name + '.json', \"w\") as json_file:\n",
    "        json_file.write(model_json)\n",
    "    # serialize weights to HDF5\n",
    "    model.save_weights(name + '.h5')\n",
    "\n",
    "def load(name):\n",
    "    # load json and create model\n",
    "    json_file = open(name + '.json', 'r')\n",
    "    loaded_model_json = json_file.read()\n",
    "    json_file.close()\n",
    "    loaded_model = model_from_json(loaded_model_json)\n",
    "    # load weights into new model\n",
    "    loaded_model.load_weights(name + \".h5\")\n",
    "    return model"
   ]
  },
  {
   "cell_type": "code",
   "execution_count": 3,
   "metadata": {},
   "outputs": [],
   "source": [
    "def get_sonnets(filename):\n",
    "    \"\"\" Returns entire txt file as string. \"\"\"\n",
    "    str = \"\"\n",
    "    with open(filename) as file:\n",
    "        for line in file:\n",
    "            line = line.strip()\n",
    "            if line.isdigit() == False and len(line) > 0:\n",
    "                str += line.lower() + \"\\n\"\n",
    "    return str"
   ]
  },
  {
   "cell_type": "code",
   "execution_count": 4,
   "metadata": {},
   "outputs": [
    {
     "name": "stdout",
     "output_type": "stream",
     "text": [
      "# chars in txt: 93674\n"
     ]
    }
   ],
   "source": [
    "file = 'data/shakespeare.txt'\n",
    "sons = get_sonnets(file)\n",
    "\n",
    "print (\"# chars in txt: \" + str(len(sons)))"
   ]
  },
  {
   "cell_type": "code",
   "execution_count": 5,
   "metadata": {},
   "outputs": [
    {
     "name": "stdout",
     "output_type": "stream",
     "text": [
      "{'h', ';', 'e', 'm', 'p', 'b', 'j', 'x', 'k', 'w', 'q', ',', 'v', 'c', 'a', 'n', '?', ':', ')', 'u', \"'\", 'i', '\\n', 'g', 'l', '(', '.', '!', ' ', 'o', 's', 'd', 'y', 'z', 'f', 'r', '-', 't'}\n",
      "# unique chars: 38\n"
     ]
    }
   ],
   "source": [
    "chars = set(sons) # get set of all characters\n",
    "print(chars)\n",
    "print (\"# unique chars: \" + str(len(chars)))\n",
    "\n",
    "# create mapping of characters to unique ids\n",
    "dic_char_to_id = dict((c, i) for i, c in enumerate(chars))\n",
    "dic_id_to_char = dict((i, c) for i, c in enumerate(chars))"
   ]
  },
  {
   "cell_type": "code",
   "execution_count": 6,
   "metadata": {},
   "outputs": [
    {
     "name": "stdout",
     "output_type": "stream",
     "text": [
      "# seqs:  46817\n"
     ]
    }
   ],
   "source": [
    "# create input, output sequences\n",
    "\n",
    "leng = 40\n",
    "step_size = 2\n",
    "seqs, nxt_char = [], []\n",
    "# take all possible subsequences of 40 consecutive characters\n",
    "for i in range(0, len(sons) - leng, step_size):\n",
    "    seqs.append(sons[i: i + leng])\n",
    "    nxt_char.append(sons[i + leng])\n",
    "print(\"# seqs: \", len(seqs))"
   ]
  },
  {
   "cell_type": "code",
   "execution_count": 7,
   "metadata": {},
   "outputs": [],
   "source": [
    "# convert seqs to one-hot encoding\n",
    "X = np.zeros((len(seqs), leng, len(chars)), dtype=np.bool)\n",
    "y = np.zeros((len(seqs), len(chars)), dtype=np.bool)\n",
    "\n",
    "for i, seq in enumerate(seqs):\n",
    "    for j, char in enumerate(seq):\n",
    "        X[i, j, dic_char_to_id[char]] = 1\n",
    "    y[i, dic_char_to_id[nxt_char[i]]] = 1"
   ]
  },
  {
   "cell_type": "code",
   "execution_count": 8,
   "metadata": {},
   "outputs": [],
   "source": [
    "x_train, x_test, y_train, y_test = train_test_split(X, y, test_size=0.33, random_state=42)"
   ]
  },
  {
   "cell_type": "code",
   "execution_count": 9,
   "metadata": {},
   "outputs": [],
   "source": [
    "model = get_model((leng, len(chars)))"
   ]
  },
  {
   "cell_type": "code",
   "execution_count": 10,
   "metadata": {},
   "outputs": [
    {
     "name": "stdout",
     "output_type": "stream",
     "text": [
      "Train on 31367 samples, validate on 15450 samples\n",
      "Epoch 1/10\n",
      "31367/31367 [==============================] - 169s 5ms/step - loss: 2.7187 - val_loss: 2.3464\n",
      "Epoch 2/10\n",
      "31367/31367 [==============================] - 157s 5ms/step - loss: 2.2357 - val_loss: 2.1250\n",
      "Epoch 3/10\n",
      "31367/31367 [==============================] - 166s 5ms/step - loss: 2.0540 - val_loss: 2.0088\n",
      "Epoch 4/10\n",
      "31367/31367 [==============================] - 162s 5ms/step - loss: 1.9356 - val_loss: 1.9153\n",
      "Epoch 5/10\n",
      "31367/31367 [==============================] - 171s 5ms/step - loss: 1.8530 - val_loss: 1.8709\n",
      "Epoch 6/10\n",
      "31367/31367 [==============================] - 171s 5ms/step - loss: 1.7695 - val_loss: 1.8353\n",
      "Epoch 7/10\n",
      "31367/31367 [==============================] - 167s 5ms/step - loss: 1.7100 - val_loss: 1.7923\n",
      "Epoch 8/10\n",
      "31367/31367 [==============================] - 169s 5ms/step - loss: 1.6512 - val_loss: 1.7780\n",
      "Epoch 9/10\n",
      "31367/31367 [==============================] - 154s 5ms/step - loss: 1.5952 - val_loss: 1.7657\n",
      "Epoch 10/10\n",
      "31367/31367 [==============================] - 157s 5ms/step - loss: 1.5347 - val_loss: 1.7558\n"
     ]
    }
   ],
   "source": [
    "history = train_model(model, x_train, y_train, (x_test, y_test))"
   ]
  },
  {
   "cell_type": "code",
   "execution_count": 11,
   "metadata": {},
   "outputs": [],
   "source": [
    "save(model, 'models/Shakespeare_200units_10_50')\n",
    "\n",
    "#150 units, 200 units, epochs, batch_size, dropout"
   ]
  },
  {
   "cell_type": "code",
   "execution_count": 18,
   "metadata": {},
   "outputs": [
    {
     "data": {
      "image/png": "[encoded data removed]",
      "text/plain": [
       "<Figure size 432x288 with 1 Axes>"
      ]
     },
     "metadata": {
      "needs_background": "light"
     },
     "output_type": "display_data"
    }
   ],
   "source": [
    "from matplotlib import pyplot\n",
    "\n",
    "# plot train and validation loss\n",
    "pyplot.plot(history.history['loss'])\n",
    "pyplot.plot(history.history['val_loss'])\n",
    "pyplot.title('model train vs validation loss')\n",
    "pyplot.ylabel('loss')\n",
    "pyplot.xlabel('epoch')\n",
    "pyplot.legend(['train', 'validation'], loc='upper right')\n",
    "pyplot.savefig('visuals/Shakespeare_200units_10_50_loss.png')\n",
    "pyplot.show()"
   ]
  },
  {
   "cell_type": "code",
   "execution_count": 13,
   "metadata": {},
   "outputs": [
    {
     "data": {
      "text/plain": [
       "1.7557582295828267"
      ]
     },
     "execution_count": 13,
     "metadata": {},
     "output_type": "execute_result"
    }
   ],
   "source": [
    "min(history.history['val_loss']) # 1.7592611852973024"
   ]
  },
  {
   "cell_type": "code",
   "execution_count": 14,
   "metadata": {},
   "outputs": [
    {
     "data": {
      "text/plain": [
       "9"
      ]
     },
     "execution_count": 14,
     "metadata": {},
     "output_type": "execute_result"
    }
   ],
   "source": [
    "history.history['val_loss'].index(min(history.history['val_loss'])) # 10"
   ]
  },
  {
   "cell_type": "code",
   "execution_count": 21,
   "metadata": {},
   "outputs": [],
   "source": [
    "with open('Shakespeare_200units_10_50_hist.pkl', 'rb') as f:\n",
    "    t = pickle.load(f)"
   ]
  },
  {
   "cell_type": "code",
   "execution_count": 23,
   "metadata": {},
   "outputs": [
    {
     "data": {
      "text/plain": [
       "[2.370922504119503,\n",
       " 2.1779747641973897,\n",
       " 2.028182444063205,\n",
       " 1.905297042868284,\n",
       " 1.849036972499588,\n",
       " 1.829530764551996,\n",
       " 1.802850048904666,\n",
       " 1.787244854621517,\n",
       " 1.7761638531021315,\n",
       " 1.7682241710644324,\n",
       " 1.7651172621736249,\n",
       " 1.7742390077090957,\n",
       " 1.7855822881834407,\n",
       " 1.811433031335232,\n",
       " 1.8392118960136734,\n",
       " 1.8473165343880267,\n",
       " 1.8784331596399202,\n",
       " 1.9251928043982744,\n",
       " 1.9506318198824393,\n",
       " 1.9750384312231564,\n",
       " 2.0354044526140282,\n",
       " 2.0588834104414513,\n",
       " 2.1203522724626906,\n",
       " 2.141282381749076,\n",
       " 2.2071839644299356]"
      ]
     },
     "execution_count": 23,
     "metadata": {},
     "output_type": "execute_result"
    }
   ],
   "source": [
    "t.history['val_loss']"
   ]
  },
  {
   "cell_type": "code",
   "execution_count": 16,
   "metadata": {},
   "outputs": [],
   "source": [
    "def sample(preds, temperature = 1.0):\n",
    "    ''' Helper function to sample an index from\n",
    "    a probability array. Taken from StackOverflow/\n",
    "    open source code on GitHub. '''\n",
    "\n",
    "    preds = np.asarray(preds).astype('float')\n",
    "    preds = np.log(preds) / temperature\n",
    "    preds[preds == np.inf] = 0\n",
    "\n",
    "    exp_preds = np.exp(preds)\n",
    "    preds = exp_preds / np.sum(exp_preds)\n",
    "    \n",
    "    return np.argmax(np.random.multinomial(1, preds, 1))"
   ]
  },
  {
   "cell_type": "code",
   "execution_count": 17,
   "metadata": {},
   "outputs": [
    {
     "name": "stdout",
     "output_type": "stream",
     "text": [
      "\n",
      "\n",
      "temperature = 1.5\n",
      "\n",
      "shall i compare thee to a summer's day?\n",
      "nighing thy beletic cee evpey not mai (,-nal.t,\n",
      "tike nigowir thouge woold'y woutsehfsos hewhen dy swhete shawad-seraring sual:\n",
      "coummat evee'n rielf's, bec;ed, and in negway,\n",
      "but heath fless efperso ngof wit,\n",
      "for ale c'llove , i th, piithysod thougw bneess whereproby,\n",
      "hor tht teel shillfugy ioh cdestence wyork,\n",
      "ditek'n on thy semifit for mise,\n",
      "bnt he\n",
      "phos whyre,\n",
      "if the hold he thy soud, badtuve rnfuwudns\n",
      "noo ecoildit thep, in paisted's lorned dgedhearing.\n",
      "what mere? cyes do that folbur 'sape.s' com ants-ol grow\n",
      "ath.hour nefwlbre sjulvy shil my slwait,\n",
      "any thy sust kimy looks's whlrsece hiwe sr,\n",
      "of yut; form more hereny enisused,\n",
      "and if a\n",
      "wime.\n",
      "roady mamsil aven takcexed mowartqbjant.sbrojs a antor of :rwakkh of rest,\n",
      "roth farsh fhows pres\n",
      "it in oter asheci love' of yeus,tthen prodes,..or, s\n",
      "\n",
      "\n",
      "temperature = 0.75\n",
      "\n",
      "shall i compare thee to a summer's day?\n",
      ".\n",
      "o the lost me and then i but my his wasthes recease,\n",
      "that is thy preanot for thy self dibe are.\n",
      "as thenew be thou when that the fure the,\n",
      "and your dear then my heart thy beauty seals\n",
      "wherei wher i love, the wordd in both that be to thee,\n",
      "his sim'st the bad on is rest thee me blang,\n",
      "that still eves that in coulthen, therefwere,\n",
      "might thy self: i should by thy self will \n",
      "and prease,\n",
      "and i as the world fram of now st ilp.\n",
      "sice when the swart thy swill thee therecace,\n",
      "when thee warse in this can healt thou time,\n",
      "all ant i rate my etidist the stact and outhenis still,\n",
      "the senf' a resming, thou art not singur cand.\n",
      "and sheroth the patuos it prover better,\n",
      "and then my penit their that in thee provest\n",
      "but thry as the false aswart and theref-red,\n",
      "dey our loves hady grent by the sil al key,\n",
      "and si\n",
      "\n",
      "\n",
      "temperature = 0.25\n",
      "\n",
      "shall i compare thee to a summer's day?\n",
      "when i hath self the world when the restrenge,\n",
      "and then the seeming the world the world,\n",
      "and then the seeming the world of thee thee,\n",
      "and then the see and see when thou art me self-with their see,\n",
      "the ender then the sweet self-and then thee,\n",
      "and then that should the world when i bean,\n",
      "and in the will the stard and for thee see,\n",
      "and see the prown the world be then thee,\n",
      "and then the beauty bet my self thee speet,\n",
      "and then the seeming the love the see thee,\n",
      "and shere and the with thy self-with thee,\n",
      "and then the see and then the seeming of thee,\n",
      "which the will the will the see and then\n",
      "the preath the strongs then thee thou art me summen thee,\n",
      "when is the will the world the will not thee,\n",
      "and then the see the far the love the will,\n",
      "and then thou art thee thou art me thee more,\n",
      "but then the lo\n"
     ]
    }
   ],
   "source": [
    "nchar = 800 # length of each line produced from preds\n",
    "for temp in [1.5, 0.75, 0.25]:\n",
    "    print( '\\n' + '\\n' + 'temperature = ' + str(temp) + '\\n')\n",
    "    \n",
    "    line = 'shall i compare thee to a summer\\'s day?\\n'\n",
    "    sentence = line\n",
    "    \n",
    "    for i in range(nchar):\n",
    "        x = np.zeros((1, leng, len(chars)))\n",
    "        for t, char in enumerate(sentence):\n",
    "            x[0, t, dic_char_to_id[char]] = 1\n",
    "\n",
    "        preds = model.predict(x, verbose=False)[0]\n",
    "        nxt_char = dic_id_to_char[sample(preds, temp)]\n",
    "\n",
    "        line += nxt_char\n",
    "        sentence = sentence[1:] + nxt_char\n",
    "        \n",
    "    print(line)"
   ]
  },
  {
   "cell_type": "code",
   "execution_count": 24,
   "metadata": {},
   "outputs": [],
   "source": [
    "model = load('models/Shakespeare_200units_25_50')"
   ]
  },
  {
   "cell_type": "code",
   "execution_count": 26,
   "metadata": {},
   "outputs": [
    {
     "name": "stdout",
     "output_type": "stream",
     "text": [
      "\n",
      "\n",
      "temperature = 1.5\n",
      "\n",
      "shall i compare thee to a summer's day?\n",
      "i boldo,'s vuccol time, i a yoho' of'uld,\n",
      "hey go vouteuthy willw ofar kemlpffines,\n",
      "the st\n",
      "andir. , to be,\n",
      "thomet theeet faultheig take my lingy geeble;\n",
      "swundet hakpew hours upley hasp ezcery?\n",
      ",\n",
      "when a\n",
      "for clodkro' paires rlows oq.jast,\n",
      "chays of thy s,\n",
      "oon vise weil words, sen ill pueso wrest:\n",
      "oury neem holfe vhen yet seathkn foir 'noarr:\n",
      "no heithan morticn in, pliviup,reds you anothenth,\n",
      "n, hea-thyen.wriln saghen seeaty betuther thy, whrfj sw,ee pobe\n",
      "whose igpestactouy cay nobling of st andsis,\n",
      "to evernewmoueot which it my ?pirrs ugbed,\n",
      "and yo- ismerith,\n",
      "lave leaveni peeksminot.\n",
      "that reaighaou'ed, wlill'e of kipn and whyrch.\n",
      "but thou livatlesh wion ond mort of mrseved,\n",
      "buth. when i waruscls, rrevser to omer,\n",
      "sapil thee garnilgiol cinpringwly cifhings,\n",
      "whop:.ities masural titguted b'se buy.\n",
      "\n",
      "\n",
      "temperature = 0.75\n",
      "\n",
      "shall i compare thee to a summer's day?\n",
      "then crours of anoth these thou art on thee,\n",
      "as yet the some fare the with that ever-see.\n",
      "and at mise, and dothen by the dent so chee,\n",
      "when i may beto doth the steen thee from my swhele,\n",
      "the werl with i as thou irand at hation with thy self,\n",
      "the brewthing apwar then thou art of thee,\n",
      "and and sull their my store when your thee ,\n",
      "all their preet resion of thee, but dideflesss,\n",
      "and then thought prowers my love's up thee,\n",
      "all the see but beauty conest the apvery,\n",
      "and prefour wath the punter in thee look shall,\n",
      "that i all thee in the in the forthate bees,\n",
      "my pars wark their stell now sa.d when if where appear,\n",
      "for thut she ble and thencing in thee the stand,\n",
      "and parn to desermy and store wher thee,\n",
      "and this thy slare shall dy miny pace in me,\n",
      "who shall new when the dechange were in me,\n",
      "where wh\n",
      "\n",
      "\n",
      "temperature = 0.25\n",
      "\n",
      "shall i compare thee to a summer's day?\n",
      "when i will the will and all the world when thee thee,\n",
      "and in the world the werth the will the sweet,\n",
      "and then the seemen the world in thee thee,\n",
      "and then thou art the werth the seet thee,\n",
      "and then the love the preaser when thee art,\n",
      "the preas then the prows the stard and doth grow\n",
      "when i should the world be and thee and doth thee,\n",
      "and then the prows the will the world thee and ar thee,\n",
      "and sum the love as the world the sterthes,\n",
      "the world when the love, the will the sterth thee,\n",
      "and in the will the world do not see but shall,\n",
      "the remorn the sweet see the prown to the love,\n",
      "and she love the world when the world be with the world's prease,\n",
      "when i all the world be then the love the see,\n",
      "and then the seeming of the will thee their see,\n",
      "the remore then when i see and then thee,\n",
      "and then the se\n"
     ]
    }
   ],
   "source": [
    "nchar = 800 # length of each line produced from preds\n",
    "for temp in [1.5, 0.75, 0.25]:\n",
    "    print( '\\n' + '\\n' + 'temperature = ' + str(temp) + '\\n')\n",
    "    \n",
    "    line = 'shall i compare thee to a summer\\'s day?\\n'\n",
    "    sentence = line\n",
    "    \n",
    "    for i in range(nchar):\n",
    "        x = np.zeros((1, leng, len(chars)))\n",
    "        for t, char in enumerate(sentence):\n",
    "            x[0, t, dic_char_to_id[char]] = 1\n",
    "\n",
    "        preds = model.predict(x, verbose=False)[0]\n",
    "        nxt_char = dic_id_to_char[sample(preds, temp)]\n",
    "\n",
    "        line += nxt_char\n",
    "        sentence = sentence[1:] + nxt_char\n",
    "        \n",
    "    print(line)"
   ]
  },
  {
   "cell_type": "code",
   "execution_count": 27,
   "metadata": {},
   "outputs": [],
   "source": [
    "model = load('models/Shakespeare_200layers_25_50')"
   ]
  },
  {
   "cell_type": "code",
   "execution_count": 29,
   "metadata": {},
   "outputs": [
    {
     "name": "stdout",
     "output_type": "stream",
     "text": [
      "\n",
      "\n",
      "temperature = 1.5\n",
      "\n",
      "shall i compare thee to a summer's day?\n",
      "wherhs mol' not 'spainoncir ingetvallecw,\n",
      "hich yes dadinis do onl swird thou thy spidh why laver\n",
      "yoth ok mades krespen.um ;'t .thes worle,\n",
      "behid my nowmf?s wweth pegaor asonowed,\n",
      "when the ouwwsrich's, kofe dinces elover't.\n",
      "to tey houd  unfing a swifting metor',\n",
      "ail ul?nwands pebprtouins thou lid-eyesase,\n",
      "frhepn on ig.\n",
      "an jecuiht, yet lothang groiin,s\n",
      "that he li'ess bpelsteth leasnansare nowh-se:\n",
      "seneing inxins eothe wile in ingastfo,\n",
      " denke can have  rndgll base,ubthopisuffule,\n",
      "infurcy lorkidgs love happep \n",
      "hraw what theing coeatcenkvy and lefcappearer,\n",
      "and avengo which exyrweth the hnag formots,\n",
      "did. this eswill aare sweat 'amtr donel.\n",
      "chwidech of moratut jaf to in\n",
      "thle ald neartar',\n",
      "but mnse ur niyemy juccauntatu'e of .crunf.\n",
      "aw livic' well :emeepe on -venils atansy\n",
      "buth do sincie  ninks\n",
      "\n",
      "\n",
      "temperature = 0.75\n",
      "\n",
      "shall i compare thee to a summer's day?\n",
      "so live thee but hast in a o com doth arfor.\n",
      "o the may dhath the with thy self with me,\n",
      "where ans promer faure dast their make thee,\n",
      "and my will suil doth sight bysand with their hold doth prease,\n",
      "or the cassang of spest pire and stear me swaet,\n",
      "thenefor not thy self that bright of sweet,\n",
      "when i fall .nour the wering welt wording ere:\n",
      "when i all am woil not mecold thy sweet be,\n",
      "and aw more is my ftar wherchow dusporned,\n",
      "when that is of thee most you be the love,\n",
      "and when i though, and well thou grown dy love,\n",
      "a as the courtors wasterous on sweet seefmenge.\n",
      "i see ,is thee world do diesie yi me,\n",
      "thou art afly me betore then but as see,\n",
      "when to med wath thee the looks thou thoughts,\n",
      "so in see summengy love that it the world,\n",
      "and shere an thee as a can me were with thee ,\n",
      "and is mered, and my \n",
      "\n",
      "\n",
      "temperature = 0.25\n",
      "\n",
      "shall i compare thee to a summer's day?\n",
      "when i so but when thee the world the see,\n",
      "the eir the world the will the will the more,\n",
      "and then the prows the with thy self be see.\n",
      "when i shall thee an the with thy self-thee speathen,\n",
      "when i not self when i should the star thee,\n",
      "and then the see on thee the will the world.\n",
      "and then the see not the will in me then\n",
      "shall the will more the will the will to seet,\n",
      "the will the remorn the sweet self-in thee,\n",
      "and shere not see and then the all thee,\n",
      "and then the seeming and in the world's in thee,\n",
      "and in the world the world but the prease,\n",
      "the eyes the prown the will the worth the dear,\n",
      "and then the lover the will not the strow,\n",
      "the prow then the love the world when i all not,\n",
      "the preath of the prow then where i love,\n",
      "and then the will the will the lover thee,\n",
      "and then the see the lover thou \n"
     ]
    }
   ],
   "source": [
    "nchar = 800 # length of each line produced from preds\n",
    "for temp in [1.5, 0.75, 0.25]:\n",
    "    print( '\\n' + '\\n' + 'temperature = ' + str(temp) + '\\n')\n",
    "    \n",
    "    line = 'shall i compare thee to a summer\\'s day?\\n'\n",
    "    sentence = line\n",
    "    \n",
    "    for i in range(nchar):\n",
    "        x = np.zeros((1, leng, len(chars)))\n",
    "        for t, char in enumerate(sentence):\n",
    "            x[0, t, dic_char_to_id[char]] = 1\n",
    "\n",
    "        preds = model.predict(x, verbose=False)[0]\n",
    "        nxt_char = dic_id_to_char[sample(preds, temp)]\n",
    "\n",
    "        line += nxt_char\n",
    "        sentence = sentence[1:] + nxt_char\n",
    "        \n",
    "    print(line)"
   ]
  },
  {
   "cell_type": "markdown",
   "metadata": {},
   "source": [
    "temperature = 1.5\n",
    "\n",
    "shall i compare thee to a summer's day?\n",
    "rom, shong brohh heads i. frow bus depaiante.\n",
    "or bedore spire oulmo,'ert my dats mind peithufe,\n",
    "wichs asseft no mast,'s aronon, where  eefur looks:\n",
    " o that uppossorn wokll do those pcrife,\n",
    "rofeudb howd,nincs be ve love aututhen ye,\n",
    "racheir have thee: hark it dicey a, tuyme,\n",
    "rogo in likeres why srime' woth scumants eef,\n",
    "agacear pintor b:\n",
    "ay bcast the ag op hish sow,hr-which of his dembme\n",
    "thaughy, anbirsune anoan dayfos te eir,\n",
    "hesh mach in is\n",
    "antek fairy, porsion c.less hy nethyirteur,\n",
    "and yetrfape's pudt a losew thrselfk,\n",
    "her mintire,tath tto bosp wilis sholl gute.\n",
    "thence simwde hasfingher af and obleflenj.\n",
    "swun dook you.\n",
    "wollse gruen belo)sx,s,(resorn not depredc, the losy geruty,\n",
    "as dess llamy wethouth teenae-stededosh,\n",
    "ipe'pf i sun plis angen impeint give:\n",
    "thy lam'lino bgairst, altearii\n",
    "\n",
    "\n",
    "temperature = 0.75\n",
    "\n",
    "shall i compare thee to a summer's day?\n",
    "if his prite then my steet lover he stenke,\n",
    "sich pold cand in the werlone when this,\n",
    "thy werst betore her stell threefvrme show,\n",
    "then when i love' be ko flire un cinfing,\n",
    "and theretor the love i were and pence me rose,\n",
    "see her bul how thy love, and chan that how thee,\n",
    "and felm sweet the race far thee bornoun,\n",
    "but thou art .for the worst tookers of ksall,\n",
    "a cant of lands as you grow in love as arof\n",
    "whis fair not bland with thou wich thy see,\n",
    "then thy self's from my fair bright eye thee,\n",
    "when therew rest besamen there forment a grefosee.\n",
    "when sfore my love then grows my fassed,\n",
    "lif in your bul the mand bus thou shall love still'.\n",
    "the best thee the teemy thou to refear speet,\n",
    "that with brighs shall depest the doth me,\n",
    "and thee to me the live to sair love that lime's deedt.\n",
    "that should glow do\n",
    "\n",
    "\n",
    "temperature = 0.25\n",
    "\n",
    "shall i compare thee to a summer's day?\n",
    "when should the prows of the werth the world when thee thee in thee,\n",
    "and then the love the worth the world be doth the will should thee,\n",
    "when i hat stee the lover the world the beauty,\n",
    "and then the seeming thy self their speet,\n",
    "then i all the world the preaser when thee,\n",
    "and then the world the sweet self-and thee,\n",
    "when i see hat the world the will the world,\n",
    "and then the self in thee the with thy sweet,\n",
    "the will the will the will the will should be,\n",
    "then the seeming the will the world should thee,\n",
    "and then the seeming the world the will thee,\n",
    "and in the rear then the world be the world,\n",
    "and see the dart the far thee then thee should thee,\n",
    "and then the born the loves the center thee,\n",
    "and in the ward when thee the world be then\n",
    "the prose then the see and thee and self\n",
    "the worst the remone th"
   ]
  }
 ],
 "metadata": {
  "kernelspec": {
   "display_name": "Python 3",
   "language": "python",
   "name": "python3"
  },
  "language_info": {
   "codemirror_mode": {
    "name": "ipython",
    "version": 3
   },
   "file_extension": ".py",
   "mimetype": "text/x-python",
   "name": "python",
   "nbconvert_exporter": "python",
   "pygments_lexer": "ipython3",
   "version": "3.6.8"
  }
 },
 "nbformat": 4,
 "nbformat_minor": 2
}
