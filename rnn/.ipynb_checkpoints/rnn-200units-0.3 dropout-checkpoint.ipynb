{
 "cells": [
  {
   "cell_type": "code",
   "execution_count": 1,
   "metadata": {},
   "outputs": [
    {
     "name": "stderr",
     "output_type": "stream",
     "text": [
      "Using TensorFlow backend.\n"
     ]
    }
   ],
   "source": [
    "import tensorflow as tf\n",
    "import numpy as np\n",
    "import pickle\n",
    "import itertools\n",
    "\n",
    "from keras.models import Sequential, model_from_json\n",
    "from keras.layers.core import Dense, Activation, Dropout\n",
    "from keras.layers.recurrent import LSTM\n",
    "from sklearn.model_selection import train_test_split"
   ]
  },
  {
   "cell_type": "code",
   "execution_count": 2,
   "metadata": {},
   "outputs": [],
   "source": [
    "def get_model(shape):\n",
    "    model = Sequential()\n",
    "    model.add(LSTM(200, return_sequences=True, input_shape=shape))\n",
    "    model.add(Dropout(0.2))\n",
    "    model.add(LSTM(200, return_sequences=False))\n",
    "    model.add(Dropout(0.2))\n",
    "    model.add(Dense(shape[1]))\n",
    "    model.add(Activation('softmax'))\n",
    "\n",
    "    model.compile(loss='categorical_crossentropy', optimizer='rmsprop')\n",
    "    \n",
    "    return model\n",
    "\n",
    "def train_model(model, X, y, val_data, epochs=25, batch_size=50):\n",
    "    history = model.fit(X, y, validation_data=val_data, epochs=epochs, batch_size=batch_size)\n",
    "    return history\n",
    "    \n",
    "def save(model, name):\n",
    "    model_json = model.to_json()\n",
    "    with open(name + '.json', \"w\") as json_file:\n",
    "        json_file.write(model_json)\n",
    "    # serialize weights to HDF5\n",
    "    model.save_weights(name + '.h5')\n",
    "\n",
    "def load(name):\n",
    "    # load json and create model\n",
    "    json_file = open(name + '.json', 'r')\n",
    "    loaded_model_json = json_file.read()\n",
    "    json_file.close()\n",
    "    loaded_model = model_from_json(loaded_model_json)\n",
    "    # load weights into new model\n",
    "    loaded_model.load_weights(name + \".h5\")\n",
    "    return model"
   ]
  },
  {
   "cell_type": "code",
   "execution_count": 3,
   "metadata": {},
   "outputs": [],
   "source": [
    "def get_sonnets(filename):\n",
    "    \"\"\" Returns entire txt file as string. \"\"\"\n",
    "    str = \"\"\n",
    "    with open(filename) as file:\n",
    "        for line in file:\n",
    "            line = line.strip()\n",
    "            if line.isdigit() == False and len(line) > 0:\n",
    "                str += line.lower() + \"\\n\"\n",
    "    return str"
   ]
  },
  {
   "cell_type": "code",
   "execution_count": 4,
   "metadata": {},
   "outputs": [
    {
     "name": "stdout",
     "output_type": "stream",
     "text": [
      "# chars in txt: 93674\n"
     ]
    }
   ],
   "source": [
    "file = 'data/shakespeare.txt'\n",
    "sons = get_sonnets(file)\n",
    "\n",
    "print (\"# chars in txt: \" + str(len(sons)))"
   ]
  },
  {
   "cell_type": "code",
   "execution_count": 5,
   "metadata": {},
   "outputs": [
    {
     "name": "stdout",
     "output_type": "stream",
     "text": [
      "{'d', '.', ';', ',', '-', 'c', 'b', ')', '!', 'i', 'j', 'a', 'r', 'w', 'k', 'y', 'u', '?', 'f', 't', ':', '(', ' ', 'v', 'z', 'p', 'm', 'l', \"'\", 'x', 'q', 'n', 'e', 'g', 'o', 'h', '\\n', 's'}\n",
      "# unique chars: 38\n"
     ]
    }
   ],
   "source": [
    "chars = set(sons) # get set of all characters\n",
    "print(chars)\n",
    "print (\"# unique chars: \" + str(len(chars)))\n",
    "\n",
    "# create mapping of characters to unique ids\n",
    "dic_char_to_id = dict((c, i) for i, c in enumerate(chars))\n",
    "dic_id_to_char = dict((i, c) for i, c in enumerate(chars))"
   ]
  },
  {
   "cell_type": "code",
   "execution_count": 6,
   "metadata": {},
   "outputs": [
    {
     "name": "stdout",
     "output_type": "stream",
     "text": [
      "# seqs:  46817\n"
     ]
    }
   ],
   "source": [
    "# create input, output sequences\n",
    "\n",
    "leng = 40\n",
    "step_size = 2\n",
    "seqs, nxt_char = [], []\n",
    "# take all possible subsequences of 40 consecutive characters\n",
    "for i in range(0, len(sons) - leng, step_size):\n",
    "    seqs.append(sons[i: i + leng])\n",
    "    nxt_char.append(sons[i + leng])\n",
    "print(\"# seqs: \", len(seqs))"
   ]
  },
  {
   "cell_type": "code",
   "execution_count": 7,
   "metadata": {},
   "outputs": [],
   "source": [
    "# convert seqs to one-hot encoding\n",
    "X = np.zeros((len(seqs), leng, len(chars)), dtype=np.bool)\n",
    "y = np.zeros((len(seqs), len(chars)), dtype=np.bool)\n",
    "\n",
    "for i, seq in enumerate(seqs):\n",
    "    for j, char in enumerate(seq):\n",
    "        X[i, j, dic_char_to_id[char]] = 1\n",
    "    y[i, dic_char_to_id[nxt_char[i]]] = 1"
   ]
  },
  {
   "cell_type": "code",
   "execution_count": 8,
   "metadata": {},
   "outputs": [],
   "source": [
    "x_train, x_test, y_train, y_test = train_test_split(X, y, test_size=0.33, random_state=42)"
   ]
  },
  {
   "cell_type": "code",
   "execution_count": 9,
   "metadata": {},
   "outputs": [],
   "source": [
    "model = get_model((leng, len(chars)))"
   ]
  },
  {
   "cell_type": "code",
   "execution_count": 10,
   "metadata": {},
   "outputs": [
    {
     "name": "stdout",
     "output_type": "stream",
     "text": [
      "Train on 31367 samples, validate on 15450 samples\n",
      "Epoch 1/25\n",
      "31367/31367 [==============================] - 88s 3ms/step - loss: 2.7521 - val_loss: 2.3945\n",
      "Epoch 2/25\n",
      "31367/31367 [==============================] - 92s 3ms/step - loss: 2.2455 - val_loss: 2.1473\n",
      "Epoch 3/25\n",
      "31367/31367 [==============================] - 100s 3ms/step - loss: 2.0604 - val_loss: 1.9884\n",
      "Epoch 4/25\n",
      "31367/31367 [==============================] - 125s 4ms/step - loss: 1.9368 - val_loss: 1.9297\n",
      "Epoch 5/25\n",
      "31367/31367 [==============================] - 165s 5ms/step - loss: 1.8433 - val_loss: 1.8651\n",
      "Epoch 6/25\n",
      "31367/31367 [==============================] - 161s 5ms/step - loss: 1.7741 - val_loss: 1.8312\n",
      "Epoch 7/25\n",
      "31367/31367 [==============================] - 154s 5ms/step - loss: 1.7068 - val_loss: 1.7831\n",
      "Epoch 8/25\n",
      "31367/31367 [==============================] - 159s 5ms/step - loss: 1.6436 - val_loss: 1.7797\n",
      "Epoch 9/25\n",
      "31367/31367 [==============================] - 147s 5ms/step - loss: 1.5850 - val_loss: 1.7644\n",
      "Epoch 10/25\n",
      "31367/31367 [==============================] - 156s 5ms/step - loss: 1.5302 - val_loss: 1.7503\n",
      "Epoch 11/25\n",
      "31367/31367 [==============================] - 173s 6ms/step - loss: 1.4650 - val_loss: 1.7688\n",
      "Epoch 12/25\n",
      "31367/31367 [==============================] - 213s 7ms/step - loss: 1.4111 - val_loss: 1.7570\n",
      "Epoch 13/25\n",
      "31367/31367 [==============================] - 317s 10ms/step - loss: 1.3573 - val_loss: 1.7821\n",
      "Epoch 14/25\n",
      "31367/31367 [==============================] - 317s 10ms/step - loss: 1.2933 - val_loss: 1.7955\n",
      "Epoch 15/25\n",
      "31367/31367 [==============================] - 308s 10ms/step - loss: 1.2280 - val_loss: 1.8194\n",
      "Epoch 16/25\n",
      "31367/31367 [==============================] - 310s 10ms/step - loss: 1.1786 - val_loss: 1.8520\n",
      "Epoch 17/25\n",
      "31367/31367 [==============================] - 317s 10ms/step - loss: 1.1196 - val_loss: 1.8719\n",
      "Epoch 18/25\n",
      "31367/31367 [==============================] - 270s 9ms/step - loss: 1.0584 - val_loss: 1.9093\n",
      "Epoch 19/25\n",
      "31367/31367 [==============================] - 192s 6ms/step - loss: 1.0149 - val_loss: 1.9576\n",
      "Epoch 20/25\n",
      "31367/31367 [==============================] - 245s 8ms/step - loss: 0.9622 - val_loss: 1.9882\n",
      "Epoch 21/25\n",
      "31367/31367 [==============================] - 1009s 32ms/step - loss: 0.9095 - val_loss: 2.0224\n",
      "Epoch 22/25\n",
      "31367/31367 [==============================] - 609s 19ms/step - loss: 0.8683 - val_loss: 2.0623\n",
      "Epoch 23/25\n",
      "31367/31367 [==============================] - 238s 8ms/step - loss: 0.8245 - val_loss: 2.1000\n",
      "Epoch 24/25\n",
      "31367/31367 [==============================] - 297s 9ms/step - loss: 0.7774 - val_loss: 2.1277\n",
      "Epoch 25/25\n",
      "31367/31367 [==============================] - 293s 9ms/step - loss: 0.7461 - val_loss: 2.1748\n"
     ]
    }
   ],
   "source": [
    "history = train_model(model, x_train, y_train, (x_test, y_test))"
   ]
  },
  {
   "cell_type": "code",
   "execution_count": 11,
   "metadata": {},
   "outputs": [],
   "source": [
    "save(model, 'models/Shakespeare_200units1_25_50')\n",
    "\n",
    "#150 units, 200 units, epochs, batch_size, dropout"
   ]
  },
  {
   "cell_type": "code",
   "execution_count": 18,
   "metadata": {},
   "outputs": [
    {
     "data": {
      "image/png": "[encoded data removed]",
      "text/plain": [
       "<Figure size 432x288 with 1 Axes>"
      ]
     },
     "metadata": {
      "needs_background": "light"
     },
     "output_type": "display_data"
    }
   ],
   "source": [
    "from matplotlib import pyplot\n",
    "\n",
    "# plot train and validation loss\n",
    "pyplot.plot(history.history['loss'])\n",
    "pyplot.plot(history.history['val_loss'])\n",
    "pyplot.title('model train vs validation loss')\n",
    "pyplot.ylabel('loss')\n",
    "pyplot.xlabel('epoch')\n",
    "pyplot.legend(['train', 'validation'], loc='upper right')\n",
    "pyplot.savefig('visuals/Shakespeare_200units1_25_50_loss.png')\n",
    "pyplot.show()"
   ]
  },
  {
   "cell_type": "code",
   "execution_count": 13,
   "metadata": {},
   "outputs": [
    {
     "data": {
      "text/plain": [
       "1.7502793135380668"
      ]
     },
     "execution_count": 13,
     "metadata": {},
     "output_type": "execute_result"
    }
   ],
   "source": [
    "min(history.history['val_loss']) # 1.7592611852973024"
   ]
  },
  {
   "cell_type": "code",
   "execution_count": 14,
   "metadata": {},
   "outputs": [
    {
     "data": {
      "text/plain": [
       "9"
      ]
     },
     "execution_count": 14,
     "metadata": {},
     "output_type": "execute_result"
    }
   ],
   "source": [
    "history.history['val_loss'].index(min(history.history['val_loss'])) # 10"
   ]
  },
  {
   "cell_type": "code",
   "execution_count": 15,
   "metadata": {},
   "outputs": [],
   "source": [
    "with open('Shakespeare_200units1_25_50_hist.pkl', 'wb') as f:\n",
    "    pickle.dump(history, f)"
   ]
  },
  {
   "cell_type": "code",
   "execution_count": 16,
   "metadata": {},
   "outputs": [],
   "source": [
    "def sample(preds, temperature = 1.0):\n",
    "    ''' Helper function to sample an index from\n",
    "    a probability array. Taken from StackOverflow/\n",
    "    open source code on GitHub. '''\n",
    "\n",
    "    preds = np.asarray(preds).astype('float')\n",
    "    preds = np.log(preds) / temperature\n",
    "    preds[preds == np.inf] = 0\n",
    "\n",
    "    exp_preds = np.exp(preds)\n",
    "    preds = exp_preds / np.sum(exp_preds)\n",
    "    \n",
    "    return np.argmax(np.random.multinomial(1, preds, 1))"
   ]
  },
  {
   "cell_type": "code",
   "execution_count": 17,
   "metadata": {},
   "outputs": [
    {
     "name": "stdout",
     "output_type": "stream",
     "text": [
      "\n",
      "\n",
      "temperature = 1.5\n",
      "\n",
      "shall i compare thee to a summer's day?\n",
      "if my croennngs latce hid every proud beangen,\n",
      "gove losnting ourust covest frewher new,\n",
      "potsilo in thy bohakes so bat my reme.\n",
      "uhen sick ih thre hattour prast rate kualll)\n",
      "wat's their ancanter ad'ting maying meurflact,\n",
      "love bach hold thy make thuu the selfviled with and out,\n",
      "nor the dore threeown matewher op the lo,.\n",
      "or if it were it is, take on thy brays,\n",
      "whathin tabser with ghorads uponds, coict you kel.\n",
      "a ules rece to upes veryer vase,\n",
      "which i conveer thee a blegser the filld.\n",
      "unless that time's mure part connined-younow,\n",
      "novel all ale yay seeks my hears she cand,\n",
      "more lime 'ewes'nt coning your should e'seeure,\n",
      "and therefore live, in this inow\n",
      "ind, thy biraty filld wascay upyipriasest ,\n",
      "wuils in kinds didsect fasay to thee.\n",
      "wheret thy wealt, is priving doth .nfur allow\n",
      "than pwaitan-simr\n",
      "\n",
      "\n",
      "temperature = 0.75\n",
      "\n",
      "shall i compare thee to a summer's day?\n",
      "when i beauty is, so rese shall fair or mennew,\n",
      "some in their row, my love, thou make that brishow,\n",
      "doth not dirpect is your asoun their swill,\n",
      "what in your self in this in a stall efend,\n",
      "dor in i my fairtess cantert of this, and dear sunflege,\n",
      "which with the priis ropest of heath und,\n",
      "and beauty be that in have i ake defert.\n",
      "that love make mading beauty hath a cruselleve share sweet lessed,\n",
      "but what in my heart the brow crull thee,\n",
      "and the rast, so of thy seet desiret of me,\n",
      "where be but so now do cunnest of my plais,\n",
      "or hear that which for fassessings of thine,\n",
      "and hate hat for thy hapoy of thy sweet sin,\n",
      "and lover wath were in your self and aye,\n",
      "they flewserupoul noth not me with self-true,\n",
      "my live my heart take that all my self,\n",
      "you you you lear they brows away thee cansleap,\n",
      "as if my \n",
      "\n",
      "\n",
      "temperature = 0.25\n",
      "\n",
      "shall i compare thee to a summer's day?\n",
      "when i both sour doth peape challes weels,\n",
      "but more boon such have not shall seem be will,\n",
      "for shall not love happines her still thee,\n",
      "and paty lives live i have shall newak are.\n",
      "when i bat withing the beauty on sumpone,\n",
      "sing, i love and therefore to suth gaint,\n",
      "live i with with thy self thy self thy sweet,\n",
      "thou thought it see the world's priissed be,\n",
      "and therefore have i art the self i seem,\n",
      "and therefore have to rest do dook be such,\n",
      "and pray the rast doth the star to me sublless,\n",
      "with i more of thee thee i sum to thee,\n",
      "and praise the ear with thy self thy self,\n",
      "which i not remome that thine the worth thee hemmert,\n",
      "which i will see that i beauty see will still,\n",
      "and praiter limes a will me and loven thine,\n",
      "and praises are being court in the rends,\n",
      "though i so belorgeth that thou art all w\n"
     ]
    }
   ],
   "source": [
    "nchar = 800 # length of each line produced from preds\n",
    "for temp in [1.5, 0.75, 0.25]:\n",
    "    print( '\\n' + '\\n' + 'temperature = ' + str(temp) + '\\n')\n",
    "    \n",
    "    line = 'shall i compare thee to a summer\\'s day?\\n'\n",
    "    sentence = line\n",
    "    \n",
    "    for i in range(nchar):\n",
    "        x = np.zeros((1, leng, len(chars)))\n",
    "        for t, char in enumerate(sentence):\n",
    "            x[0, t, dic_char_to_id[char]] = 1\n",
    "\n",
    "        preds = model.predict(x, verbose=False)[0]\n",
    "        nxt_char = dic_id_to_char[sample(preds, temp)]\n",
    "\n",
    "        line += nxt_char\n",
    "        sentence = sentence[1:] + nxt_char\n",
    "        \n",
    "    print(line)"
   ]
  }
 ],
 "metadata": {
  "kernelspec": {
   "display_name": "Python 3",
   "language": "python",
   "name": "python3"
  },
  "language_info": {
   "codemirror_mode": {
    "name": "ipython",
    "version": 3
   },
   "file_extension": ".py",
   "mimetype": "text/x-python",
   "name": "python",
   "nbconvert_exporter": "python",
   "pygments_lexer": "ipython3",
   "version": "3.6.8"
  }
 },
 "nbformat": 4,
 "nbformat_minor": 2
}
