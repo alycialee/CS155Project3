{
 "cells": [
  {
   "cell_type": "code",
   "execution_count": 1,
   "metadata": {},
   "outputs": [
    {
     "name": "stderr",
     "output_type": "stream",
     "text": [
      "Using TensorFlow backend.\n"
     ]
    }
   ],
   "source": [
    "import tensorflow as tf\n",
    "import numpy as np\n",
    "import pickle\n",
    "import itertools\n",
    "\n",
    "from keras.models import Sequential, model_from_json\n",
    "from keras.layers.core import Dense, Activation, Dropout\n",
    "from keras.layers.recurrent import LSTM\n",
    "from sklearn.model_selection import train_test_split"
   ]
  },
  {
   "cell_type": "code",
   "execution_count": 2,
   "metadata": {},
   "outputs": [],
   "source": [
    "def get_model(shape):\n",
    "    model = Sequential()\n",
    "    model.add(LSTM(200, return_sequences=True, input_shape=shape))\n",
    "    model.add(Dropout(0.5))\n",
    "    model.add(LSTM(200, return_sequences=False))\n",
    "    model.add(Dropout(0.5))\n",
    "    model.add(Dense(shape[1]))\n",
    "    model.add(Activation('softmax'))\n",
    "\n",
    "    model.compile(loss='categorical_crossentropy', optimizer='rmsprop')\n",
    "    \n",
    "    return model\n",
    "\n",
    "def train_model(model, X, y, val_data, epochs=10, batch_size=50):\n",
    "    history = model.fit(X, y, validation_data=val_data, epochs=epochs, batch_size=batch_size)\n",
    "    return history\n",
    "    \n",
    "def save(model, name):\n",
    "    model_json = model.to_json()\n",
    "    with open(name + '.json', \"w\") as json_file:\n",
    "        json_file.write(model_json)\n",
    "    # serialize weights to HDF5\n",
    "    model.save_weights(name + '.h5')\n",
    "\n",
    "def load(name):\n",
    "    # load json and create model\n",
    "    json_file = open(name + '.json', 'r')\n",
    "    loaded_model_json = json_file.read()\n",
    "    json_file.close()\n",
    "    loaded_model = model_from_json(loaded_model_json)\n",
    "    # load weights into new model\n",
    "    loaded_model.load_weights(name + \".h5\")\n",
    "    return model"
   ]
  },
  {
   "cell_type": "code",
   "execution_count": 3,
   "metadata": {},
   "outputs": [],
   "source": [
    "def get_sonnets(filename):\n",
    "    \"\"\" Returns entire txt file as string. \"\"\"\n",
    "    str = \"\"\n",
    "    with open(filename) as file:\n",
    "        for line in file:\n",
    "            line = line.strip()\n",
    "            if line.isdigit() == False and len(line) > 0:\n",
    "                str += line.lower() + \"\\n\"\n",
    "    return str"
   ]
  },
  {
   "cell_type": "code",
   "execution_count": 4,
   "metadata": {},
   "outputs": [
    {
     "name": "stdout",
     "output_type": "stream",
     "text": [
      "# chars in txt: 93674\n"
     ]
    }
   ],
   "source": [
    "file = 'data/shakespeare.txt'\n",
    "sons = get_sonnets(file)\n",
    "\n",
    "print (\"# chars in txt: \" + str(len(sons)))"
   ]
  },
  {
   "cell_type": "code",
   "execution_count": 5,
   "metadata": {},
   "outputs": [
    {
     "name": "stdout",
     "output_type": "stream",
     "text": [
      "{' ', ',', 'p', 'l', 'e', '-', 'd', 's', 'w', 'q', 'x', '.', '(', '?', 'y', 'f', 'j', 'g', 'n', ')', 'c', 'v', 'i', 'a', ':', 'k', '\\n', \"'\", '!', 'h', 'o', 't', 'r', 'm', 'b', 'z', 'u', ';'}\n",
      "# unique chars: 38\n"
     ]
    }
   ],
   "source": [
    "chars = set(sons) # get set of all characters\n",
    "print(chars)\n",
    "print (\"# unique chars: \" + str(len(chars)))\n",
    "\n",
    "# create mapping of characters to unique ids\n",
    "dic_char_to_id = dict((c, i) for i, c in enumerate(chars))\n",
    "dic_id_to_char = dict((i, c) for i, c in enumerate(chars))"
   ]
  },
  {
   "cell_type": "code",
   "execution_count": 6,
   "metadata": {},
   "outputs": [
    {
     "name": "stdout",
     "output_type": "stream",
     "text": [
      "# seqs:  46817\n"
     ]
    }
   ],
   "source": [
    "# create input, output sequences\n",
    "\n",
    "leng = 40\n",
    "step_size = 2\n",
    "seqs, nxt_char = [], []\n",
    "# take all possible subsequences of 40 consecutive characters\n",
    "for i in range(0, len(sons) - leng, step_size):\n",
    "    seqs.append(sons[i: i + leng])\n",
    "    nxt_char.append(sons[i + leng])\n",
    "print(\"# seqs: \", len(seqs))"
   ]
  },
  {
   "cell_type": "code",
   "execution_count": 7,
   "metadata": {},
   "outputs": [],
   "source": [
    "# convert seqs to one-hot encoding\n",
    "X = np.zeros((len(seqs), leng, len(chars)), dtype=np.bool)\n",
    "y = np.zeros((len(seqs), len(chars)), dtype=np.bool)\n",
    "\n",
    "for i, seq in enumerate(seqs):\n",
    "    for j, char in enumerate(seq):\n",
    "        X[i, j, dic_char_to_id[char]] = 1\n",
    "    y[i, dic_char_to_id[nxt_char[i]]] = 1"
   ]
  },
  {
   "cell_type": "code",
   "execution_count": 8,
   "metadata": {},
   "outputs": [],
   "source": [
    "x_train, x_test, y_train, y_test = train_test_split(X, y, test_size=0.33, random_state=42)"
   ]
  },
  {
   "cell_type": "code",
   "execution_count": 9,
   "metadata": {},
   "outputs": [],
   "source": [
    "model = get_model((leng, len(chars)))"
   ]
  },
  {
   "cell_type": "code",
   "execution_count": 10,
   "metadata": {},
   "outputs": [
    {
     "name": "stdout",
     "output_type": "stream",
     "text": [
      "Train on 31367 samples, validate on 15450 samples\n",
      "Epoch 1/10\n",
      "31367/31367 [==============================] - 406s 13ms/step - loss: 2.8661 - val_loss: 2.5089\n",
      "Epoch 2/10\n",
      "31367/31367 [==============================] - 405s 13ms/step - loss: 2.3876 - val_loss: 2.2756\n",
      "Epoch 3/10\n",
      "31367/31367 [==============================] - 27342s 872ms/step - loss: 2.2255 - val_loss: 2.1160\n",
      "Epoch 4/10\n",
      "31367/31367 [==============================] - 410s 13ms/step - loss: 2.1279 - val_loss: 2.0466\n",
      "Epoch 5/10\n",
      "31367/31367 [==============================] - 992s 32ms/step - loss: 2.0528 - val_loss: 1.9870\n",
      "Epoch 6/10\n",
      "31367/31367 [==============================] - 253s 8ms/step - loss: 2.0060 - val_loss: 1.9384\n",
      "Epoch 7/10\n",
      "31367/31367 [==============================] - 327s 10ms/step - loss: 1.9567 - val_loss: 1.8947\n",
      "Epoch 8/10\n",
      "31367/31367 [==============================] - 332s 11ms/step - loss: 1.9115 - val_loss: 1.8676\n",
      "Epoch 9/10\n",
      "31367/31367 [==============================] - 338s 11ms/step - loss: 1.8787 - val_loss: 1.8621\n",
      "Epoch 10/10\n",
      "31367/31367 [==============================] - 259s 8ms/step - loss: 1.8431 - val_loss: 1.8265\n"
     ]
    }
   ],
   "source": [
    "history = train_model(model, x_train, y_train, (x_test, y_test))"
   ]
  },
  {
   "cell_type": "code",
   "execution_count": 11,
   "metadata": {},
   "outputs": [],
   "source": [
    "save(model, 'models/Shakespeare_200units_10_50_0.5DROPOUT')\n",
    "\n",
    "#150 units, 200 units, epochs, batch_size, dropout"
   ]
  },
  {
   "cell_type": "code",
   "execution_count": 18,
   "metadata": {},
   "outputs": [
    {
     "data": {
      "image/png": "[encoded data removed]",
      "text/plain": [
       "<Figure size 432x288 with 1 Axes>"
      ]
     },
     "metadata": {
      "needs_background": "light"
     },
     "output_type": "display_data"
    }
   ],
   "source": [
    "from matplotlib import pyplot\n",
    "\n",
    "# plot train and validation loss\n",
    "pyplot.plot(history.history['loss'])\n",
    "pyplot.plot(history.history['val_loss'])\n",
    "pyplot.title('model train vs validation loss')\n",
    "pyplot.ylabel('loss')\n",
    "pyplot.xlabel('epoch')\n",
    "pyplot.legend(['train', 'validation'], loc='upper right')\n",
    "pyplot.savefig('visuals/Shakespeare_200units_10_50_0.5DROPOUT_loss.png')\n",
    "pyplot.show()"
   ]
  },
  {
   "cell_type": "code",
   "execution_count": 13,
   "metadata": {},
   "outputs": [
    {
     "data": {
      "text/plain": [
       "1.8264860883114022"
      ]
     },
     "execution_count": 13,
     "metadata": {},
     "output_type": "execute_result"
    }
   ],
   "source": [
    "min(history.history['val_loss']) # 1.7592611852973024"
   ]
  },
  {
   "cell_type": "code",
   "execution_count": 14,
   "metadata": {},
   "outputs": [
    {
     "data": {
      "text/plain": [
       "9"
      ]
     },
     "execution_count": 14,
     "metadata": {},
     "output_type": "execute_result"
    }
   ],
   "source": [
    "history.history['val_loss'].index(min(history.history['val_loss'])) # 10"
   ]
  },
  {
   "cell_type": "code",
   "execution_count": 15,
   "metadata": {},
   "outputs": [],
   "source": [
    "with open('Shakespeare_200units_10_50_0.5DROPOUT.pkl', 'wb') as f:\n",
    "    pickle.dump(history, f)"
   ]
  },
  {
   "cell_type": "code",
   "execution_count": 16,
   "metadata": {},
   "outputs": [],
   "source": [
    "def sample(preds, temperature = 1.0):\n",
    "    ''' Helper function to sample an index from\n",
    "    a probability array. Taken from StackOverflow/\n",
    "    open source code on GitHub. '''\n",
    "\n",
    "    preds = np.asarray(preds).astype('float')\n",
    "    preds = np.log(preds) / temperature\n",
    "    preds[preds == np.inf] = 0\n",
    "\n",
    "    exp_preds = np.exp(preds)\n",
    "    preds = exp_preds / np.sum(exp_preds)\n",
    "    \n",
    "    return np.argmax(np.random.multinomial(1, preds, 1))"
   ]
  },
  {
   "cell_type": "code",
   "execution_count": 17,
   "metadata": {},
   "outputs": [
    {
     "name": "stdout",
     "output_type": "stream",
     "text": [
      "\n",
      "\n",
      "temperature = 1.5\n",
      "\n",
      "shall i compare thee to a summer's day?\n",
      "and mush fhim aymicus to shos then of'rrgoh,\n",
      "sat chenosel'dmreb''ss, elisuataic faning ladwht to,\n",
      "buts, e bus. aod a from yer boiny apapatelseds,\n",
      "methumy bucy meir tare erour atkett\n",
      "wurl-urldhis mfklave of my frarrer i befunet\n",
      "sestee) ame wethove ,saests d,ttridgt my hiess be right,\n",
      "sfase bad ut,abut cpda.ne abdrahcly dreraee\n",
      "be tneer, blastalait who heauven, to lawin cufniid\n",
      "alalouy, dellegkonn modds \n",
      "olsingt thyss,\n",
      "wollose wor thy which lost sfantt'th duck ceer, saace \n",
      "oarlak, and lovel blern beht,ny that tryoww hicy prsoyrdays weantaring?\n",
      "pelthece\n",
      "ddint rygirle from thuthgpat ai y evet yate,\n",
      "orilgepy .uce ou?ingt, a caucp,lrainnow foreter utc\n",
      "eal, fere a womd krcncgacgnusi dich alst,\n",
      "yet woelt, to teters of th entrress dhowt'-muspy hestecdt,\n",
      "in pirlim, that you his gechour that mnfredw \n",
      "\n",
      "\n",
      "temperature = 0.75\n",
      "\n",
      "shall i compare thee to a summer's day?\n",
      "hat three, beauty on seen that thee araud,\n",
      "of thy she farling hert sear the beauty,\n",
      "and this my poid thee that i most this then,\n",
      "and nerter of mend head that a aring barn\n",
      "this i arn thy hade my daily his not hawe:\n",
      "hor ween rowhers thou sume now with flow,\n",
      "but doe with of then thou of delline thou ,are,\n",
      "of thy sucr now whoth the swaoty shall of not,\n",
      "o and that of thy startheft sulling in .kealtude,\n",
      "that eyis this the toull if sull of thy ebthere of thy somath thee seelf,\n",
      "lise th' that in peesurt, that thou the efelless,\n",
      "and sange rearirg of the word stomenter,\n",
      "the haante thy love ard onnuce and houd saald\n",
      "thy sin then tome bece of the oll ere se furf,\n",
      "and cinden dered my and thou and some.\n",
      "but that of thy warte a misring kill eye,\n",
      "by  arseringilo\n",
      "the beathens beausy of thy well in thy me,\n",
      "t\n",
      "\n",
      "\n",
      "temperature = 0.25\n",
      "\n",
      "shall i compare thee to a summer's day?\n",
      "then the conther the love the contenting thee,\n",
      "that the for the stanter the with in the start,\n",
      "the stall the love the self in the stall,\n",
      "then the stall the love the stall that the steet the stare,\n",
      "when the love the for the self the centered,\n",
      "the please the with the prowert the self,\n",
      "the parter the the love that i and the with the start,\n",
      "that so my self the with the with the start,\n",
      "and the with my soll of the the love the stert,\n",
      "that stall the stall the the love the there,\n",
      "that that the beauty stall the of my love,\n",
      "the love the wart the love the stall of thee,\n",
      "then the stall the the start when the beart,\n",
      "and the the start the stert the stall that where the thee,\n",
      "the start so the beauty hath the start the self,\n",
      "the ever and the then the there and more,\n",
      "that shall the love the store the love \n"
     ]
    }
   ],
   "source": [
    "nchar = 800 # length of each line produced from preds\n",
    "for temp in [1.5, 0.75, 0.25]:\n",
    "    print( '\\n' + '\\n' + 'temperature = ' + str(temp) + '\\n')\n",
    "    \n",
    "    line = 'shall i compare thee to a summer\\'s day?\\n'\n",
    "    sentence = line\n",
    "    \n",
    "    for i in range(nchar):\n",
    "        x = np.zeros((1, leng, len(chars)))\n",
    "        for t, char in enumerate(sentence):\n",
    "            x[0, t, dic_char_to_id[char]] = 1\n",
    "\n",
    "        preds = model.predict(x, verbose=False)[0]\n",
    "        nxt_char = dic_id_to_char[sample(preds, temp)]\n",
    "\n",
    "        line += nxt_char\n",
    "        sentence = sentence[1:] + nxt_char\n",
    "        \n",
    "    print(line)"
   ]
  }
 ],
 "metadata": {
  "kernelspec": {
   "display_name": "Python 3",
   "language": "python",
   "name": "python3"
  },
  "language_info": {
   "codemirror_mode": {
    "name": "ipython",
    "version": 3
   },
   "file_extension": ".py",
   "mimetype": "text/x-python",
   "name": "python",
   "nbconvert_exporter": "python",
   "pygments_lexer": "ipython3",
   "version": "3.6.8"
  }
 },
 "nbformat": 4,
 "nbformat_minor": 2
}
