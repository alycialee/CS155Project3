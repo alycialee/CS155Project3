{
 "cells": [
  {
   "cell_type": "code",
   "execution_count": 1,
   "metadata": {},
   "outputs": [
    {
     "name": "stderr",
     "output_type": "stream",
     "text": [
      "Using TensorFlow backend.\n"
     ]
    }
   ],
   "source": [
    "import tensorflow as tf\n",
    "import numpy as np\n",
    "import pickle\n",
    "import itertools\n",
    "\n",
    "from keras.models import Sequential, model_from_json\n",
    "from keras.layers.core import Dense, Activation, Dropout\n",
    "from keras.layers.recurrent import LSTM\n",
    "from sklearn.model_selection import train_test_split"
   ]
  },
  {
   "cell_type": "code",
   "execution_count": 2,
   "metadata": {},
   "outputs": [],
   "source": [
    "def get_model(shape):\n",
    "    model = Sequential()\n",
    "    model.add(LSTM(200, return_sequences=True, input_shape=shape))\n",
    "    model.add(Dropout(0.3))\n",
    "    model.add(LSTM(200, return_sequences=False))\n",
    "    model.add(Dropout(0.3))\n",
    "    model.add(Dense(shape[1]))\n",
    "    model.add(Activation('softmax'))\n",
    "\n",
    "    model.compile(loss='categorical_crossentropy', optimizer='rmsprop')\n",
    "    \n",
    "    return model\n",
    "\n",
    "def train_model(model, X, y, val_data, epochs=10, batch_size=25):\n",
    "    history = model.fit(X, y, validation_data=val_data, epochs=epochs, batch_size=batch_size)\n",
    "    return history\n",
    "    \n",
    "def save(model, name):\n",
    "    model_json = model.to_json()\n",
    "    with open(name + '.json', \"w\") as json_file:\n",
    "        json_file.write(model_json)\n",
    "    # serialize weights to HDF5\n",
    "    model.save_weights(name + '.h5')\n",
    "\n",
    "def load(name):\n",
    "    # load json and create model\n",
    "    json_file = open(name + '.json', 'r')\n",
    "    loaded_model_json = json_file.read()\n",
    "    json_file.close()\n",
    "    loaded_model = model_from_json(loaded_model_json)\n",
    "    # load weights into new model\n",
    "    loaded_model.load_weights(name + \".h5\")\n",
    "    return model"
   ]
  },
  {
   "cell_type": "code",
   "execution_count": 3,
   "metadata": {},
   "outputs": [],
   "source": [
    "def get_sonnets(filename):\n",
    "    \"\"\" Returns entire txt file as string. \"\"\"\n",
    "    str = \"\"\n",
    "    with open(filename) as file:\n",
    "        for line in file:\n",
    "            line = line.strip()\n",
    "            if line.isdigit() == False and len(line) > 0:\n",
    "                str += line.lower() + \"\\n\"\n",
    "    return str"
   ]
  },
  {
   "cell_type": "code",
   "execution_count": 4,
   "metadata": {},
   "outputs": [
    {
     "name": "stdout",
     "output_type": "stream",
     "text": [
      "# chars in txt: 93674\n"
     ]
    }
   ],
   "source": [
    "file = 'data/shakespeare.txt'\n",
    "sons = get_sonnets(file)\n",
    "\n",
    "print (\"# chars in txt: \" + str(len(sons)))"
   ]
  },
  {
   "cell_type": "code",
   "execution_count": 5,
   "metadata": {},
   "outputs": [
    {
     "name": "stdout",
     "output_type": "stream",
     "text": [
      "{'?', 'w', 's', ':', 'e', 'k', 'q', 'z', 'c', 'r', 'l', 'o', 'm', 'g', ',', 'p', '.', 'y', ';', 'j', 'n', ')', 'd', '-', ' ', 'a', 'x', '\\n', 't', 'b', 'v', 'h', \"'\", 'f', 'i', 'u', '(', '!'}\n",
      "# unique chars: 38\n"
     ]
    }
   ],
   "source": [
    "chars = set(sons) # get set of all characters\n",
    "print(chars)\n",
    "print (\"# unique chars: \" + str(len(chars)))\n",
    "\n",
    "# create mapping of characters to unique ids\n",
    "dic_char_to_id = dict((c, i) for i, c in enumerate(chars))\n",
    "dic_id_to_char = dict((i, c) for i, c in enumerate(chars))"
   ]
  },
  {
   "cell_type": "code",
   "execution_count": 6,
   "metadata": {},
   "outputs": [
    {
     "name": "stdout",
     "output_type": "stream",
     "text": [
      "# seqs:  46817\n"
     ]
    }
   ],
   "source": [
    "# create input, output sequences\n",
    "\n",
    "leng = 40\n",
    "step_size = 2\n",
    "seqs, nxt_char = [], []\n",
    "# take all possible subsequences of 40 consecutive characters\n",
    "for i in range(0, len(sons) - leng, step_size):\n",
    "    seqs.append(sons[i: i + leng])\n",
    "    nxt_char.append(sons[i + leng])\n",
    "print(\"# seqs: \", len(seqs))"
   ]
  },
  {
   "cell_type": "code",
   "execution_count": 7,
   "metadata": {},
   "outputs": [],
   "source": [
    "# convert seqs to one-hot encoding\n",
    "X = np.zeros((len(seqs), leng, len(chars)), dtype=np.bool)\n",
    "y = np.zeros((len(seqs), len(chars)), dtype=np.bool)\n",
    "\n",
    "for i, seq in enumerate(seqs):\n",
    "    for j, char in enumerate(seq):\n",
    "        X[i, j, dic_char_to_id[char]] = 1\n",
    "    y[i, dic_char_to_id[nxt_char[i]]] = 1"
   ]
  },
  {
   "cell_type": "code",
   "execution_count": 8,
   "metadata": {},
   "outputs": [],
   "source": [
    "x_train, x_test, y_train, y_test = train_test_split(X, y, test_size=0.25, random_state=42)"
   ]
  },
  {
   "cell_type": "code",
   "execution_count": 9,
   "metadata": {},
   "outputs": [],
   "source": [
    "model = get_model((leng, len(chars)))"
   ]
  },
  {
   "cell_type": "code",
   "execution_count": 10,
   "metadata": {},
   "outputs": [
    {
     "name": "stdout",
     "output_type": "stream",
     "text": [
      "Train on 35112 samples, validate on 11705 samples\n",
      "Epoch 1/10\n",
      "35112/35112 [==============================] - 316s 9ms/step - loss: 2.5911 - val_loss: 2.2518\n",
      "Epoch 2/10\n",
      "35112/35112 [==============================] - 439s 13ms/step - loss: 2.1608 - val_loss: 2.0401\n",
      "Epoch 3/10\n",
      "35112/35112 [==============================] - 419s 12ms/step - loss: 2.0060 - val_loss: 1.9240\n",
      "Epoch 4/10\n",
      "35112/35112 [==============================] - 399s 11ms/step - loss: 1.9026 - val_loss: 1.8672\n",
      "Epoch 5/10\n",
      "35112/35112 [==============================] - 412s 12ms/step - loss: 1.8292 - val_loss: 1.8237\n",
      "Epoch 6/10\n",
      "35112/35112 [==============================] - 440s 13ms/step - loss: 1.7638 - val_loss: 1.7946\n",
      "Epoch 7/10\n",
      "35112/35112 [==============================] - 485s 14ms/step - loss: 1.7127 - val_loss: 1.7768\n",
      "Epoch 8/10\n",
      "35112/35112 [==============================] - 416s 12ms/step - loss: 1.6597 - val_loss: 1.7451\n",
      "Epoch 9/10\n",
      "35112/35112 [==============================] - 426s 12ms/step - loss: 1.6177 - val_loss: 1.7434\n",
      "Epoch 10/10\n",
      "35112/35112 [==============================] - 455s 13ms/step - loss: 1.5706 - val_loss: 1.7512\n"
     ]
    }
   ],
   "source": [
    "history = train_model(model, x_train, y_train, (x_test, y_test))"
   ]
  },
  {
   "cell_type": "code",
   "execution_count": 11,
   "metadata": {},
   "outputs": [],
   "source": [
    "save(model, 'models/Shakespeare_200units_10_25_0.3DROPOUT_0.25split_SHUFF')\n",
    "\n",
    "#150 units, 200 units, epochs, batch_size, dropout"
   ]
  },
  {
   "cell_type": "code",
   "execution_count": 18,
   "metadata": {},
   "outputs": [
    {
     "data": {
      "image/png": "[encoded data removed]",
      "text/plain": [
       "<Figure size 432x288 with 1 Axes>"
      ]
     },
     "metadata": {
      "needs_background": "light"
     },
     "output_type": "display_data"
    }
   ],
   "source": [
    "from matplotlib import pyplot\n",
    "\n",
    "# plot train and validation loss\n",
    "pyplot.plot(history.history['loss'])\n",
    "pyplot.plot(history.history['val_loss'])\n",
    "pyplot.title('model train vs validation loss')\n",
    "pyplot.ylabel('loss')\n",
    "pyplot.xlabel('epoch')\n",
    "pyplot.legend(['train', 'validation'], loc='upper right')\n",
    "pyplot.savefig('visuals/Shakespeare_200units_10_25_0.3DROPOUT_0.25split_SHUFF_loss.png')\n",
    "pyplot.show()"
   ]
  },
  {
   "cell_type": "code",
   "execution_count": 13,
   "metadata": {},
   "outputs": [
    {
     "data": {
      "text/plain": [
       "1.7434056231426611"
      ]
     },
     "execution_count": 13,
     "metadata": {},
     "output_type": "execute_result"
    }
   ],
   "source": [
    "min(history.history['val_loss']) # 1.7415409763365512"
   ]
  },
  {
   "cell_type": "code",
   "execution_count": 14,
   "metadata": {},
   "outputs": [
    {
     "data": {
      "text/plain": [
       "8"
      ]
     },
     "execution_count": 14,
     "metadata": {},
     "output_type": "execute_result"
    }
   ],
   "source": [
    "history.history['val_loss'].index(min(history.history['val_loss'])) # 9"
   ]
  },
  {
   "cell_type": "code",
   "execution_count": 15,
   "metadata": {},
   "outputs": [],
   "source": [
    "with open('Shakespeare_200units_10_25_0.3DROPOUT_0.25split_SHUFF.pkl', 'wb') as f:\n",
    "    pickle.dump(history, f)"
   ]
  },
  {
   "cell_type": "code",
   "execution_count": 16,
   "metadata": {},
   "outputs": [],
   "source": [
    "def sample(preds, temperature = 1.0):\n",
    "    ''' Helper function to sample an index from\n",
    "    a probability array. Taken from StackOverflow/\n",
    "    open source code on GitHub. '''\n",
    "\n",
    "    preds = np.asarray(preds).astype('float')\n",
    "    preds = np.log(preds) / temperature\n",
    "    preds[preds == np.inf] = 0\n",
    "\n",
    "    exp_preds = np.exp(preds)\n",
    "    preds = exp_preds / np.sum(exp_preds)\n",
    "    \n",
    "    return np.argmax(np.random.multinomial(1, preds, 1))"
   ]
  },
  {
   "cell_type": "code",
   "execution_count": 17,
   "metadata": {},
   "outputs": [
    {
     "name": "stdout",
     "output_type": "stream",
     "text": [
      "\n",
      "\n",
      "temperature = 1.5\n",
      "\n",
      "shall i compare thee to a summer's day?\n",
      "ad meth es.other be thole waroun, inle nag)y,\n",
      "goln 'ow thegcho's incenetlets seun:\n",
      "chen behtercy pmi'sped,\n",
      "aar scpnuitd thec:ual licuelio,\n",
      "gulvn sivesl plire bscrivefle willankaduteht.\n",
      "bohaustok ther my whern whht raking made,\n",
      "tro', au; cothwioln durveqveing, bwiy dgionare',\n",
      "hin ,they deost nifainsplole outn,\n",
      "thah in vatk, a:abss of goobtoiay cdidlick net-so,\n",
      "aal neirncreus nat:herskoy, wipthos bros,'sapningcs,\n",
      "for pate by in'siwcefsed repwolt,\n",
      "wibely to yus risiut puck wellowy,\n",
      "what thinhiugh any ily what pefuse wiry i, rrweglids,\n",
      "and seelin time forr is niur'scaale?\n",
      "alfive is engomy bu'nnce xsacel xcokohed,\n",
      "whie 'mer ridure, anget any groutoned ridg?\n",
      "sii be rapwerigach ago agiingal mde nosng,\n",
      "alt bift, do miduteded's nugur's cavint,\n",
      "at the gevent leppik mixtths foih ontter',heirob,\n",
      "even \n",
      "\n",
      "\n",
      "temperature = 0.75\n",
      "\n",
      "shall i compare thee to a summer's day?\n",
      "be this being glat a trood to suul read,\n",
      "of they show, sdeep and me is sup, my lind,\n",
      "i dreach your foul thou art love, to thee,\n",
      "the werey in theor rieb, i mightss to praise,\n",
      "hour all threfwill of so both far thee from thou may,\n",
      "shall then i treah thee i from thee in thee,\n",
      "hath pores my flainters eterath,\n",
      "and his partle i vane to thee i sicp,\n",
      "and thy nond preess then my self, my fairer,\n",
      "so post thy vainte, yet my redased,\n",
      "in not thris rast with me and doth thee my,\n",
      "in my for read heart her i prosace as ity,\n",
      "worrs with in at ull all the born to thee,\n",
      "and for the for should my neather a, his fest,\n",
      "then blast in his sen our one, and is reay,\n",
      "but what that i mak in all a faaten are,\n",
      "hath wat all thy love past that your self,\n",
      "that which us maring of thy swill for my swill,\n",
      "but in they see, and c\n",
      "\n",
      "\n",
      "temperature = 0.25\n",
      "\n",
      "shall i compare thee to a summer's day?\n",
      "i al will in thy sull the world so my self,\n",
      "and therefore will will beauty of thee thee,\n",
      "when then but thee then thee then thee thee,\n",
      "and then the part thee in thee i not me,\n",
      "and in the world with the praise of thee,\n",
      "and then be the prace in thy self so thee,\n",
      "and then thou art so my self all thee,\n",
      "and then the world with thou art thee thee my love,\n",
      "that i with the with thee then then thee,\n",
      "which in the for thy self thee then thee,\n",
      "and from the world with the praise to thee,\n",
      "and then then better then then beauty,\n",
      "and then the praise of thee i more thee vere.\n",
      "when thee the prose of thy self the lard,\n",
      "that for the world with the the love, thee thee in thee,\n",
      "and the straight in thy self all thee,\n",
      "when they see then then betore the prood,\n",
      "that thou art thee in the restress and sweet,\n",
      "the strang\n"
     ]
    }
   ],
   "source": [
    "nchar = 800 # length of each line produced from preds\n",
    "for temp in [1.5, 0.75, 0.25]:\n",
    "    print( '\\n' + '\\n' + 'temperature = ' + str(temp) + '\\n')\n",
    "    \n",
    "    line = 'shall i compare thee to a summer\\'s day?\\n'\n",
    "    sentence = line\n",
    "    \n",
    "    for i in range(nchar):\n",
    "        x = np.zeros((1, leng, len(chars)))\n",
    "        for t, char in enumerate(sentence):\n",
    "            x[0, t, dic_char_to_id[char]] = 1\n",
    "\n",
    "        preds = model.predict(x, verbose=False)[0]\n",
    "        nxt_char = dic_id_to_char[sample(preds, temp)]\n",
    "\n",
    "        line += nxt_char\n",
    "        sentence = sentence[1:] + nxt_char\n",
    "        \n",
    "    print(line)"
   ]
  }
 ],
 "metadata": {
  "kernelspec": {
   "display_name": "Python 3",
   "language": "python",
   "name": "python3"
  },
  "language_info": {
   "codemirror_mode": {
    "name": "ipython",
    "version": 3
   },
   "file_extension": ".py",
   "mimetype": "text/x-python",
   "name": "python",
   "nbconvert_exporter": "python",
   "pygments_lexer": "ipython3",
   "version": "3.6.8"
  }
 },
 "nbformat": 4,
 "nbformat_minor": 2
}
