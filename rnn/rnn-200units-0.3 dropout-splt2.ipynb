{
 "cells": [
  {
   "cell_type": "code",
   "execution_count": 1,
   "metadata": {},
   "outputs": [
    {
     "name": "stderr",
     "output_type": "stream",
     "text": [
      "Using TensorFlow backend.\n"
     ]
    }
   ],
   "source": [
    "import tensorflow as tf\n",
    "import numpy as np\n",
    "import pickle\n",
    "import itertools\n",
    "\n",
    "from keras.models import Sequential, model_from_json\n",
    "from keras.layers.core import Dense, Activation, Dropout\n",
    "from keras.layers.recurrent import LSTM\n",
    "from sklearn.model_selection import train_test_split"
   ]
  },
  {
   "cell_type": "code",
   "execution_count": 2,
   "metadata": {},
   "outputs": [],
   "source": [
    "def get_model(shape):\n",
    "    model = Sequential()\n",
    "    model.add(LSTM(200, return_sequences=True, input_shape=shape))\n",
    "    model.add(Dropout(0.3))\n",
    "    model.add(LSTM(200, return_sequences=False))\n",
    "    model.add(Dropout(0.3))\n",
    "    model.add(Dense(shape[1]))\n",
    "    model.add(Activation('softmax'))\n",
    "\n",
    "    model.compile(loss='categorical_crossentropy', optimizer='rmsprop')\n",
    "    \n",
    "    return model\n",
    "\n",
    "def train_model(model, X, y, val_data, epochs=10, batch_size=50):\n",
    "    history = model.fit(X, y, validation_data=val_data, epochs=epochs, batch_size=batch_size)\n",
    "    return history\n",
    "    \n",
    "def save(model, name):\n",
    "    model_json = model.to_json()\n",
    "    with open(name + '.json', \"w\") as json_file:\n",
    "        json_file.write(model_json)\n",
    "    # serialize weights to HDF5\n",
    "    model.save_weights(name + '.h5')\n",
    "\n",
    "def load(name):\n",
    "    # load json and create model\n",
    "    json_file = open(name + '.json', 'r')\n",
    "    loaded_model_json = json_file.read()\n",
    "    json_file.close()\n",
    "    loaded_model = model_from_json(loaded_model_json)\n",
    "    # load weights into new model\n",
    "    loaded_model.load_weights(name + \".h5\")\n",
    "    return model"
   ]
  },
  {
   "cell_type": "code",
   "execution_count": 3,
   "metadata": {},
   "outputs": [],
   "source": [
    "def get_sonnets(filename):\n",
    "    \"\"\" Returns entire txt file as string. \"\"\"\n",
    "    str = \"\"\n",
    "    with open(filename) as file:\n",
    "        for line in file:\n",
    "            line = line.strip()\n",
    "            if line.isdigit() == False and len(line) > 0:\n",
    "                str += line.lower() + \"\\n\"\n",
    "    return str"
   ]
  },
  {
   "cell_type": "code",
   "execution_count": 4,
   "metadata": {},
   "outputs": [
    {
     "name": "stdout",
     "output_type": "stream",
     "text": [
      "# chars in txt: 93674\n"
     ]
    }
   ],
   "source": [
    "file = 'data/shakespeare.txt'\n",
    "sons = get_sonnets(file)\n",
    "\n",
    "print (\"# chars in txt: \" + str(len(sons)))"
   ]
  },
  {
   "cell_type": "code",
   "execution_count": 5,
   "metadata": {},
   "outputs": [
    {
     "name": "stdout",
     "output_type": "stream",
     "text": [
      "{'d', 'l', 'f', 'z', 't', 'v', 'k', ';', 'y', ':', 'g', 'q', 'x', '.', 'p', 'm', 'a', 'w', '!', ' ', 'u', 'j', '(', 'e', 's', '\\n', 'h', ')', '?', 'c', ',', 'r', 'n', 'b', \"'\", 'i', 'o', '-'}\n",
      "# unique chars: 38\n"
     ]
    }
   ],
   "source": [
    "chars = set(sons) # get set of all characters\n",
    "print(chars)\n",
    "print (\"# unique chars: \" + str(len(chars)))\n",
    "\n",
    "# create mapping of characters to unique ids\n",
    "dic_char_to_id = dict((c, i) for i, c in enumerate(chars))\n",
    "dic_id_to_char = dict((i, c) for i, c in enumerate(chars))"
   ]
  },
  {
   "cell_type": "code",
   "execution_count": 6,
   "metadata": {},
   "outputs": [
    {
     "name": "stdout",
     "output_type": "stream",
     "text": [
      "# seqs:  46817\n"
     ]
    }
   ],
   "source": [
    "# create input, output sequences\n",
    "\n",
    "leng = 40\n",
    "step_size = 2\n",
    "seqs, nxt_char = [], []\n",
    "# take all possible subsequences of 40 consecutive characters\n",
    "for i in range(0, len(sons) - leng, step_size):\n",
    "    seqs.append(sons[i: i + leng])\n",
    "    nxt_char.append(sons[i + leng])\n",
    "print(\"# seqs: \", len(seqs))"
   ]
  },
  {
   "cell_type": "code",
   "execution_count": 7,
   "metadata": {},
   "outputs": [],
   "source": [
    "# convert seqs to one-hot encoding\n",
    "X = np.zeros((len(seqs), leng, len(chars)), dtype=np.bool)\n",
    "y = np.zeros((len(seqs), len(chars)), dtype=np.bool)\n",
    "\n",
    "for i, seq in enumerate(seqs):\n",
    "    for j, char in enumerate(seq):\n",
    "        X[i, j, dic_char_to_id[char]] = 1\n",
    "    y[i, dic_char_to_id[nxt_char[i]]] = 1"
   ]
  },
  {
   "cell_type": "code",
   "execution_count": 8,
   "metadata": {},
   "outputs": [],
   "source": [
    "x_train, x_test, y_train, y_test = train_test_split(X, y, test_size=0.25, random_state=42)"
   ]
  },
  {
   "cell_type": "code",
   "execution_count": 9,
   "metadata": {},
   "outputs": [],
   "source": [
    "model = get_model((leng, len(chars)))"
   ]
  },
  {
   "cell_type": "code",
   "execution_count": 10,
   "metadata": {},
   "outputs": [
    {
     "name": "stdout",
     "output_type": "stream",
     "text": [
      "Train on 35112 samples, validate on 11705 samples\n",
      "Epoch 1/10\n",
      "35112/35112 [==============================] - 242s 7ms/step - loss: 2.7068 - val_loss: 2.3266\n",
      "Epoch 2/10\n",
      "35112/35112 [==============================] - 313s 9ms/step - loss: 2.2282 - val_loss: 2.1057\n",
      "Epoch 3/10\n",
      "35112/35112 [==============================] - 286s 8ms/step - loss: 2.0571 - val_loss: 1.9813\n",
      "Epoch 4/10\n",
      "35112/35112 [==============================] - 273s 8ms/step - loss: 1.9536 - val_loss: 1.9003\n",
      "Epoch 5/10\n",
      "35112/35112 [==============================] - 256s 7ms/step - loss: 1.8726 - val_loss: 1.8503\n",
      "Epoch 6/10\n",
      "35112/35112 [==============================] - 263s 7ms/step - loss: 1.8085 - val_loss: 1.8078\n",
      "Epoch 7/10\n",
      "35112/35112 [==============================] - 252s 7ms/step - loss: 1.7517 - val_loss: 1.7917\n",
      "Epoch 8/10\n",
      "35112/35112 [==============================] - 269s 8ms/step - loss: 1.7042 - val_loss: 1.7719\n",
      "Epoch 9/10\n",
      "35112/35112 [==============================] - 182s 5ms/step - loss: 1.6570 - val_loss: 1.7486\n",
      "Epoch 10/10\n",
      "35112/35112 [==============================] - 140s 4ms/step - loss: 1.6156 - val_loss: 1.7415\n"
     ]
    }
   ],
   "source": [
    "history = train_model(model, x_train, y_train, (x_test, y_test))"
   ]
  },
  {
   "cell_type": "code",
   "execution_count": 11,
   "metadata": {},
   "outputs": [],
   "source": [
    "save(model, 'models/Shakespeare_200units_10_50_0.3DROPOUT_0.25split')\n",
    "\n",
    "#150 units, 200 units, epochs, batch_size, dropout"
   ]
  },
  {
   "cell_type": "code",
   "execution_count": 18,
   "metadata": {},
   "outputs": [
    {
     "data": {
      "image/png": "[encoded data removed]",
      "text/plain": [
       "<Figure size 432x288 with 1 Axes>"
      ]
     },
     "metadata": {
      "needs_background": "light"
     },
     "output_type": "display_data"
    }
   ],
   "source": [
    "from matplotlib import pyplot\n",
    "\n",
    "# plot train and validation loss\n",
    "pyplot.plot(history.history['loss'])\n",
    "pyplot.plot(history.history['val_loss'])\n",
    "pyplot.title('model train vs validation loss')\n",
    "pyplot.ylabel('loss')\n",
    "pyplot.xlabel('epoch')\n",
    "pyplot.legend(['train', 'validation'], loc='upper right')\n",
    "pyplot.savefig('visuals/Shakespeare_200units_10_50_0.3DROPOUT_0.25split_loss.png')\n",
    "pyplot.show()"
   ]
  },
  {
   "cell_type": "code",
   "execution_count": 13,
   "metadata": {},
   "outputs": [
    {
     "data": {
      "text/plain": [
       "1.7415409763365512"
      ]
     },
     "execution_count": 13,
     "metadata": {},
     "output_type": "execute_result"
    }
   ],
   "source": [
    "min(history.history['val_loss']) # 1.7592611852973024"
   ]
  },
  {
   "cell_type": "code",
   "execution_count": 14,
   "metadata": {},
   "outputs": [
    {
     "data": {
      "text/plain": [
       "9"
      ]
     },
     "execution_count": 14,
     "metadata": {},
     "output_type": "execute_result"
    }
   ],
   "source": [
    "history.history['val_loss'].index(min(history.history['val_loss'])) # 10"
   ]
  },
  {
   "cell_type": "code",
   "execution_count": 15,
   "metadata": {},
   "outputs": [],
   "source": [
    "with open('Shakespeare_200units_10_50_0.3DROPOUT_0.25split.pkl', 'wb') as f:\n",
    "    pickle.dump(history, f)"
   ]
  },
  {
   "cell_type": "code",
   "execution_count": 16,
   "metadata": {},
   "outputs": [],
   "source": [
    "def sample(preds, temperature = 1.0):\n",
    "    ''' Helper function to sample an index from\n",
    "    a probability array. Taken from StackOverflow/\n",
    "    open source code on GitHub. '''\n",
    "\n",
    "    preds = np.asarray(preds).astype('float')\n",
    "    preds = np.log(preds) / temperature\n",
    "    preds[preds == np.inf] = 0\n",
    "\n",
    "    exp_preds = np.exp(preds)\n",
    "    preds = exp_preds / np.sum(exp_preds)\n",
    "    \n",
    "    return np.argmax(np.random.multinomial(1, preds, 1))"
   ]
  },
  {
   "cell_type": "code",
   "execution_count": 17,
   "metadata": {},
   "outputs": [
    {
     "name": "stdout",
     "output_type": "stream",
     "text": [
      "\n",
      "\n",
      "temperature = 1.5\n",
      "\n",
      "shall i compare thee to a summer's day?\n",
      "and silfsy tover chise aloll,\n",
      "wele nimed snwcstt's fors'ah xwal.nm each, me ahcy i pigrion,\n",
      "and affie bulf, tob my mi'stllak':\n",
      "but andner ,obonslyss ifveppres'ed nufe,\n",
      "and niem ,'gue and beaud ficl woldt. to canbs\n",
      "al apinoh: :neirr are ewkec\n",
      ", and ,ucweelime that tai me bet revli bgeed,\n",
      "ilachouss on grisbod conrwastion fargo behastume-veill whiture wolans?\n",
      "i behougd swifl the brithen my hi(d, a fr,a(surcow'stwith neture blo tuer apflencecyits?\n",
      "he tak inelly asing pingue'red they alouthulit'stjilln:\n",
      "tollirierary bud, hor yetmand nob trutht fared::\n",
      "hu crapmens, and ly deary theid mosl-mh ncay,\n",
      "verm yot mr istomot e'hpared figurt funt thy weed frornbmun:,\n",
      "praoned grages love co thy ollitils,\n",
      "domint to perplt tiunsc, thy nave this hishf'rathio now.\n",
      "thy nacust, of i lofign it coringenscainke,\n",
      "w\n",
      "\n",
      "\n",
      "temperature = 0.75\n",
      "\n",
      "shall i compare thee to a summer's day?\n",
      "when thou is other the bid my still dong stare\n",
      "then thou a steet to a post, woo dear love,\n",
      "and the sum a centon my gand of for thy love:\n",
      "that thou cauntul nand besenter not my a ofe,\n",
      "so all better and a pay shall in hours hate,\n",
      "where for he take to the weril the owner,\n",
      "and and shall develt with thuh i all of tain\n",
      "end keast be his blowed surmen for hind seem make that thy will,\n",
      "and the thou sweet poof my sind, that paacuoned umpar,\n",
      "ferses and with your worst so the resend.\n",
      "not stould ever but i time and to gave the will,\n",
      "con plixing my lagiting hime and your for,\n",
      "bethen beart pair have and the not to inpure:\n",
      "do doth me so prich wis wolls where thou mort the strilged,\n",
      "il the rasing heart hath in my have thou hast,\n",
      "and see beant the wert ever me thine and stand.\n",
      "thou sway the werd thou are ta\n",
      "\n",
      "\n",
      "temperature = 0.25\n",
      "\n",
      "shall i compare thee to a summer's day?\n",
      "the worth the will end the world stall deart,\n",
      "when i and the wert doth store the will with my self,\n",
      "and the world will the stall the self to be,\n",
      "and the waste the will the brand in the steet,\n",
      "and the will the wair the sweet the worth to to tree,\n",
      "and the strows the stall the stall so be,\n",
      "and the summer stall the stort the world be the stoll,\n",
      "the ear the world so all the world so love.\n",
      "the rest the wert the world be the will shall stall,\n",
      "and the world me to the street the steet,\n",
      "and the world more beauty on thy self to well,\n",
      "and the worth to the stall shall the store,\n",
      "and the sweet that to the store will of the stall,\n",
      "o he the stall the stall the world be the stall,\n",
      "and the worth of thy self a contoned will worth worth with the stall so doth to to me,\n",
      "the self to the steet the world in the s\n"
     ]
    }
   ],
   "source": [
    "nchar = 800 # length of each line produced from preds\n",
    "for temp in [1.5, 0.75, 0.25]:\n",
    "    print( '\\n' + '\\n' + 'temperature = ' + str(temp) + '\\n')\n",
    "    \n",
    "    line = 'shall i compare thee to a summer\\'s day?\\n'\n",
    "    sentence = line\n",
    "    \n",
    "    for i in range(nchar):\n",
    "        x = np.zeros((1, leng, len(chars)))\n",
    "        for t, char in enumerate(sentence):\n",
    "            x[0, t, dic_char_to_id[char]] = 1\n",
    "\n",
    "        preds = model.predict(x, verbose=False)[0]\n",
    "        nxt_char = dic_id_to_char[sample(preds, temp)]\n",
    "\n",
    "        line += nxt_char\n",
    "        sentence = sentence[1:] + nxt_char\n",
    "        \n",
    "    print(line)"
   ]
  }
 ],
 "metadata": {
  "kernelspec": {
   "display_name": "Python 3",
   "language": "python",
   "name": "python3"
  },
  "language_info": {
   "codemirror_mode": {
    "name": "ipython",
    "version": 3
   },
   "file_extension": ".py",
   "mimetype": "text/x-python",
   "name": "python",
   "nbconvert_exporter": "python",
   "pygments_lexer": "ipython3",
   "version": "3.6.8"
  }
 },
 "nbformat": 4,
 "nbformat_minor": 2
}
