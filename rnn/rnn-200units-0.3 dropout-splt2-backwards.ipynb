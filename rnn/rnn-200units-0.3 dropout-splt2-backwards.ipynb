{
 "cells": [
  {
   "cell_type": "code",
   "execution_count": 1,
   "metadata": {},
   "outputs": [
    {
     "name": "stderr",
     "output_type": "stream",
     "text": [
      "Using TensorFlow backend.\n"
     ]
    }
   ],
   "source": [
    "import tensorflow as tf\n",
    "import numpy as np\n",
    "import pickle\n",
    "import itertools\n",
    "\n",
    "from keras.models import Sequential, model_from_json\n",
    "from keras.layers.core import Dense, Activation, Dropout\n",
    "from keras.layers.recurrent import LSTM\n",
    "from sklearn.model_selection import train_test_split"
   ]
  },
  {
   "cell_type": "code",
   "execution_count": 2,
   "metadata": {},
   "outputs": [],
   "source": [
    "def get_model(shape):\n",
    "    model = Sequential()\n",
    "    model.add(LSTM(200, return_sequences=True, input_shape=shape))\n",
    "    model.add(Dropout(0.3))\n",
    "    model.add(LSTM(200, return_sequences=False))\n",
    "    model.add(Dropout(0.3))\n",
    "    model.add(Dense(shape[1]))\n",
    "    model.add(Activation('softmax'))\n",
    "\n",
    "    model.compile(loss='categorical_crossentropy', optimizer='rmsprop')\n",
    "    \n",
    "    return model\n",
    "\n",
    "def train_model(model, X, y, val_data, epochs=10, batch_size=50):\n",
    "    history = model.fit(X, y, validation_data=val_data, epochs=epochs, batch_size=batch_size)\n",
    "    return history\n",
    "    \n",
    "def save(model, name):\n",
    "    model_json = model.to_json()\n",
    "    with open(name + '.json', \"w\") as json_file:\n",
    "        json_file.write(model_json)\n",
    "    # serialize weights to HDF5\n",
    "    model.save_weights(name + '.h5')\n",
    "\n",
    "def load(name):\n",
    "    # load json and create model\n",
    "    json_file = open(name + '.json', 'r')\n",
    "    loaded_model_json = json_file.read()\n",
    "    json_file.close()\n",
    "    loaded_model = model_from_json(loaded_model_json)\n",
    "    # load weights into new model\n",
    "    loaded_model.load_weights(name + \".h5\")\n",
    "    return model"
   ]
  },
  {
   "cell_type": "code",
   "execution_count": 4,
   "metadata": {},
   "outputs": [],
   "source": [
    "def get_sonnets(filename):\n",
    "    \"\"\" Returns entire txt file as string. \"\"\"\n",
    "    str = \"\"\n",
    "    with open(filename) as file:\n",
    "        for line in file:\n",
    "            line = line.strip()\n",
    "            if line.isdigit() == False and len(line) > 0:\n",
    "                str += line.lower().translate(str.maketrans('', '', ':;,.?!()')) + \"\\n\"\n",
    "    return str"
   ]
  },
  {
   "cell_type": "code",
   "execution_count": 5,
   "metadata": {},
   "outputs": [
    {
     "name": "stdout",
     "output_type": "stream",
     "text": [
      "# chars in txt: 91006\n"
     ]
    }
   ],
   "source": [
    "file = 'data/shakespeare.txt'\n",
    "sons = get_sonnets(file)\n",
    "\n",
    "print (\"# chars in txt: \" + str(len(sons)))"
   ]
  },
  {
   "cell_type": "code",
   "execution_count": 6,
   "metadata": {},
   "outputs": [
    {
     "name": "stdout",
     "output_type": "stream",
     "text": [
      "{'y', 'l', 't', 'f', 'm', 'q', 's', ' ', 'z', '-', \"'\", 'n', 'o', 'b', 'g', 'd', 'c', 'a', 'h', 'k', 'i', 'x', 'e', 'r', 'w', 'j', 'v', '\\n', 'p', 'u'}\n",
      "# unique chars: 30\n"
     ]
    }
   ],
   "source": [
    "chars = set(sons) # get set of all characters\n",
    "print(chars)\n",
    "print (\"# unique chars: \" + str(len(chars)))\n",
    "\n",
    "# create mapping of characters to unique ids\n",
    "dic_char_to_id = dict((c, i) for i, c in enumerate(chars))\n",
    "dic_id_to_char = dict((i, c) for i, c in enumerate(chars))"
   ]
  },
  {
   "cell_type": "code",
   "execution_count": 7,
   "metadata": {},
   "outputs": [
    {
     "name": "stdout",
     "output_type": "stream",
     "text": [
      "# seqs:  45483\n"
     ]
    }
   ],
   "source": [
    "# create input, output sequences\n",
    "\n",
    "leng = 40\n",
    "step_size = 2\n",
    "seqs, nxt_char = [], []\n",
    "# take all possible subsequences of 40 consecutive characters\n",
    "for i in range(0, len(sons) - leng, step_size):\n",
    "    seqs.append(sons[i + leng : i : -1])\n",
    "    nxt_char.append(sons[i])\n",
    "print(\"# seqs: \", len(seqs))"
   ]
  },
  {
   "cell_type": "code",
   "execution_count": 12,
   "metadata": {},
   "outputs": [],
   "source": [
    "# convert seqs to one-hot encoding\n",
    "X = np.zeros((len(seqs), leng, len(chars)), dtype=np.bool)\n",
    "y = np.zeros((len(seqs), len(chars)), dtype=np.bool)\n",
    "\n",
    "for i, seq in enumerate(seqs):\n",
    "    for j, char in enumerate(seq):\n",
    "        X[i, j, dic_char_to_id[char]] = 1\n",
    "    y[i, dic_char_to_id[nxt_char[i]]] = 1"
   ]
  },
  {
   "cell_type": "code",
   "execution_count": 13,
   "metadata": {},
   "outputs": [],
   "source": [
    "x_train, x_test, y_train, y_test = train_test_split(X, y, test_size=0.25, random_state=42)"
   ]
  },
  {
   "cell_type": "code",
   "execution_count": 14,
   "metadata": {},
   "outputs": [],
   "source": [
    "model = get_model((leng, len(chars)))"
   ]
  },
  {
   "cell_type": "code",
   "execution_count": 15,
   "metadata": {},
   "outputs": [
    {
     "name": "stdout",
     "output_type": "stream",
     "text": [
      "Train on 34112 samples, validate on 11371 samples\n",
      "Epoch 1/10\n",
      "34112/34112 [==============================] - 92s 3ms/step - loss: 2.6699 - val_loss: 2.4007\n",
      "Epoch 2/10\n",
      "34112/34112 [==============================] - 103s 3ms/step - loss: 2.2211 - val_loss: 2.1005\n",
      "Epoch 3/10\n",
      "34112/34112 [==============================] - 136s 4ms/step - loss: 2.0499 - val_loss: 2.0080\n",
      "Epoch 4/10\n",
      "34112/34112 [==============================] - 139s 4ms/step - loss: 1.9439 - val_loss: 1.8962\n",
      "Epoch 5/10\n",
      "34112/34112 [==============================] - 138s 4ms/step - loss: 1.8547 - val_loss: 1.8391\n",
      "Epoch 6/10\n",
      "34112/34112 [==============================] - 142s 4ms/step - loss: 1.7876 - val_loss: 1.7772\n",
      "Epoch 7/10\n",
      "34112/34112 [==============================] - 131s 4ms/step - loss: 1.7316 - val_loss: 1.7285\n",
      "Epoch 8/10\n",
      "34112/34112 [==============================] - 126s 4ms/step - loss: 1.6800 - val_loss: 1.7049\n",
      "Epoch 9/10\n",
      "34112/34112 [==============================] - 132s 4ms/step - loss: 1.6399 - val_loss: 1.7020\n",
      "Epoch 10/10\n",
      "34112/34112 [==============================] - 126s 4ms/step - loss: 1.5928 - val_loss: 1.6912\n"
     ]
    }
   ],
   "source": [
    "history = train_model(model, x_train, y_train, (x_test, y_test))"
   ]
  },
  {
   "cell_type": "code",
   "execution_count": 16,
   "metadata": {},
   "outputs": [],
   "source": [
    "save(model, 'models/new_BACKW')\n",
    "\n",
    "#150 units, 200 units, epochs, batch_size, dropout"
   ]
  },
  {
   "cell_type": "code",
   "execution_count": 23,
   "metadata": {},
   "outputs": [
    {
     "data": {
      "image/png": "[encoded data removed]",
      "text/plain": [
       "<Figure size 432x288 with 1 Axes>"
      ]
     },
     "metadata": {
      "needs_background": "light"
     },
     "output_type": "display_data"
    }
   ],
   "source": [
    "from matplotlib import pyplot\n",
    "\n",
    "# plot train and validation loss\n",
    "pyplot.plot(history.history['loss'])\n",
    "pyplot.plot(history.history['val_loss'])\n",
    "pyplot.title('model train vs validation loss')\n",
    "pyplot.ylabel('loss')\n",
    "pyplot.xlabel('epoch')\n",
    "pyplot.legend(['train', 'validation'], loc='upper right')\n",
    "pyplot.savefig('visuals/Shakespeare_200units_10_50_0.3DROPOUT_0.25splitBACKW_loss.png')\n",
    "pyplot.show()"
   ]
  },
  {
   "cell_type": "code",
   "execution_count": 18,
   "metadata": {},
   "outputs": [
    {
     "data": {
      "text/plain": [
       "1.6912155579728068"
      ]
     },
     "execution_count": 18,
     "metadata": {},
     "output_type": "execute_result"
    }
   ],
   "source": [
    "min(history.history['val_loss']) # 1.7592611852973024"
   ]
  },
  {
   "cell_type": "code",
   "execution_count": 19,
   "metadata": {},
   "outputs": [
    {
     "data": {
      "text/plain": [
       "9"
      ]
     },
     "execution_count": 19,
     "metadata": {},
     "output_type": "execute_result"
    }
   ],
   "source": [
    "history.history['val_loss'].index(min(history.history['val_loss'])) # 10"
   ]
  },
  {
   "cell_type": "code",
   "execution_count": 20,
   "metadata": {},
   "outputs": [],
   "source": [
    "with open('Shakespeare_200units_10_50_0.3DROPOUT_0.25splitBACKW.pkl', 'wb') as f:\n",
    "    pickle.dump(history, f)"
   ]
  },
  {
   "cell_type": "code",
   "execution_count": 21,
   "metadata": {},
   "outputs": [],
   "source": [
    "def sample(preds, temperature = 1.0):\n",
    "    ''' Helper function to sample an index from\n",
    "    a probability array. Taken from StackOverflow/\n",
    "    open source code on GitHub. '''\n",
    "\n",
    "    preds = np.asarray(preds).astype('float')\n",
    "    preds = np.log(preds) / temperature\n",
    "    preds[preds == np.inf] = 0\n",
    "\n",
    "    exp_preds = np.exp(preds)\n",
    "    preds = exp_preds / np.sum(exp_preds)\n",
    "    \n",
    "    return np.argmax(np.random.multinomial(1, preds, 1))"
   ]
  },
  {
   "cell_type": "code",
   "execution_count": 33,
   "metadata": {},
   "outputs": [
    {
     "name": "stdout",
     "output_type": "stream",
     "text": [
      "\n",
      "\n",
      "temperature = 0.25\n",
      "\n",
      "use\n",
      "when i fiesmans of the therest is me\n",
      "this to thes have in other stain\n",
      "musting theirs the all this diditer less\n",
      "this thee what i bends and ence more say\n",
      "were love ensoon more\n",
      "as twere orrument to love tie that me\n",
      "but live and me\n",
      "and there with toust ine to her decore\n",
      "how i it me to i hate my sue i\n",
      "no wast the firit to that sall fight\n",
      "and take when that every renfon\n",
      "and therest ceay\n",
      "and thy take winds are thyr thee\n",
      "warld that a lees of eyes and this heart\n",
      "for his dete doth not mayl\n",
      "and i herom in the lied\n",
      "the that and hear the wornless and\n",
      "and be it fander of the commelsed-ersed night\n",
      "steive that seess as where for my reight\n",
      "the new to thee for thine to lone fear\n",
      "whose forfest all a more ther is to love\n",
      "my mire thee i some one were pisture\n",
      "of the it no it his cone\n",
      "sos with my deti'st me\n",
      "shall i compare thee to a summer's day \n",
      "\n",
      "\n",
      "\n",
      "temperature = 0.25\n",
      "\n",
      "hat lest in my love\n",
      "and for my love therefore the fore\n",
      "to love that love of thine more ride\n",
      "the there to love the most loves of there\n",
      "that that the with ire my sweet me more\n",
      "that dost this dost love to live to treasure\n",
      "mine eyes are my love that heart'st my time\n",
      "for mourest and onest in my love\n",
      "where that there then mine that not yet me\n",
      "that the were in my love that in the sure\n",
      "thines are to have that mest and there\n",
      "that in my love then that me more\n",
      "that the before my love thines are best me\n",
      "where in the treasure my love there doth tind\n",
      "the are the were it on the treasure thes thine\n",
      "are my love that me most there but there\n",
      "thence in my love there that loves of thine\n",
      "where that best me more have there destered\n",
      "the as the where my love there in thine\n",
      "that the have where that me more to more\n",
      "shall i compare thee to a summer's day \n",
      "\n"
     ]
    }
   ],
   "source": [
    "nchar = 800  # genrated length\n",
    "for temperature in [0.75, 0.25]:\n",
    "    print( '\\n' + '\\n' + 'temperature = ' + str(temp) + '\\n')\n",
    "    \n",
    "    line = 'shall i compare thee to a summer\\'s day \\n'\n",
    "    sentence = line[::-1]\n",
    "    \n",
    "    for i in range(nchar):\n",
    "        x = np.zeros((1, leng, len(chars)))\n",
    "        for t, char in enumerate(sentence):\n",
    "            x[0, t, dic_char_to_id[char]] = 1.\n",
    "\n",
    "        preds = model.predict(x, verbose=0)[0]\n",
    "        next_char = dic_id_to_char[sample(preds, temperature)]\n",
    "\n",
    "        line = next_char + line\n",
    "        sentence = sentence[1:] + next_char\n",
    "        \n",
    "    print(line)"
   ]
  },
  {
   "cell_type": "code",
   "execution_count": null,
   "metadata": {},
   "outputs": [],
   "source": []
  }
 ],
 "metadata": {
  "kernelspec": {
   "display_name": "Python 3",
   "language": "python",
   "name": "python3"
  },
  "language_info": {
   "codemirror_mode": {
    "name": "ipython",
    "version": 3
   },
   "file_extension": ".py",
   "mimetype": "text/x-python",
   "name": "python",
   "nbconvert_exporter": "python",
   "pygments_lexer": "ipython3",
   "version": "3.6.8"
  }
 },
 "nbformat": 4,
 "nbformat_minor": 2
}
