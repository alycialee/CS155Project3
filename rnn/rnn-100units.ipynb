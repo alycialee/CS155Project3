{
 "cells": [
  {
   "cell_type": "code",
   "execution_count": 17,
   "metadata": {},
   "outputs": [],
   "source": [
    "import tensorflow as tf\n",
    "import numpy as np\n",
    "import pickle\n",
    "import itertools\n",
    "\n",
    "from keras.models import Sequential, model_from_json\n",
    "from keras.layers.core import Dense, Activation, Dropout\n",
    "from keras.layers.recurrent import LSTM\n",
    "from sklearn.model_selection import train_test_split\n",
    "from matplotlib import pyplot"
   ]
  },
  {
   "cell_type": "code",
   "execution_count": 18,
   "metadata": {},
   "outputs": [],
   "source": [
    "def get_model(shape):\n",
    "    model = Sequential()\n",
    "    model.add(LSTM(100, return_sequences=True, input_shape=shape))\n",
    "    model.add(Dropout(0.2))\n",
    "    model.add(LSTM(100, return_sequences=False))\n",
    "    model.add(Dropout(0.2))\n",
    "    model.add(Dense(shape[1]))\n",
    "    model.add(Activation('softmax'))\n",
    "\n",
    "    model.compile(loss='categorical_crossentropy', optimizer='rmsprop')\n",
    "    \n",
    "    return model\n",
    "\n",
    "def train_model(model, X, y, val_data, epochs=17, batch_size=50):\n",
    "    history = model.fit(X, y, validation_data=val_data, epochs=epochs, batch_size=batch_size)\n",
    "    return history\n",
    "    \n",
    "def save(model, name):\n",
    "    model_json = model.to_json()\n",
    "    with open(name + '.json', \"w\") as json_file:\n",
    "        json_file.write(model_json)\n",
    "    # serialize weights to HDF5\n",
    "    model.save_weights(name + '.h5')\n",
    "\n",
    "def load(name):\n",
    "    # load json and create model\n",
    "    json_file = open(name + '.json', 'r')\n",
    "    loaded_model_json = json_file.read()\n",
    "    json_file.close()\n",
    "    loaded_model = model_from_json(loaded_model_json)\n",
    "    # load weights into new model\n",
    "    loaded_model.load_weights(name + \".h5\")\n",
    "    return model"
   ]
  },
  {
   "cell_type": "code",
   "execution_count": 19,
   "metadata": {},
   "outputs": [],
   "source": [
    "def get_sonnets(filename):\n",
    "    \"\"\" Returns entire txt file as string. \"\"\"\n",
    "    str = \"\"\n",
    "    with open(filename) as file:\n",
    "        for line in file:\n",
    "            line = line.strip()\n",
    "            if line.isdigit() == False and len(line) > 0:\n",
    "                str += line.lower() + \"\\n\"\n",
    "    return str"
   ]
  },
  {
   "cell_type": "code",
   "execution_count": 20,
   "metadata": {},
   "outputs": [
    {
     "name": "stdout",
     "output_type": "stream",
     "text": [
      "# chars in txt: 93674\n"
     ]
    }
   ],
   "source": [
    "file = 'data/shakespeare.txt'\n",
    "sons = get_sonnets(file)\n",
    "\n",
    "print (\"# chars in txt: \" + str(len(sons)))"
   ]
  },
  {
   "cell_type": "code",
   "execution_count": 21,
   "metadata": {},
   "outputs": [
    {
     "name": "stdout",
     "output_type": "stream",
     "text": [
      "{'i', 'u', 's', 'h', ':', 'x', ')', 'g', ';', 'm', \"'\", 'a', 'p', 'l', '-', '\\n', '.', 't', 'c', 'e', 'j', 'q', '?', ' ', 'b', 'v', 'y', 'z', 'n', 'k', 'd', 'o', '(', 'r', 'w', '!', 'f', ','}\n",
      "# unique chars: 38\n"
     ]
    }
   ],
   "source": [
    "chars = set(sons) # get set of all characters\n",
    "print(chars)\n",
    "print (\"# unique chars: \" + str(len(chars)))\n",
    "\n",
    "# create mapping of characters to unique ids\n",
    "dic_char_to_id = dict((c, i) for i, c in enumerate(chars))\n",
    "dic_id_to_char = dict((i, c) for i, c in enumerate(chars))"
   ]
  },
  {
   "cell_type": "code",
   "execution_count": 22,
   "metadata": {},
   "outputs": [
    {
     "name": "stdout",
     "output_type": "stream",
     "text": [
      "# seqs:  46817\n"
     ]
    }
   ],
   "source": [
    "# create input, output sequences\n",
    "\n",
    "leng = 40\n",
    "step_size = 2\n",
    "seqs, nxt_char = [], []\n",
    "# take all possible subsequences of 40 consecutive characters\n",
    "for i in range(0, len(sons) - leng, step_size):\n",
    "    seqs.append(sons[i: i + leng])\n",
    "    nxt_char.append(sons[i + leng])\n",
    "print(\"# seqs: \", len(seqs))"
   ]
  },
  {
   "cell_type": "code",
   "execution_count": 23,
   "metadata": {},
   "outputs": [],
   "source": [
    "# convert seqs to one-hot encoding\n",
    "X = np.zeros((len(seqs), leng, len(chars)), dtype=np.bool)\n",
    "y = np.zeros((len(seqs), len(chars)), dtype=np.bool)\n",
    "\n",
    "for i, seq in enumerate(seqs):\n",
    "    for j, char in enumerate(seq):\n",
    "        X[i, j, dic_char_to_id[char]] = 1\n",
    "    y[i, dic_char_to_id[nxt_char[i]]] = 1"
   ]
  },
  {
   "cell_type": "code",
   "execution_count": 24,
   "metadata": {},
   "outputs": [],
   "source": [
    "x_train, x_test, y_train, y_test = train_test_split(X, y, test_size=0.33, random_state=42)"
   ]
  },
  {
   "cell_type": "code",
   "execution_count": 25,
   "metadata": {},
   "outputs": [],
   "source": [
    "model = get_model((leng, len(chars)))"
   ]
  },
  {
   "cell_type": "code",
   "execution_count": 26,
   "metadata": {},
   "outputs": [
    {
     "name": "stdout",
     "output_type": "stream",
     "text": [
      "Train on 31367 samples, validate on 15450 samples\n",
      "Epoch 1/17\n",
      "31367/31367 [==============================] - 193s 6ms/step - loss: 2.8433 - val_loss: 2.4892\n",
      "Epoch 2/17\n",
      "31367/31367 [==============================] - 160s 5ms/step - loss: 2.3691 - val_loss: 2.2675\n",
      "Epoch 3/17\n",
      "31367/31367 [==============================] - 159s 5ms/step - loss: 2.1992 - val_loss: 2.1008\n",
      "Epoch 4/17\n",
      "31367/31367 [==============================] - 150s 5ms/step - loss: 2.0850 - val_loss: 2.0194\n",
      "Epoch 5/17\n",
      "31367/31367 [==============================] - 163s 5ms/step - loss: 2.0063 - val_loss: 1.9591\n",
      "Epoch 6/17\n",
      "31367/31367 [==============================] - 160s 5ms/step - loss: 1.9482 - val_loss: 1.9151\n",
      "Epoch 7/17\n",
      "31367/31367 [==============================] - 160s 5ms/step - loss: 1.8996 - val_loss: 1.8862\n",
      "Epoch 8/17\n",
      "31367/31367 [==============================] - 166s 5ms/step - loss: 1.8589 - val_loss: 1.8616\n",
      "Epoch 9/17\n",
      "31367/31367 [==============================] - 173s 6ms/step - loss: 1.8230 - val_loss: 1.8323\n",
      "Epoch 10/17\n",
      "31367/31367 [==============================] - 166s 5ms/step - loss: 1.7882 - val_loss: 1.8116\n",
      "Epoch 11/17\n",
      "31367/31367 [==============================] - 167s 5ms/step - loss: 1.7599 - val_loss: 1.7989\n",
      "Epoch 12/17\n",
      "31367/31367 [==============================] - 168s 5ms/step - loss: 1.7312 - val_loss: 1.7882\n",
      "Epoch 13/17\n",
      "31367/31367 [==============================] - 168s 5ms/step - loss: 1.7083 - val_loss: 1.7769\n",
      "Epoch 14/17\n",
      "31367/31367 [==============================] - 171s 5ms/step - loss: 1.6821 - val_loss: 1.7720\n",
      "Epoch 15/17\n",
      "31367/31367 [==============================] - 171s 5ms/step - loss: 1.6545 - val_loss: 1.7660\n",
      "Epoch 16/17\n",
      "31367/31367 [==============================] - 172s 5ms/step - loss: 1.6349 - val_loss: 1.7619\n",
      "Epoch 17/17\n",
      "31367/31367 [==============================] - 166s 5ms/step - loss: 1.6115 - val_loss: 1.7574\n"
     ]
    }
   ],
   "source": [
    "history = train_model(model, x_train, y_train, (x_test, y_test))"
   ]
  },
  {
   "cell_type": "code",
   "execution_count": 27,
   "metadata": {},
   "outputs": [],
   "source": [
    "save(model, 'models/Shakespeare_100units_17_50')\n",
    "\n",
    "#150 units, 200 units, epochs, batch_size, dropout"
   ]
  },
  {
   "cell_type": "code",
   "execution_count": 28,
   "metadata": {},
   "outputs": [
    {
     "data": {
      "image/png": "[encoded data removed]",
      "text/plain": [
       "<Figure size 432x288 with 1 Axes>"
      ]
     },
     "metadata": {
      "needs_background": "light"
     },
     "output_type": "display_data"
    }
   ],
   "source": [
    "# plot train and validation loss\n",
    "pyplot.plot(history.history['loss'])\n",
    "pyplot.plot(history.history['val_loss'])\n",
    "pyplot.title('model train vs validation loss')\n",
    "pyplot.ylabel('loss')\n",
    "pyplot.xlabel('epoch')\n",
    "pyplot.legend(['train', 'validation'], loc='upper right')\n",
    "pyplot.savefig('visuals/Shakespeare_100units_17_50_loss.png')\n",
    "pyplot.show()"
   ]
  },
  {
   "cell_type": "code",
   "execution_count": 29,
   "metadata": {},
   "outputs": [
    {
     "data": {
      "text/plain": [
       "1.7574355409369113"
      ]
     },
     "execution_count": 29,
     "metadata": {},
     "output_type": "execute_result"
    }
   ],
   "source": [
    "min(history.history['val_loss'])"
   ]
  },
  {
   "cell_type": "code",
   "execution_count": 33,
   "metadata": {},
   "outputs": [
    {
     "data": {
      "text/plain": [
       "16"
      ]
     },
     "execution_count": 33,
     "metadata": {},
     "output_type": "execute_result"
    }
   ],
   "source": [
    "history.history['val_loss'].index(min(history.history['val_loss']))"
   ]
  },
  {
   "cell_type": "code",
   "execution_count": 31,
   "metadata": {},
   "outputs": [],
   "source": [
    "def sample(preds, temperature = 1.0):\n",
    "    ''' Helper function to sample an index from\n",
    "    a probability array. Taken from StackOverflow/\n",
    "    open source code on GitHub. '''\n",
    "\n",
    "    preds = np.asarray(preds).astype('float')\n",
    "    preds = np.log(preds) / temperature\n",
    "    preds[preds == np.inf] = 0\n",
    "\n",
    "    exp_preds = np.exp(preds)\n",
    "    preds = exp_preds / np.sum(exp_preds)\n",
    "    \n",
    "    return np.argmax(np.random.multinomial(1, preds, 1))"
   ]
  },
  {
   "cell_type": "code",
   "execution_count": 32,
   "metadata": {},
   "outputs": [
    {
     "name": "stdout",
     "output_type": "stream",
     "text": [
      "\n",
      "\n",
      "temperature = 1.5\n",
      "\n",
      "shall i compare thee to a summer's day?\n",
      "deran. o thy arl ver in uhpic blige pyeingw?\n",
      "butmess grildes bring bthan at yy )ads,\n",
      "then khicu ragors who tarefus living jase,\n",
      "bs efe ylio vow il's from lise, biaryg'\n",
      "y,\n",
      "not blage afor ugo thring rewaabmab mleoved de,\n",
      "not pleatashirw ig to fasd o fir,\n",
      "coniaft troudue tigh, nor wrrotep, if of:.\n",
      "dor whey pooe, by dowhor take ein ucaar.\n",
      "unlivsh shyllrsum femflowsn, so they veeps\n",
      "and,\n",
      "or hakts in wuth our-vimy doth evee.\n",
      "thaclever are elfrised, frau do houhts sbe.\n",
      "than o ciun; no loving bad, to kindung wrelakk.\n",
      "fand way no sweek bfountoto, teed, 'ucpaftiet:\n",
      "i ef pyough whore drigdn thenpes iurn ry:?\n",
      "lestraucey,, houg till angeh thee cworme,\n",
      "whold, and seembflere am muilmed if, verlesssilids.\n",
      "wyilst sucost, time i ea. sisp it verfase aured-\n",
      "leavered of morey uety hevene's sfooknonce\n",
      "for rlberd\n",
      "\n",
      "\n",
      "temperature = 0.75\n",
      "\n",
      "shall i compare thee to a summer's day?\n",
      "for my hearth esher but to trust eyes show,\n",
      "that from doth make behofe thee so ar tent,\n",
      "and ight thee can mune each age store thee.\n",
      "o have of their destrlife provest the sweat,\n",
      "when thy self that seech make that conde\n",
      "staten from of the respligit,\n",
      "porned that proogneds their in thy ,oth,\n",
      "that flor thy pridid have bury steet befacs,\n",
      "and thou dely by then thy wele spide dith to me.\n",
      "rook awajed but the word of will thee,\n",
      "and thee will this upondared waist writh but love,\n",
      "the disthes fak my love shis praise,\n",
      "and thy beeasure to beauty muse of love howe,\n",
      "which thy beauty oun thy tave astanneds,\n",
      "than i uphence no moury hath of as antont,\n",
      "who ham dess heef hat seof to brite thise,\n",
      "that beauty and will so praase,\n",
      "do my self that i may thought that self grom,\n",
      "our conlold in thee wance endeds worth,\n",
      "\n",
      "\n",
      "temperature = 0.25\n",
      "\n",
      "shall i compare thee to a summer's day?\n",
      "which thy self i love thee for thee content,\n",
      "and the world thee condent thee in my steet,\n",
      "thou art the for thee for thy self my self,\n",
      "and the world thee prows the to thy stant,\n",
      "and the for thee all the content thee see,\n",
      "when thee i seef to thee the for thy self,\n",
      "that shall seall of thee for thy self thee,\n",
      "which i love that self thy steet beauty see,\n",
      "which the praise that thy self thee for thee,\n",
      "which i love thou the art the love thee mone,\n",
      "the love that shall the world of thy stain,\n",
      "that shall so the fare that they self thee,\n",
      "which thee the thee all the for thy self,\n",
      "that the worth thee strom thee the strome,\n",
      "that thy self thee strom thee i stare thee,\n",
      "therefore a proon thee the thee thee worth thee,\n",
      "when thee all the self thee for thy self,\n",
      "the love thee strom thee will thee sterth,\n",
      "thou \n"
     ]
    }
   ],
   "source": [
    "nchar = 800 # length of each line produced from preds\n",
    "for temp in [1.5, 0.75, 0.25]:\n",
    "    print( '\\n' + '\\n' + 'temperature = ' + str(temp) + '\\n')\n",
    "    \n",
    "    line = 'shall i compare thee to a summer\\'s day?\\n'\n",
    "    sentence = line\n",
    "    \n",
    "    for i in range(nchar):\n",
    "        x = np.zeros((1, leng, len(chars)))\n",
    "        for t, char in enumerate(sentence):\n",
    "            x[0, t, dic_char_to_id[char]] = 1\n",
    "\n",
    "        preds = model.predict(x, verbose=False)[0]\n",
    "        nxt_char = dic_id_to_char[sample(preds, temp)]\n",
    "\n",
    "        line += nxt_char\n",
    "        sentence = sentence[1:] + nxt_char\n",
    "        \n",
    "    print(line)"
   ]
  },
  {
   "cell_type": "code",
   "execution_count": null,
   "metadata": {},
   "outputs": [],
   "source": []
  }
 ],
 "metadata": {
  "kernelspec": {
   "display_name": "Python 3",
   "language": "python",
   "name": "python3"
  },
  "language_info": {
   "codemirror_mode": {
    "name": "ipython",
    "version": 3
   },
   "file_extension": ".py",
   "mimetype": "text/x-python",
   "name": "python",
   "nbconvert_exporter": "python",
   "pygments_lexer": "ipython3",
   "version": "3.6.8"
  }
 },
 "nbformat": 4,
 "nbformat_minor": 2
}
