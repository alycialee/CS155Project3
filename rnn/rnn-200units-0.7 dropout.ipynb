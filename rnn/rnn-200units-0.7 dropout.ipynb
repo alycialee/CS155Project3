{
 "cells": [
  {
   "cell_type": "code",
   "execution_count": 1,
   "metadata": {},
   "outputs": [
    {
     "name": "stderr",
     "output_type": "stream",
     "text": [
      "Using TensorFlow backend.\n"
     ]
    }
   ],
   "source": [
    "import tensorflow as tf\n",
    "import numpy as np\n",
    "import pickle\n",
    "import itertools\n",
    "\n",
    "from keras.models import Sequential, model_from_json\n",
    "from keras.layers.core import Dense, Activation, Dropout\n",
    "from keras.layers.recurrent import LSTM\n",
    "from sklearn.model_selection import train_test_split"
   ]
  },
  {
   "cell_type": "code",
   "execution_count": 2,
   "metadata": {},
   "outputs": [],
   "source": [
    "def get_model(shape):\n",
    "    model = Sequential()\n",
    "    model.add(LSTM(200, return_sequences=True, input_shape=shape))\n",
    "    model.add(Dropout(0.7))\n",
    "    model.add(LSTM(200, return_sequences=False))\n",
    "    model.add(Dropout(0.7))\n",
    "    model.add(Dense(shape[1]))\n",
    "    model.add(Activation('softmax'))\n",
    "\n",
    "    model.compile(loss='categorical_crossentropy', optimizer='rmsprop')\n",
    "    \n",
    "    return model\n",
    "\n",
    "def train_model(model, X, y, val_data, epochs=10, batch_size=50):\n",
    "    history = model.fit(X, y, validation_data=val_data, epochs=epochs, batch_size=batch_size)\n",
    "    return history\n",
    "    \n",
    "def save(model, name):\n",
    "    model_json = model.to_json()\n",
    "    with open(name + '.json', \"w\") as json_file:\n",
    "        json_file.write(model_json)\n",
    "    # serialize weights to HDF5\n",
    "    model.save_weights(name + '.h5')\n",
    "\n",
    "def load(name):\n",
    "    # load json and create model\n",
    "    json_file = open(name + '.json', 'r')\n",
    "    loaded_model_json = json_file.read()\n",
    "    json_file.close()\n",
    "    loaded_model = model_from_json(loaded_model_json)\n",
    "    # load weights into new model\n",
    "    loaded_model.load_weights(name + \".h5\")\n",
    "    return model"
   ]
  },
  {
   "cell_type": "code",
   "execution_count": 3,
   "metadata": {},
   "outputs": [],
   "source": [
    "def get_sonnets(filename):\n",
    "    \"\"\" Returns entire txt file as string. \"\"\"\n",
    "    str = \"\"\n",
    "    with open(filename) as file:\n",
    "        for line in file:\n",
    "            line = line.strip()\n",
    "            if line.isdigit() == False and len(line) > 0:\n",
    "                str += line.lower() + \"\\n\"\n",
    "    return str"
   ]
  },
  {
   "cell_type": "code",
   "execution_count": 4,
   "metadata": {},
   "outputs": [
    {
     "name": "stdout",
     "output_type": "stream",
     "text": [
      "# chars in txt: 93674\n"
     ]
    }
   ],
   "source": [
    "file = 'data/shakespeare.txt'\n",
    "sons = get_sonnets(file)\n",
    "\n",
    "print (\"# chars in txt: \" + str(len(sons)))"
   ]
  },
  {
   "cell_type": "code",
   "execution_count": 5,
   "metadata": {},
   "outputs": [
    {
     "name": "stdout",
     "output_type": "stream",
     "text": [
      "{'p', ':', ';', 'e', 'f', 'a', 'z', ' ', '?', 'k', 'h', 'c', 'x', \"'\", 'i', ',', 'm', 'q', 'n', 'r', 't', '(', 'l', 'u', 'j', ')', 'v', 'g', '\\n', '!', 'y', '.', 'w', 'o', '-', 'b', 's', 'd'}\n",
      "# unique chars: 38\n"
     ]
    }
   ],
   "source": [
    "chars = set(sons) # get set of all characters\n",
    "print(chars)\n",
    "print (\"# unique chars: \" + str(len(chars)))\n",
    "\n",
    "# create mapping of characters to unique ids\n",
    "dic_char_to_id = dict((c, i) for i, c in enumerate(chars))\n",
    "dic_id_to_char = dict((i, c) for i, c in enumerate(chars))"
   ]
  },
  {
   "cell_type": "code",
   "execution_count": 6,
   "metadata": {},
   "outputs": [
    {
     "name": "stdout",
     "output_type": "stream",
     "text": [
      "# seqs:  46817\n"
     ]
    }
   ],
   "source": [
    "# create input, output sequences\n",
    "\n",
    "leng = 40\n",
    "step_size = 2\n",
    "seqs, nxt_char = [], []\n",
    "# take all possible subsequences of 40 consecutive characters\n",
    "for i in range(0, len(sons) - leng, step_size):\n",
    "    seqs.append(sons[i: i + leng])\n",
    "    nxt_char.append(sons[i + leng])\n",
    "print(\"# seqs: \", len(seqs))"
   ]
  },
  {
   "cell_type": "code",
   "execution_count": 7,
   "metadata": {},
   "outputs": [],
   "source": [
    "# convert seqs to one-hot encoding\n",
    "X = np.zeros((len(seqs), leng, len(chars)), dtype=np.bool)\n",
    "y = np.zeros((len(seqs), len(chars)), dtype=np.bool)\n",
    "\n",
    "for i, seq in enumerate(seqs):\n",
    "    for j, char in enumerate(seq):\n",
    "        X[i, j, dic_char_to_id[char]] = 1\n",
    "    y[i, dic_char_to_id[nxt_char[i]]] = 1"
   ]
  },
  {
   "cell_type": "code",
   "execution_count": 8,
   "metadata": {},
   "outputs": [],
   "source": [
    "x_train, x_test, y_train, y_test = train_test_split(X, y, test_size=0.33, random_state=42)"
   ]
  },
  {
   "cell_type": "code",
   "execution_count": 9,
   "metadata": {},
   "outputs": [],
   "source": [
    "model = get_model((leng, len(chars)))"
   ]
  },
  {
   "cell_type": "code",
   "execution_count": 10,
   "metadata": {},
   "outputs": [
    {
     "name": "stdout",
     "output_type": "stream",
     "text": [
      "Train on 31367 samples, validate on 15450 samples\n",
      "Epoch 1/10\n",
      "31367/31367 [==============================] - 141s 4ms/step - loss: 2.9579 - val_loss: 2.7252\n",
      "Epoch 2/10\n",
      "31367/31367 [==============================] - 234s 7ms/step - loss: 2.5634 - val_loss: 2.3824\n",
      "Epoch 3/10\n",
      "31367/31367 [==============================] - 253s 8ms/step - loss: 2.3832 - val_loss: 2.2610\n",
      "Epoch 4/10\n",
      "31367/31367 [==============================] - 285s 9ms/step - loss: 2.3095 - val_loss: 2.1901\n",
      "Epoch 5/10\n",
      "31367/31367 [==============================] - 1061s 34ms/step - loss: 2.2528 - val_loss: 2.1226\n",
      "Epoch 6/10\n",
      "31367/31367 [==============================] - 171s 5ms/step - loss: 2.2151 - val_loss: 2.0941\n",
      "Epoch 7/10\n",
      "31367/31367 [==============================] - 235s 7ms/step - loss: 2.1810 - val_loss: 2.0505\n",
      "Epoch 8/10\n",
      "31367/31367 [==============================] - 261s 8ms/step - loss: 2.1440 - val_loss: 2.0191\n",
      "Epoch 9/10\n",
      "31367/31367 [==============================] - 249s 8ms/step - loss: 2.1190 - val_loss: 1.9965\n",
      "Epoch 10/10\n",
      "31367/31367 [==============================] - 235s 7ms/step - loss: 2.1017 - val_loss: 1.9844\n"
     ]
    }
   ],
   "source": [
    "history = train_model(model, x_train, y_train, (x_test, y_test))"
   ]
  },
  {
   "cell_type": "code",
   "execution_count": 11,
   "metadata": {},
   "outputs": [],
   "source": [
    "save(model, 'models/Shakespeare_200units_10_50_0.7DROPOUT')\n",
    "\n",
    "#150 units, 200 units, epochs, batch_size, dropout"
   ]
  },
  {
   "cell_type": "code",
   "execution_count": 18,
   "metadata": {},
   "outputs": [
    {
     "data": {
      "image/png": "[encoded data removed]",
      "text/plain": [
       "<Figure size 432x288 with 1 Axes>"
      ]
     },
     "metadata": {
      "needs_background": "light"
     },
     "output_type": "display_data"
    }
   ],
   "source": [
    "from matplotlib import pyplot\n",
    "\n",
    "# plot train and validation loss\n",
    "pyplot.plot(history.history['loss'])\n",
    "pyplot.plot(history.history['val_loss'])\n",
    "pyplot.title('model train vs validation loss')\n",
    "pyplot.ylabel('loss')\n",
    "pyplot.xlabel('epoch')\n",
    "pyplot.legend(['train', 'validation'], loc='upper right')\n",
    "pyplot.savefig('visuals/Shakespeare_200units_10_50_0.7DROPOUT_loss.png')\n",
    "pyplot.show()"
   ]
  },
  {
   "cell_type": "code",
   "execution_count": 13,
   "metadata": {},
   "outputs": [
    {
     "data": {
      "text/plain": [
       "1.9844436664797342"
      ]
     },
     "execution_count": 13,
     "metadata": {},
     "output_type": "execute_result"
    }
   ],
   "source": [
    "min(history.history['val_loss']) # 1.7592611852973024"
   ]
  },
  {
   "cell_type": "code",
   "execution_count": 14,
   "metadata": {},
   "outputs": [
    {
     "data": {
      "text/plain": [
       "9"
      ]
     },
     "execution_count": 14,
     "metadata": {},
     "output_type": "execute_result"
    }
   ],
   "source": [
    "history.history['val_loss'].index(min(history.history['val_loss'])) # 10"
   ]
  },
  {
   "cell_type": "code",
   "execution_count": 15,
   "metadata": {},
   "outputs": [],
   "source": [
    "with open('Shakespeare_200units_10_50_0.7DROPOUT.pkl', 'wb') as f:\n",
    "    pickle.dump(history, f)"
   ]
  },
  {
   "cell_type": "code",
   "execution_count": 16,
   "metadata": {},
   "outputs": [],
   "source": [
    "def sample(preds, temperature = 1.0):\n",
    "    ''' Helper function to sample an index from\n",
    "    a probability array. Taken from StackOverflow/\n",
    "    open source code on GitHub. '''\n",
    "\n",
    "    preds = np.asarray(preds).astype('float')\n",
    "    preds = np.log(preds) / temperature\n",
    "    preds[preds == np.inf] = 0\n",
    "\n",
    "    exp_preds = np.exp(preds)\n",
    "    preds = exp_preds / np.sum(exp_preds)\n",
    "    \n",
    "    return np.argmax(np.random.multinomial(1, preds, 1))"
   ]
  },
  {
   "cell_type": "code",
   "execution_count": 17,
   "metadata": {},
   "outputs": [
    {
     "name": "stdout",
     "output_type": "stream",
     "text": [
      "\n",
      "\n",
      "temperature = 1.5\n",
      "\n",
      "shall i compare thee to a summer's day?\n",
      "hes mmeotiny nwanld pna?thy yormre crole\n",
      "his  skeeeon deantst, foor wrettrtoegit\n",
      "ny ald qobdool ae thay niwt ric omy,\n",
      "itive mo, lovis thy a:icr onmed owactt\n",
      "ailwatib thenwsasep svsy whltflocvtmrktgtwy\n",
      "me\n",
      "kuiid mtout' onleyerefeat elolao!res\n",
      "whrinhd botgod thin ir tham is poadlt anteci, pripsed\n",
      "this thneade fl'fc. .bunu novtst m, do minenseyasoreitemw?dnfgeis. musceaws yiou worle ofeir vee.\n",
      "and tomev norewevac prebendeuc, wsy herpelk ie noy hemorrs)\n",
      "aftelhicrith swolllf eithr fleds.\n",
      "thoe m.\n",
      "anl gravecirs by iyrlige eokius,\n",
      "savlemacu ma,t doib isas my iind,\n",
      "muse in beios cilco, tman whet my basigtiyn de,\n",
      "of sonhsaar, betthens sece wilb .whiesur vats aeo(whtulw  rean o velt,a'golnv,\n",
      "e mopath,rcivet wern\n",
      "ro's :t thes doicinirgdh the er.ian ,hem,\n",
      ",ad bpolnsrfs yab p,edlm thoulb crs teeda\n",
      "knaft \n",
      "\n",
      "\n",
      "temperature = 0.75\n",
      "\n",
      "shall i compare thee to a summer's day?\n",
      "no the send and that wimh hou the will, are be uatand ele,\n",
      "and as the chad mice i to swill the to yen.\n",
      "when ot sriss hso, that of in dom co and,\n",
      "and bit i hout, of soel bort to the allgte,\n",
      "and wrons, and ele unl all theaf keld enge ele,\n",
      "whool more ubtof for seed be, the rot that beartsd,\n",
      "be whet thy seln in thou dast stall ealf,\n",
      "asd see rand, and thy beth the tunt of soen\n",
      "thee thin bafse thateir serlow be oninw paty,\n",
      "my brame the owmith where in the that so srose wall af eresc,\n",
      "whine mare that houd word\n",
      "the toslrsf i cave that so plist the sall,\n",
      "the hould that should do in thou ta deare.\n",
      "and the gort the wald the mand of in have speenhs theidd,\n",
      "thous sind the roobt heecen, dore conns,\n",
      "whet leafore uth ow not be sueled ere im thy weald\n",
      "of that so wime hot for the wall that thoun bo.\n",
      "than as\n",
      "\n",
      "\n",
      "temperature = 0.25\n",
      "\n",
      "shall i compare thee to a summer's day?\n",
      "and the the sell the the for the sell the sere,\n",
      "the the will the the the love the sele the sere,\n",
      "and she the wart the sere the for the sour,\n",
      "the eres my sore the the love the sare with the sour the wall the the in thee,\n",
      "and the prace se the the sore not she thee,\n",
      "whith the sell the the the love the fare,\n",
      "the eres the love the fart the sorl and the fare,\n",
      "and the me the fart the ferour the part the wert,\n",
      "the love the more of the some the soll the thee,\n",
      "and the will the pire the sealt thou doth the thee,\n",
      "and the the wert the sould i the the the sile,\n",
      "and and the sould so thy sould the part beare,\n",
      "where the and and the sour the the love wert,\n",
      "the ore the me the sell and the the the wart,\n",
      "and the me the sels the rest be thy sould,\n",
      "the love the sere the the the wirt the sere,\n",
      "and the wert the so\n"
     ]
    }
   ],
   "source": [
    "nchar = 800 # length of each line produced from preds\n",
    "for temp in [1.5, 0.75, 0.25]:\n",
    "    print( '\\n' + '\\n' + 'temperature = ' + str(temp) + '\\n')\n",
    "    \n",
    "    line = 'shall i compare thee to a summer\\'s day?\\n'\n",
    "    sentence = line\n",
    "    \n",
    "    for i in range(nchar):\n",
    "        x = np.zeros((1, leng, len(chars)))\n",
    "        for t, char in enumerate(sentence):\n",
    "            x[0, t, dic_char_to_id[char]] = 1\n",
    "\n",
    "        preds = model.predict(x, verbose=False)[0]\n",
    "        nxt_char = dic_id_to_char[sample(preds, temp)]\n",
    "\n",
    "        line += nxt_char\n",
    "        sentence = sentence[1:] + nxt_char\n",
    "        \n",
    "    print(line)"
   ]
  }
 ],
 "metadata": {
  "kernelspec": {
   "display_name": "Python 3",
   "language": "python",
   "name": "python3"
  },
  "language_info": {
   "codemirror_mode": {
    "name": "ipython",
    "version": 3
   },
   "file_extension": ".py",
   "mimetype": "text/x-python",
   "name": "python",
   "nbconvert_exporter": "python",
   "pygments_lexer": "ipython3",
   "version": "3.6.8"
  }
 },
 "nbformat": 4,
 "nbformat_minor": 2
}
