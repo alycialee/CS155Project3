{
 "cells": [
  {
   "cell_type": "code",
   "execution_count": 1,
   "metadata": {},
   "outputs": [
    {
     "name": "stderr",
     "output_type": "stream",
     "text": [
      "Using TensorFlow backend.\n"
     ]
    }
   ],
   "source": [
    "import tensorflow as tf\n",
    "import numpy as np\n",
    "import pickle\n",
    "import itertools\n",
    "\n",
    "from keras.models import Sequential, model_from_json\n",
    "from keras.layers.core import Dense, Activation, Dropout\n",
    "from keras.layers.recurrent import LSTM\n",
    "from sklearn.model_selection import train_test_split"
   ]
  },
  {
   "cell_type": "code",
   "execution_count": 2,
   "metadata": {},
   "outputs": [],
   "source": [
    "def get_model(shape):\n",
    "    model = Sequential()\n",
    "    model.add(LSTM(200, return_sequences=True, input_shape=shape))\n",
    "    model.add(Dropout(0.1))\n",
    "    model.add(LSTM(200, return_sequences=False))\n",
    "    model.add(Dropout(0.1))\n",
    "    model.add(Dense(shape[1]))\n",
    "    model.add(Activation('softmax'))\n",
    "\n",
    "    model.compile(loss='categorical_crossentropy', optimizer='rmsprop')\n",
    "    \n",
    "    return model\n",
    "\n",
    "def train_model(model, X, y, val_data, epochs=10, batch_size=50):\n",
    "    history = model.fit(X, y, validation_data=val_data, epochs=epochs, batch_size=batch_size)\n",
    "    return history\n",
    "    \n",
    "def save(model, name):\n",
    "    model_json = model.to_json()\n",
    "    with open(name + '.json', \"w\") as json_file:\n",
    "        json_file.write(model_json)\n",
    "    # serialize weights to HDF5\n",
    "    model.save_weights(name + '.h5')\n",
    "\n",
    "def load(name):\n",
    "    # load json and create model\n",
    "    json_file = open(name + '.json', 'r')\n",
    "    loaded_model_json = json_file.read()\n",
    "    json_file.close()\n",
    "    loaded_model = model_from_json(loaded_model_json)\n",
    "    # load weights into new model\n",
    "    loaded_model.load_weights(name + \".h5\")\n",
    "    return model"
   ]
  },
  {
   "cell_type": "code",
   "execution_count": 3,
   "metadata": {},
   "outputs": [],
   "source": [
    "def get_sonnets(filename):\n",
    "    \"\"\" Returns entire txt file as string. \"\"\"\n",
    "    str = \"\"\n",
    "    with open(filename) as file:\n",
    "        for line in file:\n",
    "            line = line.strip()\n",
    "            if line.isdigit() == False and len(line) > 0:\n",
    "                str += line.lower() + \"\\n\"\n",
    "    return str"
   ]
  },
  {
   "cell_type": "code",
   "execution_count": 4,
   "metadata": {},
   "outputs": [
    {
     "name": "stdout",
     "output_type": "stream",
     "text": [
      "# chars in txt: 93674\n"
     ]
    }
   ],
   "source": [
    "file = 'data/shakespeare.txt'\n",
    "sons = get_sonnets(file)\n",
    "\n",
    "print (\"# chars in txt: \" + str(len(sons)))"
   ]
  },
  {
   "cell_type": "code",
   "execution_count": 5,
   "metadata": {},
   "outputs": [
    {
     "name": "stdout",
     "output_type": "stream",
     "text": [
      "{'?', 't', 'z', '(', 'u', 'y', 'b', 'c', 'f', 'q', '\\n', 'g', 'm', 'h', 'n', ':', ';', '.', ')', 'v', 'i', 'r', 's', 'e', 'l', 'k', 'd', 'w', 'j', 'x', '-', '!', 'o', 'p', 'a', \"'\", ' ', ','}\n",
      "# unique chars: 38\n"
     ]
    }
   ],
   "source": [
    "chars = set(sons) # get set of all characters\n",
    "print(chars)\n",
    "print (\"# unique chars: \" + str(len(chars)))\n",
    "\n",
    "# create mapping of characters to unique ids\n",
    "dic_char_to_id = dict((c, i) for i, c in enumerate(chars))\n",
    "dic_id_to_char = dict((i, c) for i, c in enumerate(chars))"
   ]
  },
  {
   "cell_type": "code",
   "execution_count": 6,
   "metadata": {},
   "outputs": [
    {
     "name": "stdout",
     "output_type": "stream",
     "text": [
      "# seqs:  46817\n"
     ]
    }
   ],
   "source": [
    "# create input, output sequences\n",
    "\n",
    "leng = 40\n",
    "step_size = 2\n",
    "seqs, nxt_char = [], []\n",
    "# take all possible subsequences of 40 consecutive characters\n",
    "for i in range(0, len(sons) - leng, step_size):\n",
    "    seqs.append(sons[i: i + leng])\n",
    "    nxt_char.append(sons[i + leng])\n",
    "print(\"# seqs: \", len(seqs))"
   ]
  },
  {
   "cell_type": "code",
   "execution_count": 7,
   "metadata": {},
   "outputs": [],
   "source": [
    "# convert seqs to one-hot encoding\n",
    "X = np.zeros((len(seqs), leng, len(chars)), dtype=np.bool)\n",
    "y = np.zeros((len(seqs), len(chars)), dtype=np.bool)\n",
    "\n",
    "for i, seq in enumerate(seqs):\n",
    "    for j, char in enumerate(seq):\n",
    "        X[i, j, dic_char_to_id[char]] = 1\n",
    "    y[i, dic_char_to_id[nxt_char[i]]] = 1"
   ]
  },
  {
   "cell_type": "code",
   "execution_count": 8,
   "metadata": {},
   "outputs": [],
   "source": [
    "x_train, x_test, y_train, y_test = train_test_split(X, y, test_size=0.33, random_state=42)"
   ]
  },
  {
   "cell_type": "code",
   "execution_count": 9,
   "metadata": {},
   "outputs": [],
   "source": [
    "model = get_model((leng, len(chars)))"
   ]
  },
  {
   "cell_type": "code",
   "execution_count": 10,
   "metadata": {},
   "outputs": [
    {
     "name": "stdout",
     "output_type": "stream",
     "text": [
      "Train on 31367 samples, validate on 15450 samples\n",
      "Epoch 1/10\n",
      "31367/31367 [==============================] - 219s 7ms/step - loss: 2.6876 - val_loss: 2.4708\n",
      "Epoch 2/10\n",
      "31367/31367 [==============================] - 378s 12ms/step - loss: 2.1907 - val_loss: 2.0997\n",
      "Epoch 3/10\n",
      "31367/31367 [==============================] - 420s 13ms/step - loss: 2.0052 - val_loss: 1.9979\n",
      "Epoch 4/10\n",
      "31367/31367 [==============================] - 27331s 871ms/step - loss: 1.8822 - val_loss: 1.8931\n",
      "Epoch 5/10\n",
      "31367/31367 [==============================] - 440s 14ms/step - loss: 1.7852 - val_loss: 1.8379\n",
      "Epoch 6/10\n",
      "31367/31367 [==============================] - 970s 31ms/step - loss: 1.7050 - val_loss: 1.8170\n",
      "Epoch 7/10\n",
      "31367/31367 [==============================] - 264s 8ms/step - loss: 1.6335 - val_loss: 1.7855\n",
      "Epoch 8/10\n",
      "31367/31367 [==============================] - 340s 11ms/step - loss: 1.5623 - val_loss: 1.7751\n",
      "Epoch 9/10\n",
      "31367/31367 [==============================] - 336s 11ms/step - loss: 1.4879 - val_loss: 1.7690\n",
      "Epoch 10/10\n",
      "31367/31367 [==============================] - 344s 11ms/step - loss: 1.4160 - val_loss: 1.7740\n"
     ]
    }
   ],
   "source": [
    "history = train_model(model, x_train, y_train, (x_test, y_test))"
   ]
  },
  {
   "cell_type": "code",
   "execution_count": 11,
   "metadata": {},
   "outputs": [],
   "source": [
    "save(model, 'models/Shakespeare_200units_10_50_0.1DROPOUT')\n",
    "\n",
    "#150 units, 200 units, epochs, batch_size, dropout"
   ]
  },
  {
   "cell_type": "code",
   "execution_count": 18,
   "metadata": {},
   "outputs": [
    {
     "data": {
      "image/png": "[encoded data removed]",
      "text/plain": [
       "<Figure size 432x288 with 1 Axes>"
      ]
     },
     "metadata": {
      "needs_background": "light"
     },
     "output_type": "display_data"
    }
   ],
   "source": [
    "from matplotlib import pyplot\n",
    "\n",
    "# plot train and validation loss\n",
    "pyplot.plot(history.history['loss'])\n",
    "pyplot.plot(history.history['val_loss'])\n",
    "pyplot.title('model train vs validation loss')\n",
    "pyplot.ylabel('loss')\n",
    "pyplot.xlabel('epoch')\n",
    "pyplot.legend(['train', 'validation'], loc='upper right')\n",
    "pyplot.savefig('visuals/Shakespeare_200units1_10_50_0.1DROPOUT_loss.png')\n",
    "pyplot.show()"
   ]
  },
  {
   "cell_type": "code",
   "execution_count": 13,
   "metadata": {},
   "outputs": [
    {
     "data": {
      "text/plain": [
       "1.7690014426376441"
      ]
     },
     "execution_count": 13,
     "metadata": {},
     "output_type": "execute_result"
    }
   ],
   "source": [
    "min(history.history['val_loss']) # 1.7592611852973024"
   ]
  },
  {
   "cell_type": "code",
   "execution_count": 14,
   "metadata": {},
   "outputs": [
    {
     "data": {
      "text/plain": [
       "8"
      ]
     },
     "execution_count": 14,
     "metadata": {},
     "output_type": "execute_result"
    }
   ],
   "source": [
    "history.history['val_loss'].index(min(history.history['val_loss'])) # 10"
   ]
  },
  {
   "cell_type": "code",
   "execution_count": 15,
   "metadata": {},
   "outputs": [],
   "source": [
    "with open('Shakespeare_200units_10_50_0.1DROPOUT_hist.pkl', 'wb') as f:\n",
    "    pickle.dump(history, f)"
   ]
  },
  {
   "cell_type": "code",
   "execution_count": 16,
   "metadata": {},
   "outputs": [],
   "source": [
    "def sample(preds, temperature = 1.0):\n",
    "    ''' Helper function to sample an index from\n",
    "    a probability array. Taken from StackOverflow/\n",
    "    open source code on GitHub. '''\n",
    "\n",
    "    preds = np.asarray(preds).astype('float')\n",
    "    preds = np.log(preds) / temperature\n",
    "    preds[preds == np.inf] = 0\n",
    "\n",
    "    exp_preds = np.exp(preds)\n",
    "    preds = exp_preds / np.sum(exp_preds)\n",
    "    \n",
    "    return np.argmax(np.random.multinomial(1, preds, 1))"
   ]
  },
  {
   "cell_type": "code",
   "execution_count": 17,
   "metadata": {},
   "outputs": [
    {
     "name": "stdout",
     "output_type": "stream",
     "text": [
      "\n",
      "\n",
      "temperature = 1.5\n",
      "\n",
      "shall i compare thee to a summer's day?\n",
      "keak's migirad still youdh shaploufit houlm,\n",
      "haputed bul doth fyes cheact, spented shoo d? then'rie rid\n",
      "eothem :im ixvestcengeo.\n",
      "beth cabght weal, i cruentbre feamy swels,\n",
      "but soaf in  hatherr, that thee of kepf'fin thie,\n",
      "pyiins mage of misared my solf in thee,\n",
      "voous dear shoud do suts couetion ste com,\n",
      "ore,\n",
      "ac goated so thou-girceaf aawio af lihereqshe,\n",
      "will thee is stiffeepse were:\n",
      ".o withou wht hi (cruestn commene, know,\n",
      "verkax then to youb though toaw blswert,\n",
      "fir with orn trmesuring, as thost, bear thee brear.\n",
      "yet sam tim an ough aw desefti)f ever\n",
      "loomh, by gleos 'ome, yie rommy sb'll all,\n",
      "igpestiit, hish, to still hnetuse mork chance-bies:\n",
      "ko if liw,siagai,sais getmer in less\n",
      "with liker's qreet nee, bat grean that had:ullikey.\n",
      "himiho lours cinst infautwince seargh last.\n",
      "but loving yo\n",
      "\n",
      "\n",
      "temperature = 0.75\n",
      "\n",
      "shall i compare thee to a summer's day?\n",
      "alt hat i rot love bear in this kis fierded,\n",
      "and caen live in thee, my best doth live.\n",
      "my love i not thee on thy ereeds chound time,\n",
      "whicht i the formest you heart the bur braves,\n",
      "san sour the worlds of your self him stree?\n",
      "be no i as not thee bett this for ece,\n",
      "than will should of heart for i not shase,\n",
      "as thou most stors love thee both keard.\n",
      "like for the wister buind when a the good,\n",
      "that i love that hergeat yeur read rechacles weed.\n",
      "more i al falle and ustide shall i lost,\n",
      "and for my live shell the wasted to to they,\n",
      "all thee this sing earth so connmieding coulds,\n",
      "that so ill vies shore bud that from thee.\n",
      "which time's byion do do beart with thee,\n",
      "when should thee do trus and beauty do ith thee,\n",
      "arceoting with my beauty wish thos thee,\n",
      "which hisd part incearate doth me sweetmens briss,\n",
      "\n",
      "\n",
      "temperature = 0.25\n",
      "\n",
      "shall i compare thee to a summer's day?\n",
      "which i has beet thee thou art to be thee,\n",
      "and the three will thee thee thee thee in thee,\n",
      "and the beauty of thee will show seems be thee,\n",
      "and thee thee the seemer the thee thee heart,\n",
      "and therefore heart then thee thee will doth thee beart,\n",
      "and their with thee that i love shall speed,\n",
      "and the will thee that so for thee are some,\n",
      "then you love thee thou art doth me some,\n",
      "be cheet so for thee to thee thee thee, ere to thee,\n",
      "which thee thee that thou heart thee thee thee,\n",
      "and the thee thee that i love shall seem,\n",
      "bett as the will thee thee will thee thee will doth thee,\n",
      "which i not so beauty of thy sell shall,\n",
      "the shall thee heart thee thee the seemer,\n",
      "which i love so from thee i love thee will,\n",
      "and thee i love thee then thee all thee,\n",
      "which thee thee that so from thee thee thee,\n",
      "which hath \n"
     ]
    }
   ],
   "source": [
    "nchar = 800 # length of each line produced from preds\n",
    "for temp in [1.5, 0.75, 0.25]:\n",
    "    print( '\\n' + '\\n' + 'temperature = ' + str(temp) + '\\n')\n",
    "    \n",
    "    line = 'shall i compare thee to a summer\\'s day?\\n'\n",
    "    sentence = line\n",
    "    \n",
    "    for i in range(nchar):\n",
    "        x = np.zeros((1, leng, len(chars)))\n",
    "        for t, char in enumerate(sentence):\n",
    "            x[0, t, dic_char_to_id[char]] = 1\n",
    "\n",
    "        preds = model.predict(x, verbose=False)[0]\n",
    "        nxt_char = dic_id_to_char[sample(preds, temp)]\n",
    "\n",
    "        line += nxt_char\n",
    "        sentence = sentence[1:] + nxt_char\n",
    "        \n",
    "    print(line)"
   ]
  }
 ],
 "metadata": {
  "kernelspec": {
   "display_name": "Python 3",
   "language": "python",
   "name": "python3"
  },
  "language_info": {
   "codemirror_mode": {
    "name": "ipython",
    "version": 3
   },
   "file_extension": ".py",
   "mimetype": "text/x-python",
   "name": "python",
   "nbconvert_exporter": "python",
   "pygments_lexer": "ipython3",
   "version": "3.6.8"
  }
 },
 "nbformat": 4,
 "nbformat_minor": 2
}
