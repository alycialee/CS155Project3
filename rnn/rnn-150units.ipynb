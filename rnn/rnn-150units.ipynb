{
 "cells": [
  {
   "cell_type": "code",
   "execution_count": 1,
   "metadata": {},
   "outputs": [
    {
     "name": "stderr",
     "output_type": "stream",
     "text": [
      "Using TensorFlow backend.\n"
     ]
    }
   ],
   "source": [
    "import tensorflow as tf\n",
    "import numpy as np\n",
    "import pickle\n",
    "import itertools\n",
    "\n",
    "from keras.models import Sequential, model_from_json\n",
    "from keras.layers.core import Dense, Activation, Dropout\n",
    "from keras.layers.recurrent import LSTM\n",
    "from sklearn.model_selection import train_test_split"
   ]
  },
  {
   "cell_type": "code",
   "execution_count": 2,
   "metadata": {},
   "outputs": [],
   "source": [
    "def get_model(shape):\n",
    "    model = Sequential()\n",
    "    model.add(LSTM(150, return_sequences=True, input_shape=shape))\n",
    "    model.add(Dropout(0.2))\n",
    "    model.add(LSTM(150, return_sequences=False))\n",
    "    model.add(Dropout(0.2))\n",
    "    model.add(Dense(shape[1]))\n",
    "    model.add(Activation('softmax'))\n",
    "\n",
    "    model.compile(loss='categorical_crossentropy', optimizer='rmsprop')\n",
    "    \n",
    "    return model\n",
    "\n",
    "def train_model(model, X, y, val_data, epochs=11, batch_size=50):\n",
    "    history = model.fit(X, y, validation_data=val_data, epochs=epochs, batch_size=batch_size)\n",
    "    return history\n",
    "    \n",
    "def save(model, name):\n",
    "    model_json = model.to_json()\n",
    "    with open(name + '.json', \"w\") as json_file:\n",
    "        json_file.write(model_json)\n",
    "    # serialize weights to HDF5\n",
    "    model.save_weights(name + '.h5')\n",
    "\n",
    "def load(name):\n",
    "    # load json and create model\n",
    "    json_file = open(name + '.json', 'r')\n",
    "    loaded_model_json = json_file.read()\n",
    "    json_file.close()\n",
    "    loaded_model = model_from_json(loaded_model_json)\n",
    "    # load weights into new model\n",
    "    loaded_model.load_weights(name + \".h5\")\n",
    "    return model"
   ]
  },
  {
   "cell_type": "code",
   "execution_count": 3,
   "metadata": {},
   "outputs": [],
   "source": [
    "def get_sonnets(filename):\n",
    "    \"\"\" Returns entire txt file as string. \"\"\"\n",
    "    str = \"\"\n",
    "    with open(filename) as file:\n",
    "        for line in file:\n",
    "            line = line.strip()\n",
    "            if line.isdigit() == False and len(line) > 0:\n",
    "                str += line.lower() + \"\\n\"\n",
    "    return str"
   ]
  },
  {
   "cell_type": "code",
   "execution_count": 4,
   "metadata": {},
   "outputs": [
    {
     "name": "stdout",
     "output_type": "stream",
     "text": [
      "# chars in txt: 93674\n"
     ]
    }
   ],
   "source": [
    "file = 'data/shakespeare.txt'\n",
    "sons = get_sonnets(file)\n",
    "\n",
    "print (\"# chars in txt: \" + str(len(sons)))"
   ]
  },
  {
   "cell_type": "code",
   "execution_count": 5,
   "metadata": {},
   "outputs": [
    {
     "name": "stdout",
     "output_type": "stream",
     "text": [
      "{'i', 'g', ')', 'q', 'a', 'n', 'w', 'p', 'b', 'j', 'y', ':', 'd', 'r', 'k', '\\n', ',', '.', ' ', '?', ';', 't', \"'\", 'h', 's', 'v', 'u', '(', 'e', 'l', 'c', '-', 'o', 'z', 'x', '!', 'f', 'm'}\n",
      "# unique chars: 38\n"
     ]
    }
   ],
   "source": [
    "chars = set(sons) # get set of all characters\n",
    "print(chars)\n",
    "print (\"# unique chars: \" + str(len(chars)))\n",
    "\n",
    "# create mapping of characters to unique ids\n",
    "dic_char_to_id = dict((c, i) for i, c in enumerate(chars))\n",
    "dic_id_to_char = dict((i, c) for i, c in enumerate(chars))"
   ]
  },
  {
   "cell_type": "code",
   "execution_count": 6,
   "metadata": {},
   "outputs": [
    {
     "name": "stdout",
     "output_type": "stream",
     "text": [
      "# seqs:  46817\n"
     ]
    }
   ],
   "source": [
    "# create input, output sequences\n",
    "\n",
    "leng = 40\n",
    "step_size = 2\n",
    "seqs, nxt_char = [], []\n",
    "# take all possible subsequences of 40 consecutive characters\n",
    "for i in range(0, len(sons) - leng, step_size):\n",
    "    seqs.append(sons[i: i + leng])\n",
    "    nxt_char.append(sons[i + leng])\n",
    "print(\"# seqs: \", len(seqs))"
   ]
  },
  {
   "cell_type": "code",
   "execution_count": 7,
   "metadata": {},
   "outputs": [],
   "source": [
    "# convert seqs to one-hot encoding\n",
    "X = np.zeros((len(seqs), leng, len(chars)), dtype=np.bool)\n",
    "y = np.zeros((len(seqs), len(chars)), dtype=np.bool)\n",
    "\n",
    "for i, seq in enumerate(seqs):\n",
    "    for j, char in enumerate(seq):\n",
    "        X[i, j, dic_char_to_id[char]] = 1\n",
    "    y[i, dic_char_to_id[nxt_char[i]]] = 1"
   ]
  },
  {
   "cell_type": "code",
   "execution_count": 8,
   "metadata": {},
   "outputs": [],
   "source": [
    "x_train, x_test, y_train, y_test = train_test_split(X, y, test_size=0.33, random_state=42)"
   ]
  },
  {
   "cell_type": "code",
   "execution_count": 9,
   "metadata": {},
   "outputs": [],
   "source": [
    "model = get_model((leng, len(chars)))"
   ]
  },
  {
   "cell_type": "code",
   "execution_count": 10,
   "metadata": {},
   "outputs": [
    {
     "name": "stdout",
     "output_type": "stream",
     "text": [
      "Train on 31367 samples, validate on 15450 samples\n",
      "Epoch 1/11\n",
      "31367/31367 [==============================] - 346s 11ms/step - loss: 2.7882 - val_loss: 2.4198\n",
      "Epoch 2/11\n",
      "31367/31367 [==============================] - 314s 10ms/step - loss: 2.2904 - val_loss: 2.1495\n",
      "Epoch 3/11\n",
      "31367/31367 [==============================] - 327s 10ms/step - loss: 2.1031 - val_loss: 2.0332\n",
      "Epoch 4/11\n",
      "31367/31367 [==============================] - 318s 10ms/step - loss: 1.9922 - val_loss: 1.9479\n",
      "Epoch 5/11\n",
      "31367/31367 [==============================] - 774s 25ms/step - loss: 1.9102 - val_loss: 1.8971\n",
      "Epoch 6/11\n",
      "31367/31367 [==============================] - 178s 6ms/step - loss: 1.8443 - val_loss: 1.8601\n",
      "Epoch 7/11\n",
      "31367/31367 [==============================] - 227s 7ms/step - loss: 1.7891 - val_loss: 1.8186\n",
      "Epoch 8/11\n",
      "31367/31367 [==============================] - 257s 8ms/step - loss: 1.7403 - val_loss: 1.8000\n",
      "Epoch 9/11\n",
      "31367/31367 [==============================] - 252s 8ms/step - loss: 1.6957 - val_loss: 1.7800\n",
      "Epoch 10/11\n",
      "31367/31367 [==============================] - 260s 8ms/step - loss: 1.6548 - val_loss: 1.7678\n",
      "Epoch 11/11\n",
      "31367/31367 [==============================] - 253s 8ms/step - loss: 1.6080 - val_loss: 1.7632\n"
     ]
    }
   ],
   "source": [
    "history = train_model(model, x_train, y_train, (x_test, y_test))"
   ]
  },
  {
   "cell_type": "code",
   "execution_count": 11,
   "metadata": {},
   "outputs": [],
   "source": [
    "save(model, 'models/Shakespeare_150units_11_50')\n",
    "\n",
    "#150 units, 200 units, epochs, batch_size, dropout"
   ]
  },
  {
   "cell_type": "code",
   "execution_count": 17,
   "metadata": {},
   "outputs": [
    {
     "data": {
      "image/png": "[encoded data removed]",
      "text/plain": [
       "<Figure size 432x288 with 1 Axes>"
      ]
     },
     "metadata": {
      "needs_background": "light"
     },
     "output_type": "display_data"
    }
   ],
   "source": [
    "from matplotlib import pyplot\n",
    "# plot train and validation loss\n",
    "pyplot.plot(history.history['loss'])\n",
    "pyplot.plot(history.history['val_loss'])\n",
    "pyplot.title('model train vs validation loss')\n",
    "pyplot.ylabel('loss')\n",
    "pyplot.xlabel('epoch')\n",
    "pyplot.legend(['train', 'validation'], loc='upper right')\n",
    "pyplot.savefig('visuals/Shakespeare_150units_11_50_loss.png')\n",
    "pyplot.show()"
   ]
  },
  {
   "cell_type": "code",
   "execution_count": 13,
   "metadata": {},
   "outputs": [
    {
     "data": {
      "text/plain": [
       "1.7632395873949365"
      ]
     },
     "execution_count": 13,
     "metadata": {},
     "output_type": "execute_result"
    }
   ],
   "source": [
    "min(history.history['val_loss']) #1.7517004969822165"
   ]
  },
  {
   "cell_type": "code",
   "execution_count": 14,
   "metadata": {},
   "outputs": [
    {
     "data": {
      "text/plain": [
       "10"
      ]
     },
     "execution_count": 14,
     "metadata": {},
     "output_type": "execute_result"
    }
   ],
   "source": [
    "history.history['val_loss'].index(min(history.history['val_loss'])) #11"
   ]
  },
  {
   "cell_type": "code",
   "execution_count": 15,
   "metadata": {},
   "outputs": [],
   "source": [
    "def sample(preds, temperature = 1.0):\n",
    "    ''' Helper function to sample an index from\n",
    "    a probability array. Taken from StackOverflow/\n",
    "    open source code on GitHub. '''\n",
    "\n",
    "    preds = np.asarray(preds).astype('float')\n",
    "    preds = np.log(preds) / temperature\n",
    "    preds[preds == np.inf] = 0\n",
    "\n",
    "    exp_preds = np.exp(preds)\n",
    "    preds = exp_preds / np.sum(exp_preds)\n",
    "    \n",
    "    return np.argmax(np.random.multinomial(1, preds, 1))"
   ]
  },
  {
   "cell_type": "code",
   "execution_count": 18,
   "metadata": {},
   "outputs": [
    {
     "name": "stdout",
     "output_type": "stream",
     "text": [
      "\n",
      "\n",
      "temperature = 1.5\n",
      "\n",
      "shall i compare thee to a summer's day?\n",
      "ut firmy pouy thou lo,n, thy s e-famb oo shacl,\n",
      "the glavowh ligst shal chongingers wuwherozt,\n",
      "nerpefdiulseroardath betmay chiph in my ris:\n",
      "so if thacet  sroin in me, by your kourvenedh,\n",
      "i have in xwerby mi-hid, rurbeurin ghil gaash.\n",
      "shaltit stoy sapplsion fuwli? tlelse\n",
      "ibhthance ownlo, then thy,iind werine ofs,,\n",
      "andir putrtiper by divtiesiugblem'sgoange\n",
      "noh feirdes yerest now i coptaly reud,\n",
      "by risd i  as trrassururtoif brong aplabp.\n",
      "evile filauness alge thy self, or sil,o!\n",
      "yet yis vorn tu ant all psyilve in rie'm,\n",
      "there' doerer sale cownar in hewderys lighsuenst fhowg:\n",
      "andy ruyaw i way pay mones,\n",
      "whacknt ap to, olf aucky nag notee\n",
      "digilllen fteer irplost frimmongh,\n",
      "whild at my frames', orenouinad b ot min's,\n",
      "ay in thosg ild may hath hoursh, cormturead qratibe,.\n",
      "thinen i abmathy ecfolade, \n",
      "\n",
      "\n",
      "temperature = 0.75\n",
      "\n",
      "shall i compare thee to a summer's day?\n",
      "nor canser from to their sweet self,\n",
      "which is no the rebrack that at that  hath canter,\n",
      "which of there elain no thy shate graight,\n",
      "that rose thear proad and dear as the sfrol,\n",
      "by not shall be rosts from so dith in thes argeetend,\n",
      "in own your streight be in thy grith pirstand\n",
      "in  but this winks fille thou hand whine,\n",
      "that i wish parst love his the will me thought,\n",
      "and from not nigut now shall and the wind,\n",
      "or threes thou kinding of the on dear,\n",
      "to then allour more thy from whith beting,\n",
      "than supber thee linds lamsed the marthing,\n",
      "that flave i lover dey are so brected.\n",
      "hor my and when i not stromght inversh deest,\n",
      "as wire the domerprect not the wrechees tteal dromber\n",
      "where il thy best the well there in the rime,\n",
      "this night i but store, then that do pear,\n",
      "which i fur the then in horg endepsar\n",
      "\n",
      "\n",
      "temperature = 0.25\n",
      "\n",
      "shall i compare thee to a summer's day?\n",
      "then the preasure the preasure that should to thee,\n",
      "and in thy self the the the world when thee,\n",
      "and the world that then the will the more,\n",
      "which i will the world, and shall the steet for thee,\n",
      "that then the parst the world be thee thee,\n",
      "and the prost the the weet the streeght beauty,\n",
      "and make the prosing of thy self thee shall,\n",
      "and shall the will the strected the sweet thee,\n",
      "which i of the world the strought in thee,\n",
      "and then the world of the see the prost,\n",
      "therefore the will to the will the world,\n",
      "then i will the true the more the see, thee stere,\n",
      "and the preasure that the will the commone,\n",
      "and in the prost the streeg thee blight,\n",
      "than which hours his conters of thy self,\n",
      "and then the erest the prost the flow thee,\n",
      "and in the world the prost the for thee,\n",
      "and then the sweet thee the will\n"
     ]
    }
   ],
   "source": [
    "nchar = 800 # length of each line produced from preds\n",
    "for temp in [1.5, 0.75, 0.25]:\n",
    "    print( '\\n' + '\\n' + 'temperature = ' + str(temp) + '\\n')\n",
    "    \n",
    "    line = 'shall i compare thee to a summer\\'s day?\\n'\n",
    "    sentence = line\n",
    "    \n",
    "    for i in range(nchar):\n",
    "        x = np.zeros((1, leng, len(chars)))\n",
    "        for t, char in enumerate(sentence):\n",
    "            x[0, t, dic_char_to_id[char]] = 1\n",
    "\n",
    "        preds = model.predict(x, verbose=False)[0]\n",
    "        nxt_char = dic_id_to_char[sample(preds, temp)]\n",
    "\n",
    "        line += nxt_char\n",
    "        sentence = sentence[1:] + nxt_char\n",
    "        \n",
    "    print(line)"
   ]
  },
  {
   "cell_type": "code",
   "execution_count": null,
   "metadata": {},
   "outputs": [],
   "source": []
  }
 ],
 "metadata": {
  "kernelspec": {
   "display_name": "Python 3",
   "language": "python",
   "name": "python3"
  },
  "language_info": {
   "codemirror_mode": {
    "name": "ipython",
    "version": 3
   },
   "file_extension": ".py",
   "mimetype": "text/x-python",
   "name": "python",
   "nbconvert_exporter": "python",
   "pygments_lexer": "ipython3",
   "version": "3.6.8"
  }
 },
 "nbformat": 4,
 "nbformat_minor": 2
}
