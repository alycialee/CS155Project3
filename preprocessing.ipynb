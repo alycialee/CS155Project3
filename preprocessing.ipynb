{
 "cells": [
  {
   "cell_type": "markdown",
   "metadata": {},
   "source": [
    "# Data preprocessing"
   ]
  },
  {
   "cell_type": "markdown",
   "metadata": {},
   "source": [
    "How will you tokenize the data set? What will consist of a singular sequence, a poem, a stanza, or a line? Do you keep some words tokenized as bigrams? Do you split hyphenated words? How will you handle punctuation? \n",
    "\n",
    "Tokenize words in sonnet\n",
    "Keep apostrophes and hyphens in a given word and remove other punctuation\n",
    "\n",
    "Map words to a unique ID in a dictionary. Then map unique ID to number of syllables another dictionary.\n",
    "\n",
    "Get syllables."
   ]
  },
  {
   "cell_type": "code",
   "execution_count": 1,
   "metadata": {},
   "outputs": [
    {
     "name": "stderr",
     "output_type": "stream",
     "text": [
      "[nltk_data] Error loading cmudict: <urlopen error [SSL:\n",
      "[nltk_data]     CERTIFICATE_VERIFY_FAILED] certificate verify failed\n",
      "[nltk_data]     (_ssl.c:749)>\n"
     ]
    }
   ],
   "source": [
    "import itertools\n",
    "import nltk\n",
    "from nltk.corpus import cmudict\n",
    "nltk.download('cmudict')\n",
    "import pickle\n",
    "import networkx \n",
    "from networkx.algorithms.components.connected import connected_components\n",
    "import matplotlib.pyplot as plt\n",
    "import numpy as np"
   ]
  },
  {
   "cell_type": "code",
   "execution_count": 2,
   "metadata": {},
   "outputs": [],
   "source": [
    "def clean_up_quotes(word):\n",
    "    exception_words = [\"'this\", \"'thou\", \"'had\", \"'thus\", \"'truth\", \"'now\", \"'will\", \"will'\", \"'will'\", \"'i\", \"'not\"\n",
    "                       , \"hate'\", \"none'\", \"love'\", \"you'\", \"excuse'\", \"intermixed'\", \"best'\", \"friend'\"]\n",
    "    \n",
    "    if word in exception_words:\n",
    "        word = word.strip('\\'')\n",
    "    return word\n",
    "    "
   ]
  },
  {
   "cell_type": "code",
   "execution_count": 3,
   "metadata": {},
   "outputs": [],
   "source": [
    "def get_sonnets(filename):\n",
    "    \"\"\" Returns list of separate sonnets in the file. \n",
    "    Each line of a sonnet is a list of words (tokens). \"\"\"\n",
    "    with open(filename) as file:\n",
    "        sons, son = [], []\n",
    "        for line in file:\n",
    "            line = line.strip()\n",
    "            if line.isdigit() == False:\n",
    "                lst = line.lower().translate(str.maketrans('', '', ':;,.?!()')).split()\n",
    "                cleaned_list = []\n",
    "                \n",
    "                for word in lst:\n",
    "                    cleaned_list.append(clean_up_quotes(word))\n",
    "                \n",
    "                lst = cleaned_list    \n",
    "                if len(lst) > 0: # count words in line\n",
    "                    son.append(lst)\n",
    "                elif len(son) > 0:\n",
    "                    sons.append(son)\n",
    "                    son = []\n",
    "    sons.append(son) # add the final sonnet\n",
    "    return sons"
   ]
  },
  {
   "cell_type": "code",
   "execution_count": 4,
   "metadata": {},
   "outputs": [
    {
     "name": "stdout",
     "output_type": "stream",
     "text": [
      "98\n",
      "125\n"
     ]
    }
   ],
   "source": [
    "file = 'data/shakespeare.txt'\n",
    "sonnets = get_sonnets(file)\n",
    "\n",
    "# The sonnets 99 and 126 (at indices 98 and 125)\n",
    "# do not count as sonnets, since they are not 14 lines long\n",
    "for i in range(len(sonnets)):\n",
    "    if len(sonnets[i]) != 14:\n",
    "        print(i)\n",
    "        \n",
    "sonnets = sonnets[:98] + sonnets[99:125] + sonnets[126:]\n",
    "\n",
    "with open('data/sonnets.pkl', 'wb') as f:\n",
    "    pickle.dump(sonnets, f)"
   ]
  },
  {
   "cell_type": "code",
   "execution_count": 5,
   "metadata": {},
   "outputs": [
    {
     "data": {
      "image/png": "[encoded data removed]",
      "text/plain": [
       "<Figure size 432x288 with 1 Axes>"
      ]
     },
     "metadata": {
      "needs_background": "light"
     },
     "output_type": "display_data"
    }
   ],
   "source": [
    "# plot word count distribution per line\n",
    "lines = list(itertools.chain.from_iterable(sonnets))\n",
    "word_count = [len(line) for line in lines]\n",
    "\n",
    "_ = plt.hist(word_count, bins=np.arange(0.5, 12.5, 1))\n",
    "_ = plt.title('Histogram of Word Count Distribution per Line')\n",
    "_ = plt.xlabel('Word Count')\n",
    "_ = plt.ylabel('Frequency (Number of Words)')\n",
    "plt.savefig('visuals/word_count.png')\n",
    "_ = plt.show()"
   ]
  },
  {
   "cell_type": "code",
   "execution_count": 6,
   "metadata": {},
   "outputs": [],
   "source": [
    "d = cmudict.dict()\n",
    "def count_syl(word):\n",
    "    \"\"\" Returns number of syllables in a word. Taken\n",
    "    from StackOverflow. \"\"\"\n",
    "    if word in d:\n",
    "        return len(list(y for y in d[word][0] if y[-1].isdigit()))\n",
    "    count = 0\n",
    "    vowels = 'aeiouy'\n",
    "    \n",
    "    if word[0] in vowels:\n",
    "        count +=1\n",
    "    for index in range(1,len(word)):\n",
    "        if word[index] in vowels and word[index-1] not in vowels:\n",
    "            count +=1\n",
    "    if word.endswith('e'):\n",
    "        count -= 1\n",
    "    if word.endswith('le'):\n",
    "        count+=1\n",
    "    if count == 0:\n",
    "        count +=1\n",
    "    return count\n",
    "\n",
    "def get_syl(dic_to_ids):\n",
    "    \"\"\" Returns dictionary of IDs to syllables given \n",
    "    a dictionary mapping words to ids. \"\"\"\n",
    "    dic = {}\n",
    "    for word in dic_to_ids.keys():\n",
    "        word = clean_up_quotes(word)\n",
    "        id_ = dic_to_ids[word]\n",
    "        dic[id_] = sum(count_syl(w) for w in word.split(\"-\"))\n",
    "        \n",
    "    return dic"
   ]
  },
  {
   "cell_type": "code",
   "execution_count": 7,
   "metadata": {},
   "outputs": [],
   "source": [
    "def get_id(lines):\n",
    "    \"\"\" Returns dictionary of words to IDs and \n",
    "    dictionary of IDs to words. \"\"\"\n",
    "    dic_to_ids, dic_to_words = {}, {}\n",
    "    id_ = 0\n",
    "    \n",
    "    for line in lines:\n",
    "        for word in line:\n",
    "            word = clean_up_quotes(word)\n",
    "            if word not in dic_to_ids:\n",
    "                dic_to_ids[word] = id_\n",
    "                dic_to_words[id_] = word\n",
    "                id_ += 1\n",
    "    return dic_to_ids, dic_to_words"
   ]
  },
  {
   "cell_type": "code",
   "execution_count": 8,
   "metadata": {},
   "outputs": [],
   "source": [
    "def get_mappings(sonnets, name):\n",
    "    \"\"\" Returns dictionary of words to IDs, dictionary of IDs to words, \n",
    "    and dictionary of IDs to syllables. \"\"\"    \n",
    "    lines = list(itertools.chain.from_iterable(sonnets)) # list of lines\n",
    "    dic_to_ids, dic_to_words = get_id(lines)\n",
    "    dic_to_syl = get_syl(dic_to_ids)\n",
    "    \n",
    "    ids_to_dic = {v: k for k,v in dic_to_ids.items()}\n",
    "    words_to_dic = {v: k for k,v in dic_to_words.items()}\n",
    "    \n",
    "    syl_to_dic = {}\n",
    "    \n",
    "    for dic_val in dic_to_syl:\n",
    "        syl_val = dic_to_syl[dic_val]\n",
    "        \n",
    "        if syl_val not in syl_to_dic:\n",
    "            syl_to_dic[syl_val] = []\n",
    "        \n",
    "        syl_to_dic[syl_val].append(dic_val)\n",
    "    \n",
    "    with open(name, 'wb') as f:\n",
    "        pickle.dump((dic_to_ids, dic_to_words, dic_to_syl, ids_to_dic, words_to_dic, syl_to_dic), f)\n",
    "    \n",
    "    return dic_to_ids, dic_to_words, dic_to_syl, ids_to_dic, words_to_dic, syl_to_dic"
   ]
  },
  {
   "cell_type": "code",
   "execution_count": 9,
   "metadata": {},
   "outputs": [],
   "source": [
    "dic_to_ids, dic_to_words, dic_to_syl, ids_to_dic, words_to_dic, syl_to_dic = get_mappings(sonnets, 'data/shakespeare_dics.pkl')\n"
   ]
  },
  {
   "cell_type": "code",
   "execution_count": 10,
   "metadata": {},
   "outputs": [
    {
     "data": {
      "image/png": "[encoded data removed]",
      "text/plain": [
       "<Figure size 432x288 with 1 Axes>"
      ]
     },
     "metadata": {
      "needs_background": "light"
     },
     "output_type": "display_data"
    }
   ],
   "source": [
    "_ = plt.hist(list(dic_to_syl.values()), bins=np.arange(0.5, 8.5, 1))\n",
    "_ = plt.title('Histogram of Syllable Count Distribution for Unique Words')\n",
    "_ = plt.xlabel('Syllable Count')\n",
    "_ = plt.ylabel('Frequency (Number of Words)')\n",
    "plt.savefig('visuals/syllables.png')\n",
    "_ = plt.show()"
   ]
  },
  {
   "cell_type": "markdown",
   "metadata": {},
   "source": [
    "# Additional Goals: Rhymes"
   ]
  },
  {
   "cell_type": "code",
   "execution_count": 11,
   "metadata": {},
   "outputs": [],
   "source": [
    "def get_rhymes(sonnets):\n",
    "    \"\"\" Returns list of pairs of rhyming words in each sonnet. \"\"\"\n",
    "    rhyme = []\n",
    "    last_words = [] # compile all last words\n",
    "    for son in sonnets:\n",
    "        lst = [] # store list of last words in each line\n",
    "        for line in son:\n",
    "            lst.append(line[-1])\n",
    "        last_words.append(lst)\n",
    "    \n",
    "    # get pairs of rhyming words\n",
    "    for son in last_words:\n",
    "        for i in [0, 1, 4, 5, 8, 9]:\n",
    "            rhyme.append([son[i], son[i + 2]])\n",
    "        rhyme.append([son[12], son[13]])\n",
    "    \n",
    "    # remove duplicates\n",
    "    rhyme = [list(set(r)) for r in rhyme]\n",
    "    return rhyme"
   ]
  },
  {
   "cell_type": "code",
   "execution_count": 12,
   "metadata": {},
   "outputs": [],
   "source": [
    "def to_graph(l):\n",
    "    G = networkx.Graph()\n",
    "    for part in l:\n",
    "        # each sublist is a bunch of nodes\n",
    "        G.add_nodes_from(part)\n",
    "        # it also imlies a number of edges:\n",
    "        G.add_edges_from(to_edges(part))\n",
    "    return G\n",
    "\n",
    "def to_edges(l):\n",
    "    \"\"\" \n",
    "        treat `l` as a Graph and returns it's edges \n",
    "        to_edges(['a','b','c','d']) -> [(a,b), (b,c),(c,d)]\n",
    "    \"\"\"\n",
    "    it = iter(l)\n",
    "    last = next(it)\n",
    "\n",
    "    for current in it:\n",
    "        yield last, current\n",
    "        last = current    \n",
    "\n",
    "def get_all_rhymes(name):\n",
    "    \"\"\" Returns list of lists of rhyming words from sonnets. \"\"\"\n",
    "    rhyme = get_rhymes(sonnets)\n",
    "    G = to_graph(rhyme)\n",
    "    all_r = connected_components(G)\n",
    "    all_rhymes = [list(r) for r in all_r]\n",
    "    \n",
    "    with open(name, 'wb') as f:\n",
    "        pickle.dump(all_rhymes, f)\n",
    "\n",
    "    return all_rhymes"
   ]
  },
  {
   "cell_type": "code",
   "execution_count": 13,
   "metadata": {},
   "outputs": [],
   "source": [
    "all_r = get_all_rhymes('data/shakespeare_rhymes.pkl')"
   ]
  },
  {
   "cell_type": "code",
   "execution_count": 14,
   "metadata": {},
   "outputs": [],
   "source": [
    "rhyme_count = [len(r) for r in all_r]"
   ]
  },
  {
   "cell_type": "code",
   "execution_count": 15,
   "metadata": {},
   "outputs": [
    {
     "data": {
      "image/png": "[encoded data removed]",
      "text/plain": [
       "<Figure size 432x288 with 1 Axes>"
      ]
     },
     "metadata": {
      "needs_background": "light"
     },
     "output_type": "display_data"
    }
   ],
   "source": [
    "_ = plt.hist(rhyme_count, bins=np.arange(0, 25.5, 1))\n",
    "_ = plt.title('Histogram of Word Count Distribution for Rhyming Words')\n",
    "_ = plt.xlabel('Word Count')\n",
    "_ = plt.ylabel('Frequency (Number of Words)')\n",
    "plt.savefig('visuals/rhyme_word_count.png')\n",
    "_ = plt.show()"
   ]
  },
  {
   "cell_type": "markdown",
   "metadata": {},
   "source": [
    "# Meter"
   ]
  },
  {
   "cell_type": "code",
   "execution_count": 16,
   "metadata": {},
   "outputs": [],
   "source": [
    "def get_meter(name, lines):\n",
    "    \"\"\" Returns dictionary mapping unstressed/stressed\n",
    "    syllables to words. \"\"\"\n",
    "    meter = {}\n",
    "    \n",
    "    for line in lines:\n",
    "        total_syl = 0\n",
    "        for word in line:\n",
    "            word = clean_up_quotes(word)\n",
    "            syl = count_syl(word) # get count of syllables\n",
    "            \n",
    "            stresses = []\n",
    "            # determine how may unstressed/stressed syllables \n",
    "            # there are in the word\n",
    "            for i in range(syl):\n",
    "                if (total_syl + i) % 2 == 0: \n",
    "                    stresses.append(0)\n",
    "                else:\n",
    "                    stresses.append(1)\n",
    "\n",
    "            stress = ', '.join(str(i) for i in stresses)\n",
    "            if stress in meter.keys():\n",
    "                meter[stress].add(word)\n",
    "            else:\n",
    "                meter[stress] = set()\n",
    "                meter[stress].add(word)\n",
    "\n",
    "            total_syl += syl\n",
    "            \n",
    "    with open(name, 'wb') as f:\n",
    "        pickle.dump(meter, f)\n",
    "    \n",
    "    dic_to_meter = {}\n",
    "    \n",
    "    for met_val in meter:\n",
    "        for dic_val in meter[met_val]:\n",
    "            dic_to_meter[dic_val] = met_val\n",
    "            \n",
    "    with open('data/dic_to_meter.pkl', 'wb') as f:\n",
    "        pickle.dump(dic_to_meter, f)\n",
    "        \n",
    "    return meter"
   ]
  },
  {
   "cell_type": "code",
   "execution_count": 17,
   "metadata": {},
   "outputs": [],
   "source": [
    "meter_to_dic = get_meter('data/meter_to_dic.pkl', lines)"
   ]
  },
  {
   "cell_type": "code",
   "execution_count": null,
   "metadata": {},
   "outputs": [],
   "source": []
  }
 ],
 "metadata": {
  "kernelspec": {
   "display_name": "Python 3",
   "language": "python",
   "name": "python3"
  },
  "language_info": {
   "codemirror_mode": {
    "name": "ipython",
    "version": 3
   },
   "file_extension": ".py",
   "mimetype": "text/x-python",
   "name": "python",
   "nbconvert_exporter": "python",
   "pygments_lexer": "ipython3",
   "version": "3.6.0"
  }
 },
 "nbformat": 4,
 "nbformat_minor": 2
}
